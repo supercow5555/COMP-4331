{
  "cells": [
    {
      "cell_type": "markdown",
      "metadata": {
        "id": "5c90dXtRFRkO"
      },
      "source": [
        "# Comp4331 Assignment 1"
      ]
    },
    {
      "cell_type": "markdown",
      "metadata": {
        "id": "ksLNEuRRFRkS"
      },
      "source": [
        "## Preparing the dataset"
      ]
    },
    {
      "cell_type": "code",
      "execution_count": 5,
      "metadata": {
        "colab": {
          "base_uri": "https://localhost:8080/"
        },
        "id": "JoSIveXQFRkT",
        "outputId": "9427f05d-86d5-4fe7-e8c8-3ddbf3f40699"
      },
      "outputs": [
        {
          "name": "stdout",
          "output_type": "stream",
          "text": [
            "\">> 1. remove old data if exists.\"\n"
          ]
        },
        {
          "name": "stderr",
          "output_type": "stream",
          "text": [
            "'[' is not recognized as an internal or external command,\n",
            "operable program or batch file.\n"
          ]
        },
        {
          "name": "stdout",
          "output_type": "stream",
          "text": [
            "\">> 2. download data from UCI.\"\n"
          ]
        },
        {
          "name": "stderr",
          "output_type": "stream",
          "text": [
            "--2021-10-18 01:38:02--  https://archive.ics.uci.edu/ml/machine-learning-databases/00320/student.zip\n",
            "Resolving archive.ics.uci.edu (archive.ics.uci.edu)... 128.195.10.252\n",
            "Connecting to archive.ics.uci.edu (archive.ics.uci.edu)|128.195.10.252|:443... connected.\n",
            "HTTP request sent, awaiting response... 200 OK\n",
            "Length: 20478 (20K) [application/x-httpd-php]\n",
            "Saving to: 'student.zip.1'\n",
            "\n",
            "     0K .......... .........                                  100% 97.7K=0.2s\n",
            "\n",
            "2021-10-18 01:38:03 (97.7 KB/s) - 'student.zip.1' saved [20478/20478]\n",
            "\n"
          ]
        },
        {
          "name": "stdout",
          "output_type": "stream",
          "text": [
            "\">> 3. unzip the data.\"\n"
          ]
        },
        {
          "name": "stderr",
          "output_type": "stream",
          "text": [
            "'unzip' is not recognized as an internal or external command,\n",
            "operable program or batch file.\n"
          ]
        },
        {
          "name": "stdout",
          "output_type": "stream",
          "text": [
            "\">> 4. remove unnecessary files.\"\n"
          ]
        },
        {
          "name": "stderr",
          "output_type": "stream",
          "text": [
            "'rm' is not recognized as an internal or external command,\n",
            "operable program or batch file.\n"
          ]
        },
        {
          "name": "stdout",
          "output_type": "stream",
          "text": [
            "\">> 5. finished!\"\n"
          ]
        }
      ],
      "source": [
        "!echo \">> 1. remove old data if exists.\"\n",
        "![ -e \"student-por.csv\" ] && rm \"student-por.csv\"\n",
        "!echo \">> 2. download data from UCI.\"\n",
        "!wget \"https://archive.ics.uci.edu/ml/machine-learning-databases/00320/student.zip\"\n",
        "!echo \">> 3. unzip the data.\"\n",
        "!unzip student.zip\n",
        "!echo \">> 4. remove unnecessary files.\"\n",
        "!rm \"student.zip\" \"student-mat.csv\" \"student-merge.R\" \"student.txt\"\n",
        "!echo \">> 5. finished!\""
      ]
    },
    {
      "cell_type": "code",
      "execution_count": 4,
      "metadata": {
        "id": "7bMftwuDFRkV"
      },
      "outputs": [],
      "source": [
        "import seaborn as sns\n",
        "import numpy as np\n",
        "import pandas as pd\n",
        "import matplotlib.pyplot as plt\n",
        "import scipy\n",
        "import sklearn"
      ]
    },
    {
      "cell_type": "code",
      "execution_count": 5,
      "metadata": {
        "id": "TLfFVd48FRkW"
      },
      "outputs": [],
      "source": [
        "data_file = r\"C:\\Users\\kkaus\\OneDrive - HKUST Connect\\Courses\\Year 3\\COMP 4331\\Coding Folder\\Assignments\\Assignment 1\\data\\student-por.csv\""
      ]
    },
    {
      "cell_type": "code",
      "execution_count": 6,
      "metadata": {
        "id": "xu4X_gOpFRkW"
      },
      "outputs": [],
      "source": [
        "data_df = pd.read_csv(data_file, sep=';')"
      ]
    },
    {
      "cell_type": "code",
      "execution_count": 24,
      "metadata": {},
      "outputs": [
        {
          "data": {
            "text/plain": [
              "(649, 33)"
            ]
          },
          "execution_count": 24,
          "metadata": {},
          "output_type": "execute_result"
        }
      ],
      "source": [
        "data_df.shape"
      ]
    },
    {
      "cell_type": "code",
      "execution_count": 7,
      "metadata": {
        "colab": {
          "base_uri": "https://localhost:8080/",
          "height": 379
        },
        "id": "k5E2FE8oFRkW",
        "outputId": "4fb4bc01-4cef-4432-f0dc-c78d860f1942"
      },
      "outputs": [
        {
          "data": {
            "text/html": [
              "<div>\n",
              "<style scoped>\n",
              "    .dataframe tbody tr th:only-of-type {\n",
              "        vertical-align: middle;\n",
              "    }\n",
              "\n",
              "    .dataframe tbody tr th {\n",
              "        vertical-align: top;\n",
              "    }\n",
              "\n",
              "    .dataframe thead th {\n",
              "        text-align: right;\n",
              "    }\n",
              "</style>\n",
              "<table border=\"1\" class=\"dataframe\">\n",
              "  <thead>\n",
              "    <tr style=\"text-align: right;\">\n",
              "      <th></th>\n",
              "      <th>school</th>\n",
              "      <th>sex</th>\n",
              "      <th>age</th>\n",
              "      <th>address</th>\n",
              "      <th>famsize</th>\n",
              "      <th>Pstatus</th>\n",
              "      <th>Medu</th>\n",
              "      <th>Fedu</th>\n",
              "      <th>Mjob</th>\n",
              "      <th>Fjob</th>\n",
              "      <th>...</th>\n",
              "      <th>famrel</th>\n",
              "      <th>freetime</th>\n",
              "      <th>goout</th>\n",
              "      <th>Dalc</th>\n",
              "      <th>Walc</th>\n",
              "      <th>health</th>\n",
              "      <th>absences</th>\n",
              "      <th>G1</th>\n",
              "      <th>G2</th>\n",
              "      <th>G3</th>\n",
              "    </tr>\n",
              "  </thead>\n",
              "  <tbody>\n",
              "    <tr>\n",
              "      <th>0</th>\n",
              "      <td>GP</td>\n",
              "      <td>F</td>\n",
              "      <td>18</td>\n",
              "      <td>U</td>\n",
              "      <td>GT3</td>\n",
              "      <td>A</td>\n",
              "      <td>4</td>\n",
              "      <td>4</td>\n",
              "      <td>at_home</td>\n",
              "      <td>teacher</td>\n",
              "      <td>...</td>\n",
              "      <td>4</td>\n",
              "      <td>3</td>\n",
              "      <td>4</td>\n",
              "      <td>1</td>\n",
              "      <td>1</td>\n",
              "      <td>3</td>\n",
              "      <td>4</td>\n",
              "      <td>0</td>\n",
              "      <td>11</td>\n",
              "      <td>11</td>\n",
              "    </tr>\n",
              "    <tr>\n",
              "      <th>1</th>\n",
              "      <td>GP</td>\n",
              "      <td>F</td>\n",
              "      <td>17</td>\n",
              "      <td>U</td>\n",
              "      <td>GT3</td>\n",
              "      <td>T</td>\n",
              "      <td>1</td>\n",
              "      <td>1</td>\n",
              "      <td>at_home</td>\n",
              "      <td>other</td>\n",
              "      <td>...</td>\n",
              "      <td>5</td>\n",
              "      <td>3</td>\n",
              "      <td>3</td>\n",
              "      <td>1</td>\n",
              "      <td>1</td>\n",
              "      <td>3</td>\n",
              "      <td>2</td>\n",
              "      <td>9</td>\n",
              "      <td>11</td>\n",
              "      <td>11</td>\n",
              "    </tr>\n",
              "    <tr>\n",
              "      <th>2</th>\n",
              "      <td>GP</td>\n",
              "      <td>F</td>\n",
              "      <td>15</td>\n",
              "      <td>U</td>\n",
              "      <td>LE3</td>\n",
              "      <td>T</td>\n",
              "      <td>1</td>\n",
              "      <td>1</td>\n",
              "      <td>at_home</td>\n",
              "      <td>other</td>\n",
              "      <td>...</td>\n",
              "      <td>4</td>\n",
              "      <td>3</td>\n",
              "      <td>2</td>\n",
              "      <td>2</td>\n",
              "      <td>3</td>\n",
              "      <td>3</td>\n",
              "      <td>6</td>\n",
              "      <td>12</td>\n",
              "      <td>13</td>\n",
              "      <td>12</td>\n",
              "    </tr>\n",
              "    <tr>\n",
              "      <th>3</th>\n",
              "      <td>GP</td>\n",
              "      <td>F</td>\n",
              "      <td>15</td>\n",
              "      <td>U</td>\n",
              "      <td>GT3</td>\n",
              "      <td>T</td>\n",
              "      <td>4</td>\n",
              "      <td>2</td>\n",
              "      <td>health</td>\n",
              "      <td>services</td>\n",
              "      <td>...</td>\n",
              "      <td>3</td>\n",
              "      <td>2</td>\n",
              "      <td>2</td>\n",
              "      <td>1</td>\n",
              "      <td>1</td>\n",
              "      <td>5</td>\n",
              "      <td>0</td>\n",
              "      <td>14</td>\n",
              "      <td>14</td>\n",
              "      <td>14</td>\n",
              "    </tr>\n",
              "    <tr>\n",
              "      <th>4</th>\n",
              "      <td>GP</td>\n",
              "      <td>F</td>\n",
              "      <td>16</td>\n",
              "      <td>U</td>\n",
              "      <td>GT3</td>\n",
              "      <td>T</td>\n",
              "      <td>3</td>\n",
              "      <td>3</td>\n",
              "      <td>other</td>\n",
              "      <td>other</td>\n",
              "      <td>...</td>\n",
              "      <td>4</td>\n",
              "      <td>3</td>\n",
              "      <td>2</td>\n",
              "      <td>1</td>\n",
              "      <td>2</td>\n",
              "      <td>5</td>\n",
              "      <td>0</td>\n",
              "      <td>11</td>\n",
              "      <td>13</td>\n",
              "      <td>13</td>\n",
              "    </tr>\n",
              "    <tr>\n",
              "      <th>5</th>\n",
              "      <td>GP</td>\n",
              "      <td>M</td>\n",
              "      <td>16</td>\n",
              "      <td>U</td>\n",
              "      <td>LE3</td>\n",
              "      <td>T</td>\n",
              "      <td>4</td>\n",
              "      <td>3</td>\n",
              "      <td>services</td>\n",
              "      <td>other</td>\n",
              "      <td>...</td>\n",
              "      <td>5</td>\n",
              "      <td>4</td>\n",
              "      <td>2</td>\n",
              "      <td>1</td>\n",
              "      <td>2</td>\n",
              "      <td>5</td>\n",
              "      <td>6</td>\n",
              "      <td>12</td>\n",
              "      <td>12</td>\n",
              "      <td>13</td>\n",
              "    </tr>\n",
              "    <tr>\n",
              "      <th>6</th>\n",
              "      <td>GP</td>\n",
              "      <td>M</td>\n",
              "      <td>16</td>\n",
              "      <td>U</td>\n",
              "      <td>LE3</td>\n",
              "      <td>T</td>\n",
              "      <td>2</td>\n",
              "      <td>2</td>\n",
              "      <td>other</td>\n",
              "      <td>other</td>\n",
              "      <td>...</td>\n",
              "      <td>4</td>\n",
              "      <td>4</td>\n",
              "      <td>4</td>\n",
              "      <td>1</td>\n",
              "      <td>1</td>\n",
              "      <td>3</td>\n",
              "      <td>0</td>\n",
              "      <td>13</td>\n",
              "      <td>12</td>\n",
              "      <td>13</td>\n",
              "    </tr>\n",
              "    <tr>\n",
              "      <th>7</th>\n",
              "      <td>GP</td>\n",
              "      <td>F</td>\n",
              "      <td>17</td>\n",
              "      <td>U</td>\n",
              "      <td>GT3</td>\n",
              "      <td>A</td>\n",
              "      <td>4</td>\n",
              "      <td>4</td>\n",
              "      <td>other</td>\n",
              "      <td>teacher</td>\n",
              "      <td>...</td>\n",
              "      <td>4</td>\n",
              "      <td>1</td>\n",
              "      <td>4</td>\n",
              "      <td>1</td>\n",
              "      <td>1</td>\n",
              "      <td>1</td>\n",
              "      <td>2</td>\n",
              "      <td>10</td>\n",
              "      <td>13</td>\n",
              "      <td>13</td>\n",
              "    </tr>\n",
              "    <tr>\n",
              "      <th>8</th>\n",
              "      <td>GP</td>\n",
              "      <td>M</td>\n",
              "      <td>15</td>\n",
              "      <td>U</td>\n",
              "      <td>LE3</td>\n",
              "      <td>A</td>\n",
              "      <td>3</td>\n",
              "      <td>2</td>\n",
              "      <td>services</td>\n",
              "      <td>other</td>\n",
              "      <td>...</td>\n",
              "      <td>4</td>\n",
              "      <td>2</td>\n",
              "      <td>2</td>\n",
              "      <td>1</td>\n",
              "      <td>1</td>\n",
              "      <td>1</td>\n",
              "      <td>0</td>\n",
              "      <td>15</td>\n",
              "      <td>16</td>\n",
              "      <td>17</td>\n",
              "    </tr>\n",
              "    <tr>\n",
              "      <th>9</th>\n",
              "      <td>GP</td>\n",
              "      <td>M</td>\n",
              "      <td>15</td>\n",
              "      <td>U</td>\n",
              "      <td>GT3</td>\n",
              "      <td>T</td>\n",
              "      <td>3</td>\n",
              "      <td>4</td>\n",
              "      <td>other</td>\n",
              "      <td>other</td>\n",
              "      <td>...</td>\n",
              "      <td>5</td>\n",
              "      <td>5</td>\n",
              "      <td>1</td>\n",
              "      <td>1</td>\n",
              "      <td>1</td>\n",
              "      <td>5</td>\n",
              "      <td>0</td>\n",
              "      <td>12</td>\n",
              "      <td>12</td>\n",
              "      <td>13</td>\n",
              "    </tr>\n",
              "  </tbody>\n",
              "</table>\n",
              "<p>10 rows × 33 columns</p>\n",
              "</div>"
            ],
            "text/plain": [
              "  school sex  age address famsize Pstatus  Medu  Fedu      Mjob      Fjob  \\\n",
              "0     GP   F   18       U     GT3       A     4     4   at_home   teacher   \n",
              "1     GP   F   17       U     GT3       T     1     1   at_home     other   \n",
              "2     GP   F   15       U     LE3       T     1     1   at_home     other   \n",
              "3     GP   F   15       U     GT3       T     4     2    health  services   \n",
              "4     GP   F   16       U     GT3       T     3     3     other     other   \n",
              "5     GP   M   16       U     LE3       T     4     3  services     other   \n",
              "6     GP   M   16       U     LE3       T     2     2     other     other   \n",
              "7     GP   F   17       U     GT3       A     4     4     other   teacher   \n",
              "8     GP   M   15       U     LE3       A     3     2  services     other   \n",
              "9     GP   M   15       U     GT3       T     3     4     other     other   \n",
              "\n",
              "   ... famrel freetime  goout  Dalc  Walc health absences  G1  G2  G3  \n",
              "0  ...      4        3      4     1     1      3        4   0  11  11  \n",
              "1  ...      5        3      3     1     1      3        2   9  11  11  \n",
              "2  ...      4        3      2     2     3      3        6  12  13  12  \n",
              "3  ...      3        2      2     1     1      5        0  14  14  14  \n",
              "4  ...      4        3      2     1     2      5        0  11  13  13  \n",
              "5  ...      5        4      2     1     2      5        6  12  12  13  \n",
              "6  ...      4        4      4     1     1      3        0  13  12  13  \n",
              "7  ...      4        1      4     1     1      1        2  10  13  13  \n",
              "8  ...      4        2      2     1     1      1        0  15  16  17  \n",
              "9  ...      5        5      1     1     1      5        0  12  12  13  \n",
              "\n",
              "[10 rows x 33 columns]"
            ]
          },
          "execution_count": 7,
          "metadata": {},
          "output_type": "execute_result"
        }
      ],
      "source": [
        "data_df.head(10)"
      ]
    },
    {
      "cell_type": "markdown",
      "metadata": {
        "id": "WC1I0m4XFRkX"
      },
      "source": [
        "## Task 1. Basic summary"
      ]
    },
    {
      "cell_type": "code",
      "execution_count": 15,
      "metadata": {
        "id": "CQvmriIuFRkY"
      },
      "outputs": [
        {
          "name": "stdout",
          "output_type": "stream",
          "text": [
            "Age mean: 16.7442218798151\n",
            "Age median: 17.0\n",
            "Age mode: 0    17\n",
            "dtype: int64\n"
          ]
        },
        {
          "data": {
            "text/plain": [
              "count    649.000000\n",
              "mean      16.744222\n",
              "std        1.218138\n",
              "min       15.000000\n",
              "25%       16.000000\n",
              "50%       17.000000\n",
              "75%       18.000000\n",
              "max       22.000000\n",
              "Name: age, dtype: float64"
            ]
          },
          "execution_count": 15,
          "metadata": {},
          "output_type": "execute_result"
        }
      ],
      "source": [
        "# Age attribute\n",
        "\n",
        "age_mean = data_df['age'].mean()\n",
        "age_median = data_df['age'].median()\n",
        "age_mode = data_df['age'].mode()\n",
        "\n",
        "print(\"Age mean:\", age_mean)\n",
        "print(\"Age median:\", age_median)\n",
        "print(\"Age mode:\", age_mode)\n",
        "\n",
        "data_df['age'].describe()"
      ]
    },
    {
      "cell_type": "code",
      "execution_count": 16,
      "metadata": {},
      "outputs": [
        {
          "name": "stdout",
          "output_type": "stream",
          "text": [
            "G1 mean: 11.399075500770415\n",
            "G1 median: 11.0\n",
            "G1 mode: 0    10\n",
            "dtype: int64\n"
          ]
        },
        {
          "data": {
            "text/plain": [
              "count    649.000000\n",
              "mean      11.399076\n",
              "std        2.745265\n",
              "min        0.000000\n",
              "25%       10.000000\n",
              "50%       11.000000\n",
              "75%       13.000000\n",
              "max       19.000000\n",
              "Name: G1, dtype: float64"
            ]
          },
          "execution_count": 16,
          "metadata": {},
          "output_type": "execute_result"
        }
      ],
      "source": [
        "# G1 attribute\n",
        "\n",
        "G1_mean = data_df['G1'].mean()\n",
        "G1_median = data_df['G1'].median()\n",
        "G1_mode = data_df['G1'].mode()\n",
        "\n",
        "print(\"G1 mean:\", G1_mean)\n",
        "print(\"G1 median:\", G1_median)\n",
        "print(\"G1 mode:\", G1_mode)\n",
        "\n",
        "data_df['G1'].describe()\n",
        "\n",
        "# put in one cell, find a better way to display 5 number count"
      ]
    },
    {
      "cell_type": "markdown",
      "metadata": {
        "id": "8XiEGUt2FRkY"
      },
      "source": [
        "## Task 2. Box plot"
      ]
    },
    {
      "cell_type": "code",
      "execution_count": 18,
      "metadata": {
        "id": "qKUcWVy0FRkZ"
      },
      "outputs": [
        {
          "data": {
            "image/png": "[encoded data removed]",
            "text/plain": [
              "<Figure size 432x288 with 1 Axes>"
            ]
          },
          "metadata": {
            "needs_background": "light"
          },
          "output_type": "display_data"
        }
      ],
      "source": [
        "# G2 Boxplot\n",
        "\n",
        "sns.boxplot(data=data_df, y=\"G2\");"
      ]
    },
    {
      "cell_type": "code",
      "execution_count": 19,
      "metadata": {},
      "outputs": [
        {
          "data": {
            "image/png": "[encoded data removed]",
            "text/plain": [
              "<Figure size 432x288 with 1 Axes>"
            ]
          },
          "metadata": {
            "needs_background": "light"
          },
          "output_type": "display_data"
        }
      ],
      "source": [
        "# G2 Boxplot and Sex\n",
        "\n",
        "sns.boxplot(data=data_df, y=\"G2\", x='sex');\n"
      ]
    },
    {
      "cell_type": "code",
      "execution_count": 20,
      "metadata": {},
      "outputs": [
        {
          "data": {
            "image/png": "[encoded data removed]",
            "text/plain": [
              "<Figure size 432x288 with 1 Axes>"
            ]
          },
          "metadata": {
            "needs_background": "light"
          },
          "output_type": "display_data"
        }
      ],
      "source": [
        "# G2 Boxplot and Alcohol Consumption\n",
        "\n",
        "sns.boxplot(data=data_df, y=\"G2\", x='Dalc');\n",
        "\n",
        "#combine all histograms and add titles\n"
      ]
    },
    {
      "cell_type": "markdown",
      "metadata": {
        "id": "cXqfcvGAFRkZ"
      },
      "source": [
        "## Task 3. Hist plot"
      ]
    },
    {
      "cell_type": "code",
      "execution_count": 21,
      "metadata": {
        "id": "J9r00oA4FRkZ"
      },
      "outputs": [
        {
          "data": {
            "image/png": "[encoded data removed]",
            "text/plain": [
              "<Figure size 432x288 with 1 Axes>"
            ]
          },
          "metadata": {
            "needs_background": "light"
          },
          "output_type": "display_data"
        }
      ],
      "source": [
        "# Age histogram\n",
        "\n",
        "sns.histplot(data=data_df, x=\"age\", bins=8);"
      ]
    },
    {
      "cell_type": "code",
      "execution_count": 22,
      "metadata": {},
      "outputs": [
        {
          "data": {
            "image/png": "[encoded data removed]",
            "text/plain": [
              "<Figure size 432x288 with 1 Axes>"
            ]
          },
          "metadata": {
            "needs_background": "light"
          },
          "output_type": "display_data"
        }
      ],
      "source": [
        "# absences histogram\n",
        "\n",
        "sns.histplot(data=data_df, x=\"absences\", bins=8);\n",
        "\n",
        "#combine both histograms"
      ]
    },
    {
      "cell_type": "markdown",
      "metadata": {
        "id": "uxdZUElAFRkZ"
      },
      "source": [
        "# Task 4. Scatter plot"
      ]
    },
    {
      "cell_type": "code",
      "execution_count": 26,
      "metadata": {
        "id": "FuBfJ-J6FRka"
      },
      "outputs": [
        {
          "data": {
            "image/png": "[encoded data removed]",
            "text/plain": [
              "<Figure size 432x288 with 1 Axes>"
            ]
          },
          "metadata": {
            "needs_background": "light"
          },
          "output_type": "display_data"
        }
      ],
      "source": [
        "sns.scatterplot(data=data_df, x=\"G2\", y=\"G3\");\n",
        "\n",
        "# add title\n"
      ]
    },
    {
      "cell_type": "code",
      "execution_count": 46,
      "metadata": {},
      "outputs": [
        {
          "data": {
            "text/html": [
              "<div>\n",
              "<style scoped>\n",
              "    .dataframe tbody tr th:only-of-type {\n",
              "        vertical-align: middle;\n",
              "    }\n",
              "\n",
              "    .dataframe tbody tr th {\n",
              "        vertical-align: top;\n",
              "    }\n",
              "\n",
              "    .dataframe thead th {\n",
              "        text-align: right;\n",
              "    }\n",
              "</style>\n",
              "<table border=\"1\" class=\"dataframe\">\n",
              "  <thead>\n",
              "    <tr style=\"text-align: right;\">\n",
              "      <th></th>\n",
              "      <th>G2</th>\n",
              "      <th>G3</th>\n",
              "    </tr>\n",
              "  </thead>\n",
              "  <tbody>\n",
              "    <tr>\n",
              "      <th>G2</th>\n",
              "      <td>1.000000</td>\n",
              "      <td>0.918548</td>\n",
              "    </tr>\n",
              "    <tr>\n",
              "      <th>G3</th>\n",
              "      <td>0.918548</td>\n",
              "      <td>1.000000</td>\n",
              "    </tr>\n",
              "  </tbody>\n",
              "</table>\n",
              "</div>"
            ],
            "text/plain": [
              "          G2        G3\n",
              "G2  1.000000  0.918548\n",
              "G3  0.918548  1.000000"
            ]
          },
          "execution_count": 46,
          "metadata": {},
          "output_type": "execute_result"
        }
      ],
      "source": [
        "data_df[[\"G2\",\"G3\"]].corr(method=\"pearson\")\n",
        "\n",
        "# Find a way to extract the number automatically\n",
        "\n"
      ]
    },
    {
      "cell_type": "code",
      "execution_count": 51,
      "metadata": {},
      "outputs": [
        {
          "name": "stdout",
          "output_type": "stream",
          "text": [
            "The correllation between G2 and G3: 0.919\n"
          ]
        }
      ],
      "source": [
        "corr_g2g3 = data_df[[\"G2\",\"G3\"]].corr(method=\"pearson\").iloc[1,0]\n",
        "print(\"The correllation between G2 and G3: {:.3f}\".format(corr_g2g3))"
      ]
    },
    {
      "cell_type": "markdown",
      "metadata": {
        "id": "E4zuSdubFRka"
      },
      "source": [
        "## Task 5. Correlation"
      ]
    },
    {
      "cell_type": "code",
      "execution_count": 52,
      "metadata": {
        "id": "iEcXOttPFRkb"
      },
      "outputs": [
        {
          "data": {
            "text/html": [
              "<div>\n",
              "<style scoped>\n",
              "    .dataframe tbody tr th:only-of-type {\n",
              "        vertical-align: middle;\n",
              "    }\n",
              "\n",
              "    .dataframe tbody tr th {\n",
              "        vertical-align: top;\n",
              "    }\n",
              "\n",
              "    .dataframe thead th {\n",
              "        text-align: right;\n",
              "    }\n",
              "</style>\n",
              "<table border=\"1\" class=\"dataframe\">\n",
              "  <thead>\n",
              "    <tr style=\"text-align: right;\">\n",
              "      <th></th>\n",
              "      <th>studytime</th>\n",
              "      <th>traveltime</th>\n",
              "      <th>age</th>\n",
              "      <th>absences</th>\n",
              "      <th>health</th>\n",
              "      <th>Walc</th>\n",
              "      <th>Dalc</th>\n",
              "      <th>famrel</th>\n",
              "      <th>goout</th>\n",
              "      <th>G2</th>\n",
              "      <th>G1</th>\n",
              "    </tr>\n",
              "  </thead>\n",
              "  <tbody>\n",
              "    <tr>\n",
              "      <th>studytime</th>\n",
              "      <td>1.000000</td>\n",
              "      <td>-0.063154</td>\n",
              "      <td>-0.008415</td>\n",
              "      <td>-0.118389</td>\n",
              "      <td>-0.056433</td>\n",
              "      <td>-0.214925</td>\n",
              "      <td>-0.137585</td>\n",
              "      <td>-0.004127</td>\n",
              "      <td>-0.075442</td>\n",
              "      <td>0.240498</td>\n",
              "      <td>0.260875</td>\n",
              "    </tr>\n",
              "    <tr>\n",
              "      <th>traveltime</th>\n",
              "      <td>-0.063154</td>\n",
              "      <td>1.000000</td>\n",
              "      <td>0.034490</td>\n",
              "      <td>-0.008149</td>\n",
              "      <td>-0.048261</td>\n",
              "      <td>0.057007</td>\n",
              "      <td>0.092824</td>\n",
              "      <td>-0.009521</td>\n",
              "      <td>0.057454</td>\n",
              "      <td>-0.154489</td>\n",
              "      <td>-0.154120</td>\n",
              "    </tr>\n",
              "    <tr>\n",
              "      <th>age</th>\n",
              "      <td>-0.008415</td>\n",
              "      <td>0.034490</td>\n",
              "      <td>1.000000</td>\n",
              "      <td>0.149998</td>\n",
              "      <td>-0.008750</td>\n",
              "      <td>0.086357</td>\n",
              "      <td>0.134768</td>\n",
              "      <td>-0.020559</td>\n",
              "      <td>0.112805</td>\n",
              "      <td>-0.107119</td>\n",
              "      <td>-0.174322</td>\n",
              "    </tr>\n",
              "    <tr>\n",
              "      <th>absences</th>\n",
              "      <td>-0.118389</td>\n",
              "      <td>-0.008149</td>\n",
              "      <td>0.149998</td>\n",
              "      <td>1.000000</td>\n",
              "      <td>-0.030235</td>\n",
              "      <td>0.156373</td>\n",
              "      <td>0.172952</td>\n",
              "      <td>-0.089534</td>\n",
              "      <td>0.085374</td>\n",
              "      <td>-0.124745</td>\n",
              "      <td>-0.147149</td>\n",
              "    </tr>\n",
              "    <tr>\n",
              "      <th>health</th>\n",
              "      <td>-0.056433</td>\n",
              "      <td>-0.048261</td>\n",
              "      <td>-0.008750</td>\n",
              "      <td>-0.030235</td>\n",
              "      <td>1.000000</td>\n",
              "      <td>0.114988</td>\n",
              "      <td>0.059067</td>\n",
              "      <td>0.109559</td>\n",
              "      <td>-0.015741</td>\n",
              "      <td>-0.082179</td>\n",
              "      <td>-0.051647</td>\n",
              "    </tr>\n",
              "    <tr>\n",
              "      <th>Walc</th>\n",
              "      <td>-0.214925</td>\n",
              "      <td>0.057007</td>\n",
              "      <td>0.086357</td>\n",
              "      <td>0.156373</td>\n",
              "      <td>0.114988</td>\n",
              "      <td>1.000000</td>\n",
              "      <td>0.616561</td>\n",
              "      <td>-0.093511</td>\n",
              "      <td>0.388680</td>\n",
              "      <td>-0.164852</td>\n",
              "      <td>-0.155649</td>\n",
              "    </tr>\n",
              "    <tr>\n",
              "      <th>Dalc</th>\n",
              "      <td>-0.137585</td>\n",
              "      <td>0.092824</td>\n",
              "      <td>0.134768</td>\n",
              "      <td>0.172952</td>\n",
              "      <td>0.059067</td>\n",
              "      <td>0.616561</td>\n",
              "      <td>1.000000</td>\n",
              "      <td>-0.075767</td>\n",
              "      <td>0.245126</td>\n",
              "      <td>-0.189480</td>\n",
              "      <td>-0.195171</td>\n",
              "    </tr>\n",
              "    <tr>\n",
              "      <th>famrel</th>\n",
              "      <td>-0.004127</td>\n",
              "      <td>-0.009521</td>\n",
              "      <td>-0.020559</td>\n",
              "      <td>-0.089534</td>\n",
              "      <td>0.109559</td>\n",
              "      <td>-0.093511</td>\n",
              "      <td>-0.075767</td>\n",
              "      <td>1.000000</td>\n",
              "      <td>0.089707</td>\n",
              "      <td>0.089588</td>\n",
              "      <td>0.048795</td>\n",
              "    </tr>\n",
              "    <tr>\n",
              "      <th>goout</th>\n",
              "      <td>-0.075442</td>\n",
              "      <td>0.057454</td>\n",
              "      <td>0.112805</td>\n",
              "      <td>0.085374</td>\n",
              "      <td>-0.015741</td>\n",
              "      <td>0.388680</td>\n",
              "      <td>0.245126</td>\n",
              "      <td>0.089707</td>\n",
              "      <td>1.000000</td>\n",
              "      <td>-0.079469</td>\n",
              "      <td>-0.074053</td>\n",
              "    </tr>\n",
              "    <tr>\n",
              "      <th>G2</th>\n",
              "      <td>0.240498</td>\n",
              "      <td>-0.154489</td>\n",
              "      <td>-0.107119</td>\n",
              "      <td>-0.124745</td>\n",
              "      <td>-0.082179</td>\n",
              "      <td>-0.164852</td>\n",
              "      <td>-0.189480</td>\n",
              "      <td>0.089588</td>\n",
              "      <td>-0.079469</td>\n",
              "      <td>1.000000</td>\n",
              "      <td>0.864982</td>\n",
              "    </tr>\n",
              "    <tr>\n",
              "      <th>G1</th>\n",
              "      <td>0.260875</td>\n",
              "      <td>-0.154120</td>\n",
              "      <td>-0.174322</td>\n",
              "      <td>-0.147149</td>\n",
              "      <td>-0.051647</td>\n",
              "      <td>-0.155649</td>\n",
              "      <td>-0.195171</td>\n",
              "      <td>0.048795</td>\n",
              "      <td>-0.074053</td>\n",
              "      <td>0.864982</td>\n",
              "      <td>1.000000</td>\n",
              "    </tr>\n",
              "  </tbody>\n",
              "</table>\n",
              "</div>"
            ],
            "text/plain": [
              "            studytime  traveltime       age  absences    health      Walc  \\\n",
              "studytime    1.000000   -0.063154 -0.008415 -0.118389 -0.056433 -0.214925   \n",
              "traveltime  -0.063154    1.000000  0.034490 -0.008149 -0.048261  0.057007   \n",
              "age         -0.008415    0.034490  1.000000  0.149998 -0.008750  0.086357   \n",
              "absences    -0.118389   -0.008149  0.149998  1.000000 -0.030235  0.156373   \n",
              "health      -0.056433   -0.048261 -0.008750 -0.030235  1.000000  0.114988   \n",
              "Walc        -0.214925    0.057007  0.086357  0.156373  0.114988  1.000000   \n",
              "Dalc        -0.137585    0.092824  0.134768  0.172952  0.059067  0.616561   \n",
              "famrel      -0.004127   -0.009521 -0.020559 -0.089534  0.109559 -0.093511   \n",
              "goout       -0.075442    0.057454  0.112805  0.085374 -0.015741  0.388680   \n",
              "G2           0.240498   -0.154489 -0.107119 -0.124745 -0.082179 -0.164852   \n",
              "G1           0.260875   -0.154120 -0.174322 -0.147149 -0.051647 -0.155649   \n",
              "\n",
              "                Dalc    famrel     goout        G2        G1  \n",
              "studytime  -0.137585 -0.004127 -0.075442  0.240498  0.260875  \n",
              "traveltime  0.092824 -0.009521  0.057454 -0.154489 -0.154120  \n",
              "age         0.134768 -0.020559  0.112805 -0.107119 -0.174322  \n",
              "absences    0.172952 -0.089534  0.085374 -0.124745 -0.147149  \n",
              "health      0.059067  0.109559 -0.015741 -0.082179 -0.051647  \n",
              "Walc        0.616561 -0.093511  0.388680 -0.164852 -0.155649  \n",
              "Dalc        1.000000 -0.075767  0.245126 -0.189480 -0.195171  \n",
              "famrel     -0.075767  1.000000  0.089707  0.089588  0.048795  \n",
              "goout       0.245126  0.089707  1.000000 -0.079469 -0.074053  \n",
              "G2         -0.189480  0.089588 -0.079469  1.000000  0.864982  \n",
              "G1         -0.195171  0.048795 -0.074053  0.864982  1.000000  "
            ]
          },
          "execution_count": 52,
          "metadata": {},
          "output_type": "execute_result"
        }
      ],
      "source": [
        "data_df[[\"studytime\", \"traveltime\", \"age\", \"absences\", \"health\", \"Walc\", \"Dalc\", \"famrel\", \"goout\", \"G2\", \"G1\"]].corr(method=\"pearson\")\n"
      ]
    },
    {
      "cell_type": "code",
      "execution_count": 54,
      "metadata": {},
      "outputs": [
        {
          "data": {
            "text/plain": [
              "studytime     0.260875\n",
              "traveltime   -0.154120\n",
              "age          -0.174322\n",
              "absences     -0.147149\n",
              "health       -0.051647\n",
              "Walc         -0.155649\n",
              "Dalc         -0.195171\n",
              "famrel        0.048795\n",
              "goout        -0.074053\n",
              "G2            0.864982\n",
              "G1            1.000000\n",
              "Name: G1, dtype: float64"
            ]
          },
          "execution_count": 54,
          "metadata": {},
          "output_type": "execute_result"
        }
      ],
      "source": [
        "data_df[[\"studytime\", \"traveltime\", \"age\", \"absences\", \"health\", \"Walc\", \"Dalc\", \"famrel\", \"goout\", \"G2\", \"G1\"]].corr(method=\"pearson\").iloc[10]\n",
        "\n",
        "#automatically display top 5 \n",
        "#put all in list, arrange and display top 5\n"
      ]
    },
    {
      "cell_type": "markdown",
      "metadata": {
        "id": "gF11LbKwFRkb"
      },
      "source": [
        "# Task 6. $\\chi^2$-test\n",
        "\n"
      ]
    },
    {
      "cell_type": "code",
      "execution_count": 56,
      "metadata": {
        "id": "gFTXM1a7FRkb"
      },
      "outputs": [
        {
          "data": {
            "text/html": [
              "<div>\n",
              "<style scoped>\n",
              "    .dataframe tbody tr th:only-of-type {\n",
              "        vertical-align: middle;\n",
              "    }\n",
              "\n",
              "    .dataframe tbody tr th {\n",
              "        vertical-align: top;\n",
              "    }\n",
              "\n",
              "    .dataframe thead th {\n",
              "        text-align: right;\n",
              "    }\n",
              "</style>\n",
              "<table border=\"1\" class=\"dataframe\">\n",
              "  <thead>\n",
              "    <tr style=\"text-align: right;\">\n",
              "      <th>romantic</th>\n",
              "      <th>no</th>\n",
              "      <th>yes</th>\n",
              "    </tr>\n",
              "    <tr>\n",
              "      <th>internet</th>\n",
              "      <th></th>\n",
              "      <th></th>\n",
              "    </tr>\n",
              "  </thead>\n",
              "  <tbody>\n",
              "    <tr>\n",
              "      <th>no</th>\n",
              "      <td>100</td>\n",
              "      <td>51</td>\n",
              "    </tr>\n",
              "    <tr>\n",
              "      <th>yes</th>\n",
              "      <td>310</td>\n",
              "      <td>188</td>\n",
              "    </tr>\n",
              "  </tbody>\n",
              "</table>\n",
              "</div>"
            ],
            "text/plain": [
              "romantic   no  yes\n",
              "internet          \n",
              "no        100   51\n",
              "yes       310  188"
            ]
          },
          "execution_count": 56,
          "metadata": {},
          "output_type": "execute_result"
        }
      ],
      "source": [
        "#are attributes internet and romantic independant?\n",
        "\n",
        "#making a crosstable\n",
        "\n",
        "int_rom_crosstab = pd.crosstab(data_df[\"internet\"], data_df[\"romantic\"])\n",
        "int_rom_crosstab"
      ]
    },
    {
      "cell_type": "code",
      "execution_count": 59,
      "metadata": {},
      "outputs": [
        {
          "name": "stdout",
          "output_type": "stream",
          "text": [
            "Chi^2:0.62577\n",
            "P:0.42891\n",
            "DoF:1\n"
          ]
        }
      ],
      "source": [
        "from scipy import stats\n",
        "\n",
        "int_rom_chi2, int_rom_p, int_rom_dof, _ = stats.chi2_contingency((int_rom_crosstab))\n",
        "print(\"Chi^2:{:.5f}\\nP:{:.5f}\\nDoF:{}\".format(int_rom_chi2,int_rom_p,int_rom_dof))\n",
        "\n",
        "# wtf does this mean tho lol\n",
        "# at 0.01,6.64 is needed to be significant so its not significant? not independant?\n",
        "\n"
      ]
    },
    {
      "cell_type": "code",
      "execution_count": 61,
      "metadata": {},
      "outputs": [
        {
          "data": {
            "text/html": [
              "<div>\n",
              "<style scoped>\n",
              "    .dataframe tbody tr th:only-of-type {\n",
              "        vertical-align: middle;\n",
              "    }\n",
              "\n",
              "    .dataframe tbody tr th {\n",
              "        vertical-align: top;\n",
              "    }\n",
              "\n",
              "    .dataframe thead th {\n",
              "        text-align: right;\n",
              "    }\n",
              "</style>\n",
              "<table border=\"1\" class=\"dataframe\">\n",
              "  <thead>\n",
              "    <tr style=\"text-align: right;\">\n",
              "      <th>romantic</th>\n",
              "      <th>no</th>\n",
              "      <th>yes</th>\n",
              "    </tr>\n",
              "    <tr>\n",
              "      <th>sex</th>\n",
              "      <th></th>\n",
              "      <th></th>\n",
              "    </tr>\n",
              "  </thead>\n",
              "  <tbody>\n",
              "    <tr>\n",
              "      <th>F</th>\n",
              "      <td>225</td>\n",
              "      <td>158</td>\n",
              "    </tr>\n",
              "    <tr>\n",
              "      <th>M</th>\n",
              "      <td>185</td>\n",
              "      <td>81</td>\n",
              "    </tr>\n",
              "  </tbody>\n",
              "</table>\n",
              "</div>"
            ],
            "text/plain": [
              "romantic   no  yes\n",
              "sex               \n",
              "F         225  158\n",
              "M         185   81"
            ]
          },
          "execution_count": 61,
          "metadata": {},
          "output_type": "execute_result"
        }
      ],
      "source": [
        "sex_rom_crosstab = pd.crosstab(data_df[\"sex\"],data_df[\"romantic\"])\n",
        "sex_rom_crosstab"
      ]
    },
    {
      "cell_type": "code",
      "execution_count": 62,
      "metadata": {},
      "outputs": [
        {
          "name": "stdout",
          "output_type": "stream",
          "text": [
            "Chi^2:7.41593\n",
            "P:0.00646\n",
            "DoF:1\n"
          ]
        }
      ],
      "source": [
        "sex_rom_chi2, sex_rom_p, sex_rom_dof, _ = stats.chi2_contingency((sex_rom_crosstab))\n",
        "print(\"Chi^2:{:.5f}\\nP:{:.5f}\\nDoF:{}\".format(sex_rom_chi2,sex_rom_p,sex_rom_dof))\n",
        "\n"
      ]
    },
    {
      "cell_type": "markdown",
      "metadata": {
        "id": "sSO9g2beFRkb"
      },
      "source": [
        "## Task 7. Normalization"
      ]
    },
    {
      "cell_type": "code",
      "execution_count": 70,
      "metadata": {},
      "outputs": [
        {
          "data": {
            "text/html": [
              "<div>\n",
              "<style scoped>\n",
              "    .dataframe tbody tr th:only-of-type {\n",
              "        vertical-align: middle;\n",
              "    }\n",
              "\n",
              "    .dataframe tbody tr th {\n",
              "        vertical-align: top;\n",
              "    }\n",
              "\n",
              "    .dataframe thead th {\n",
              "        text-align: right;\n",
              "    }\n",
              "</style>\n",
              "<table border=\"1\" class=\"dataframe\">\n",
              "  <thead>\n",
              "    <tr style=\"text-align: right;\">\n",
              "      <th></th>\n",
              "      <th>A</th>\n",
              "    </tr>\n",
              "  </thead>\n",
              "  <tbody>\n",
              "  </tbody>\n",
              "</table>\n",
              "</div>"
            ],
            "text/plain": [
              "Empty DataFrame\n",
              "Columns: [A]\n",
              "Index: []"
            ]
          },
          "execution_count": 70,
          "metadata": {},
          "output_type": "execute_result"
        }
      ],
      "source": [
        "\n",
        "empty = []\n",
        "scaled_df = pd.DataFrame(empty, columns=['A'])\n",
        "scaled_df"
      ]
    },
    {
      "cell_type": "code",
      "execution_count": 65,
      "metadata": {
        "id": "7xb3hddiFRkb"
      },
      "outputs": [
        {
          "data": {
            "text/html": [
              "<div>\n",
              "<style scoped>\n",
              "    .dataframe tbody tr th:only-of-type {\n",
              "        vertical-align: middle;\n",
              "    }\n",
              "\n",
              "    .dataframe tbody tr th {\n",
              "        vertical-align: top;\n",
              "    }\n",
              "\n",
              "    .dataframe thead th {\n",
              "        text-align: right;\n",
              "    }\n",
              "</style>\n",
              "<table border=\"1\" class=\"dataframe\">\n",
              "  <thead>\n",
              "    <tr style=\"text-align: right;\">\n",
              "      <th></th>\n",
              "      <th>school</th>\n",
              "      <th>sex</th>\n",
              "      <th>age</th>\n",
              "      <th>address</th>\n",
              "      <th>famsize</th>\n",
              "      <th>Pstatus</th>\n",
              "      <th>Medu</th>\n",
              "      <th>Fedu</th>\n",
              "      <th>Mjob</th>\n",
              "      <th>Fjob</th>\n",
              "      <th>...</th>\n",
              "      <th>freetime</th>\n",
              "      <th>goout</th>\n",
              "      <th>Dalc</th>\n",
              "      <th>Walc</th>\n",
              "      <th>health</th>\n",
              "      <th>absences</th>\n",
              "      <th>G1</th>\n",
              "      <th>G2</th>\n",
              "      <th>G3</th>\n",
              "      <th>studytime_minmax_scaled</th>\n",
              "    </tr>\n",
              "  </thead>\n",
              "  <tbody>\n",
              "    <tr>\n",
              "      <th>0</th>\n",
              "      <td>GP</td>\n",
              "      <td>F</td>\n",
              "      <td>18</td>\n",
              "      <td>U</td>\n",
              "      <td>GT3</td>\n",
              "      <td>A</td>\n",
              "      <td>4</td>\n",
              "      <td>4</td>\n",
              "      <td>at_home</td>\n",
              "      <td>teacher</td>\n",
              "      <td>...</td>\n",
              "      <td>3</td>\n",
              "      <td>4</td>\n",
              "      <td>1</td>\n",
              "      <td>1</td>\n",
              "      <td>3</td>\n",
              "      <td>4</td>\n",
              "      <td>0</td>\n",
              "      <td>11</td>\n",
              "      <td>11</td>\n",
              "      <td>0.333333</td>\n",
              "    </tr>\n",
              "    <tr>\n",
              "      <th>1</th>\n",
              "      <td>GP</td>\n",
              "      <td>F</td>\n",
              "      <td>17</td>\n",
              "      <td>U</td>\n",
              "      <td>GT3</td>\n",
              "      <td>T</td>\n",
              "      <td>1</td>\n",
              "      <td>1</td>\n",
              "      <td>at_home</td>\n",
              "      <td>other</td>\n",
              "      <td>...</td>\n",
              "      <td>3</td>\n",
              "      <td>3</td>\n",
              "      <td>1</td>\n",
              "      <td>1</td>\n",
              "      <td>3</td>\n",
              "      <td>2</td>\n",
              "      <td>9</td>\n",
              "      <td>11</td>\n",
              "      <td>11</td>\n",
              "      <td>0.333333</td>\n",
              "    </tr>\n",
              "    <tr>\n",
              "      <th>2</th>\n",
              "      <td>GP</td>\n",
              "      <td>F</td>\n",
              "      <td>15</td>\n",
              "      <td>U</td>\n",
              "      <td>LE3</td>\n",
              "      <td>T</td>\n",
              "      <td>1</td>\n",
              "      <td>1</td>\n",
              "      <td>at_home</td>\n",
              "      <td>other</td>\n",
              "      <td>...</td>\n",
              "      <td>3</td>\n",
              "      <td>2</td>\n",
              "      <td>2</td>\n",
              "      <td>3</td>\n",
              "      <td>3</td>\n",
              "      <td>6</td>\n",
              "      <td>12</td>\n",
              "      <td>13</td>\n",
              "      <td>12</td>\n",
              "      <td>0.333333</td>\n",
              "    </tr>\n",
              "    <tr>\n",
              "      <th>3</th>\n",
              "      <td>GP</td>\n",
              "      <td>F</td>\n",
              "      <td>15</td>\n",
              "      <td>U</td>\n",
              "      <td>GT3</td>\n",
              "      <td>T</td>\n",
              "      <td>4</td>\n",
              "      <td>2</td>\n",
              "      <td>health</td>\n",
              "      <td>services</td>\n",
              "      <td>...</td>\n",
              "      <td>2</td>\n",
              "      <td>2</td>\n",
              "      <td>1</td>\n",
              "      <td>1</td>\n",
              "      <td>5</td>\n",
              "      <td>0</td>\n",
              "      <td>14</td>\n",
              "      <td>14</td>\n",
              "      <td>14</td>\n",
              "      <td>0.666667</td>\n",
              "    </tr>\n",
              "    <tr>\n",
              "      <th>4</th>\n",
              "      <td>GP</td>\n",
              "      <td>F</td>\n",
              "      <td>16</td>\n",
              "      <td>U</td>\n",
              "      <td>GT3</td>\n",
              "      <td>T</td>\n",
              "      <td>3</td>\n",
              "      <td>3</td>\n",
              "      <td>other</td>\n",
              "      <td>other</td>\n",
              "      <td>...</td>\n",
              "      <td>3</td>\n",
              "      <td>2</td>\n",
              "      <td>1</td>\n",
              "      <td>2</td>\n",
              "      <td>5</td>\n",
              "      <td>0</td>\n",
              "      <td>11</td>\n",
              "      <td>13</td>\n",
              "      <td>13</td>\n",
              "      <td>0.333333</td>\n",
              "    </tr>\n",
              "  </tbody>\n",
              "</table>\n",
              "<p>5 rows × 34 columns</p>\n",
              "</div>"
            ],
            "text/plain": [
              "  school sex  age address famsize Pstatus  Medu  Fedu     Mjob      Fjob  ...  \\\n",
              "0     GP   F   18       U     GT3       A     4     4  at_home   teacher  ...   \n",
              "1     GP   F   17       U     GT3       T     1     1  at_home     other  ...   \n",
              "2     GP   F   15       U     LE3       T     1     1  at_home     other  ...   \n",
              "3     GP   F   15       U     GT3       T     4     2   health  services  ...   \n",
              "4     GP   F   16       U     GT3       T     3     3    other     other  ...   \n",
              "\n",
              "  freetime goout  Dalc  Walc  health absences  G1  G2  G3  \\\n",
              "0        3     4     1     1       3        4   0  11  11   \n",
              "1        3     3     1     1       3        2   9  11  11   \n",
              "2        3     2     2     3       3        6  12  13  12   \n",
              "3        2     2     1     1       5        0  14  14  14   \n",
              "4        3     2     1     2       5        0  11  13  13   \n",
              "\n",
              "  studytime_minmax_scaled  \n",
              "0                0.333333  \n",
              "1                0.333333  \n",
              "2                0.333333  \n",
              "3                0.666667  \n",
              "4                0.333333  \n",
              "\n",
              "[5 rows x 34 columns]"
            ]
          },
          "execution_count": 65,
          "metadata": {},
          "output_type": "execute_result"
        }
      ],
      "source": [
        "from sklearn import preprocessing\n",
        "from sklearn.preprocessing import MinMaxScaler\n",
        "\n",
        "scaler = MinMaxScaler(feature_range=(0,1))\n",
        "\n",
        "data_scaled_df[\"studytime_minmax_scaled\"] = scaler.fit_transform(data_df[[\"studytime\"]])\n",
        "data_df.head()"
      ]
    },
    {
      "cell_type": "markdown",
      "metadata": {
        "id": "WfuDE__WFRkc"
      },
      "source": [
        "## Task 8. PCA"
      ]
    },
    {
      "cell_type": "code",
      "execution_count": null,
      "metadata": {
        "id": "4rdN0slMFRkc"
      },
      "outputs": [],
      "source": []
    },
    {
      "cell_type": "code",
      "execution_count": null,
      "metadata": {},
      "outputs": [],
      "source": []
    },
    {
      "cell_type": "markdown",
      "metadata": {
        "id": "v--0Zx67FRka"
      },
      "source": [
        "## Task 9. Missing values"
      ]
    },
    {
      "cell_type": "markdown",
      "metadata": {
        "id": "hUpiAoIczhfH"
      },
      "source": [
        "reloading the dataset"
      ]
    },
    {
      "cell_type": "code",
      "execution_count": null,
      "metadata": {
        "id": "qSXoKd5hFRkc"
      },
      "outputs": [],
      "source": [
        "data_df = pd.read_csv(data_file, sep=';')"
      ]
    },
    {
      "cell_type": "code",
      "execution_count": null,
      "metadata": {
        "id": "ymMjtWymy9um"
      },
      "outputs": [],
      "source": []
    }
  ],
  "metadata": {
    "colab": {
      "collapsed_sections": [],
      "name": "assignment1.ipynb",
      "provenance": []
    },
    "interpreter": {
      "hash": "18371ec54b26b5592670d9a578e80da52b3b6d0ef5bf2bd528032fbe2540b3db"
    },
    "kernelspec": {
      "display_name": "Python 3.9.6 64-bit ('comp4331': conda)",
      "name": "python3"
    },
    "language_info": {
      "codemirror_mode": {
        "name": "ipython",
        "version": 3
      },
      "file_extension": ".py",
      "mimetype": "text/x-python",
      "name": "python",
      "nbconvert_exporter": "python",
      "pygments_lexer": "ipython3",
      "version": "3.9.6"
    }
  },
  "nbformat": 4,
  "nbformat_minor": 0
}
