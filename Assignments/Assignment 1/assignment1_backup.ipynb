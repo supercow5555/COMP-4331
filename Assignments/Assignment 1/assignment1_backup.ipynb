{
  "cells": [
    {
      "cell_type": "markdown",
      "metadata": {
        "id": "5c90dXtRFRkO"
      },
      "source": [
        "# Comp4331 Assignment 1"
      ]
    },
    {
      "cell_type": "code",
      "execution_count": null,
      "metadata": {},
      "outputs": [],
      "source": []
    },
    {
      "cell_type": "markdown",
      "metadata": {
        "id": "ksLNEuRRFRkS"
      },
      "source": [
        "## Preparing the dataset"
      ]
    },
    {
      "cell_type": "code",
      "execution_count": 1,
      "metadata": {
        "colab": {
          "base_uri": "https://localhost:8080/"
        },
        "id": "JoSIveXQFRkT",
        "outputId": "9427f05d-86d5-4fe7-e8c8-3ddbf3f40699"
      },
      "outputs": [],
      "source": [
        "# !echo \">> 1. remove old data if exists.\"\n",
        "# ![ -e \"student-por.csv\" ] && rm \"student-por.csv\"\n",
        "# !echo \">> 2. download data from UCI.\"\n",
        "# !wget \"https://archive.ics.uci.edu/ml/machine-learning-databases/00320/student.zip\"\n",
        "# !echo \">> 3. unzip the data.\"\n",
        "# !unzip student.zip\n",
        "# !echo \">> 4. remove unnecessary files.\"\n",
        "# !rm \"student.zip\" \"student-mat.csv\" \"student-merge.R\" \"student.txt\"\n",
        "# !echo \">> 5. finished!\""
      ]
    },
    {
      "cell_type": "code",
      "execution_count": 2,
      "metadata": {
        "id": "7bMftwuDFRkV"
      },
      "outputs": [],
      "source": [
        "import seaborn as sns\n",
        "import numpy as np\n",
        "import pandas as pd\n",
        "import matplotlib.pyplot as plt\n",
        "import scipy\n",
        "import sklearn\n",
        "from scipy import stats\n",
        "from sklearn import preprocessing\n",
        "from sklearn.preprocessing import MinMaxScaler\n",
        "from sklearn.preprocessing import StandardScaler\n",
        "from sklearn.decomposition import PCA\n",
        "\n",
        "\n",
        "%config InteractiveShell.ast_node_interactivity = 'all'\n"
      ]
    },
    {
      "cell_type": "code",
      "execution_count": 21,
      "metadata": {
        "id": "xu4X_gOpFRkW"
      },
      "outputs": [
        {
          "data": {
            "text/html": [
              "<div>\n",
              "<style scoped>\n",
              "    .dataframe tbody tr th:only-of-type {\n",
              "        vertical-align: middle;\n",
              "    }\n",
              "\n",
              "    .dataframe tbody tr th {\n",
              "        vertical-align: top;\n",
              "    }\n",
              "\n",
              "    .dataframe thead th {\n",
              "        text-align: right;\n",
              "    }\n",
              "</style>\n",
              "<table border=\"1\" class=\"dataframe\">\n",
              "  <thead>\n",
              "    <tr style=\"text-align: right;\">\n",
              "      <th></th>\n",
              "      <th>school</th>\n",
              "      <th>sex</th>\n",
              "      <th>age</th>\n",
              "      <th>address</th>\n",
              "      <th>famsize</th>\n",
              "      <th>Pstatus</th>\n",
              "      <th>Medu</th>\n",
              "      <th>Fedu</th>\n",
              "      <th>Mjob</th>\n",
              "      <th>Fjob</th>\n",
              "      <th>...</th>\n",
              "      <th>famrel</th>\n",
              "      <th>freetime</th>\n",
              "      <th>goout</th>\n",
              "      <th>Dalc</th>\n",
              "      <th>Walc</th>\n",
              "      <th>health</th>\n",
              "      <th>absences</th>\n",
              "      <th>G1</th>\n",
              "      <th>G2</th>\n",
              "      <th>G3</th>\n",
              "    </tr>\n",
              "  </thead>\n",
              "  <tbody>\n",
              "    <tr>\n",
              "      <th>0</th>\n",
              "      <td>GP</td>\n",
              "      <td>F</td>\n",
              "      <td>18</td>\n",
              "      <td>U</td>\n",
              "      <td>GT3</td>\n",
              "      <td>A</td>\n",
              "      <td>4</td>\n",
              "      <td>4</td>\n",
              "      <td>at_home</td>\n",
              "      <td>teacher</td>\n",
              "      <td>...</td>\n",
              "      <td>4</td>\n",
              "      <td>3</td>\n",
              "      <td>4</td>\n",
              "      <td>1</td>\n",
              "      <td>1</td>\n",
              "      <td>3</td>\n",
              "      <td>4</td>\n",
              "      <td>0</td>\n",
              "      <td>11</td>\n",
              "      <td>11</td>\n",
              "    </tr>\n",
              "    <tr>\n",
              "      <th>1</th>\n",
              "      <td>GP</td>\n",
              "      <td>F</td>\n",
              "      <td>17</td>\n",
              "      <td>U</td>\n",
              "      <td>GT3</td>\n",
              "      <td>T</td>\n",
              "      <td>1</td>\n",
              "      <td>1</td>\n",
              "      <td>at_home</td>\n",
              "      <td>other</td>\n",
              "      <td>...</td>\n",
              "      <td>5</td>\n",
              "      <td>3</td>\n",
              "      <td>3</td>\n",
              "      <td>1</td>\n",
              "      <td>1</td>\n",
              "      <td>3</td>\n",
              "      <td>2</td>\n",
              "      <td>9</td>\n",
              "      <td>11</td>\n",
              "      <td>11</td>\n",
              "    </tr>\n",
              "    <tr>\n",
              "      <th>2</th>\n",
              "      <td>GP</td>\n",
              "      <td>F</td>\n",
              "      <td>15</td>\n",
              "      <td>U</td>\n",
              "      <td>LE3</td>\n",
              "      <td>T</td>\n",
              "      <td>1</td>\n",
              "      <td>1</td>\n",
              "      <td>at_home</td>\n",
              "      <td>other</td>\n",
              "      <td>...</td>\n",
              "      <td>4</td>\n",
              "      <td>3</td>\n",
              "      <td>2</td>\n",
              "      <td>2</td>\n",
              "      <td>3</td>\n",
              "      <td>3</td>\n",
              "      <td>6</td>\n",
              "      <td>12</td>\n",
              "      <td>13</td>\n",
              "      <td>12</td>\n",
              "    </tr>\n",
              "    <tr>\n",
              "      <th>3</th>\n",
              "      <td>GP</td>\n",
              "      <td>F</td>\n",
              "      <td>15</td>\n",
              "      <td>U</td>\n",
              "      <td>GT3</td>\n",
              "      <td>T</td>\n",
              "      <td>4</td>\n",
              "      <td>2</td>\n",
              "      <td>health</td>\n",
              "      <td>services</td>\n",
              "      <td>...</td>\n",
              "      <td>3</td>\n",
              "      <td>2</td>\n",
              "      <td>2</td>\n",
              "      <td>1</td>\n",
              "      <td>1</td>\n",
              "      <td>5</td>\n",
              "      <td>0</td>\n",
              "      <td>14</td>\n",
              "      <td>14</td>\n",
              "      <td>14</td>\n",
              "    </tr>\n",
              "    <tr>\n",
              "      <th>4</th>\n",
              "      <td>GP</td>\n",
              "      <td>F</td>\n",
              "      <td>16</td>\n",
              "      <td>U</td>\n",
              "      <td>GT3</td>\n",
              "      <td>T</td>\n",
              "      <td>3</td>\n",
              "      <td>3</td>\n",
              "      <td>other</td>\n",
              "      <td>other</td>\n",
              "      <td>...</td>\n",
              "      <td>4</td>\n",
              "      <td>3</td>\n",
              "      <td>2</td>\n",
              "      <td>1</td>\n",
              "      <td>2</td>\n",
              "      <td>5</td>\n",
              "      <td>0</td>\n",
              "      <td>11</td>\n",
              "      <td>13</td>\n",
              "      <td>13</td>\n",
              "    </tr>\n",
              "    <tr>\n",
              "      <th>5</th>\n",
              "      <td>GP</td>\n",
              "      <td>M</td>\n",
              "      <td>16</td>\n",
              "      <td>U</td>\n",
              "      <td>LE3</td>\n",
              "      <td>T</td>\n",
              "      <td>4</td>\n",
              "      <td>3</td>\n",
              "      <td>services</td>\n",
              "      <td>other</td>\n",
              "      <td>...</td>\n",
              "      <td>5</td>\n",
              "      <td>4</td>\n",
              "      <td>2</td>\n",
              "      <td>1</td>\n",
              "      <td>2</td>\n",
              "      <td>5</td>\n",
              "      <td>6</td>\n",
              "      <td>12</td>\n",
              "      <td>12</td>\n",
              "      <td>13</td>\n",
              "    </tr>\n",
              "    <tr>\n",
              "      <th>6</th>\n",
              "      <td>GP</td>\n",
              "      <td>M</td>\n",
              "      <td>16</td>\n",
              "      <td>U</td>\n",
              "      <td>LE3</td>\n",
              "      <td>T</td>\n",
              "      <td>2</td>\n",
              "      <td>2</td>\n",
              "      <td>other</td>\n",
              "      <td>other</td>\n",
              "      <td>...</td>\n",
              "      <td>4</td>\n",
              "      <td>4</td>\n",
              "      <td>4</td>\n",
              "      <td>1</td>\n",
              "      <td>1</td>\n",
              "      <td>3</td>\n",
              "      <td>0</td>\n",
              "      <td>13</td>\n",
              "      <td>12</td>\n",
              "      <td>13</td>\n",
              "    </tr>\n",
              "    <tr>\n",
              "      <th>7</th>\n",
              "      <td>GP</td>\n",
              "      <td>F</td>\n",
              "      <td>17</td>\n",
              "      <td>U</td>\n",
              "      <td>GT3</td>\n",
              "      <td>A</td>\n",
              "      <td>4</td>\n",
              "      <td>4</td>\n",
              "      <td>other</td>\n",
              "      <td>teacher</td>\n",
              "      <td>...</td>\n",
              "      <td>4</td>\n",
              "      <td>1</td>\n",
              "      <td>4</td>\n",
              "      <td>1</td>\n",
              "      <td>1</td>\n",
              "      <td>1</td>\n",
              "      <td>2</td>\n",
              "      <td>10</td>\n",
              "      <td>13</td>\n",
              "      <td>13</td>\n",
              "    </tr>\n",
              "    <tr>\n",
              "      <th>8</th>\n",
              "      <td>GP</td>\n",
              "      <td>M</td>\n",
              "      <td>15</td>\n",
              "      <td>U</td>\n",
              "      <td>LE3</td>\n",
              "      <td>A</td>\n",
              "      <td>3</td>\n",
              "      <td>2</td>\n",
              "      <td>services</td>\n",
              "      <td>other</td>\n",
              "      <td>...</td>\n",
              "      <td>4</td>\n",
              "      <td>2</td>\n",
              "      <td>2</td>\n",
              "      <td>1</td>\n",
              "      <td>1</td>\n",
              "      <td>1</td>\n",
              "      <td>0</td>\n",
              "      <td>15</td>\n",
              "      <td>16</td>\n",
              "      <td>17</td>\n",
              "    </tr>\n",
              "    <tr>\n",
              "      <th>9</th>\n",
              "      <td>GP</td>\n",
              "      <td>M</td>\n",
              "      <td>15</td>\n",
              "      <td>U</td>\n",
              "      <td>GT3</td>\n",
              "      <td>T</td>\n",
              "      <td>3</td>\n",
              "      <td>4</td>\n",
              "      <td>other</td>\n",
              "      <td>other</td>\n",
              "      <td>...</td>\n",
              "      <td>5</td>\n",
              "      <td>5</td>\n",
              "      <td>1</td>\n",
              "      <td>1</td>\n",
              "      <td>1</td>\n",
              "      <td>5</td>\n",
              "      <td>0</td>\n",
              "      <td>12</td>\n",
              "      <td>12</td>\n",
              "      <td>13</td>\n",
              "    </tr>\n",
              "  </tbody>\n",
              "</table>\n",
              "<p>10 rows × 33 columns</p>\n",
              "</div>"
            ],
            "text/plain": [
              "  school sex  age address famsize Pstatus  Medu  Fedu      Mjob      Fjob  \\\n",
              "0     GP   F   18       U     GT3       A     4     4   at_home   teacher   \n",
              "1     GP   F   17       U     GT3       T     1     1   at_home     other   \n",
              "2     GP   F   15       U     LE3       T     1     1   at_home     other   \n",
              "3     GP   F   15       U     GT3       T     4     2    health  services   \n",
              "4     GP   F   16       U     GT3       T     3     3     other     other   \n",
              "5     GP   M   16       U     LE3       T     4     3  services     other   \n",
              "6     GP   M   16       U     LE3       T     2     2     other     other   \n",
              "7     GP   F   17       U     GT3       A     4     4     other   teacher   \n",
              "8     GP   M   15       U     LE3       A     3     2  services     other   \n",
              "9     GP   M   15       U     GT3       T     3     4     other     other   \n",
              "\n",
              "   ... famrel freetime  goout  Dalc  Walc health absences  G1  G2  G3  \n",
              "0  ...      4        3      4     1     1      3        4   0  11  11  \n",
              "1  ...      5        3      3     1     1      3        2   9  11  11  \n",
              "2  ...      4        3      2     2     3      3        6  12  13  12  \n",
              "3  ...      3        2      2     1     1      5        0  14  14  14  \n",
              "4  ...      4        3      2     1     2      5        0  11  13  13  \n",
              "5  ...      5        4      2     1     2      5        6  12  12  13  \n",
              "6  ...      4        4      4     1     1      3        0  13  12  13  \n",
              "7  ...      4        1      4     1     1      1        2  10  13  13  \n",
              "8  ...      4        2      2     1     1      1        0  15  16  17  \n",
              "9  ...      5        5      1     1     1      5        0  12  12  13  \n",
              "\n",
              "[10 rows x 33 columns]"
            ]
          },
          "execution_count": 21,
          "metadata": {},
          "output_type": "execute_result"
        },
        {
          "data": {
            "text/plain": [
              "(649, 33)"
            ]
          },
          "execution_count": 21,
          "metadata": {},
          "output_type": "execute_result"
        }
      ],
      "source": [
        "data_file = r\"C:\\Users\\kkaus\\OneDrive - HKUST Connect\\Courses\\Year 3\\COMP 4331\\Coding Folder\\Assignments\\Assignment 1\\data\\student-por.csv\"\n",
        "data_df = pd.read_csv(data_file, sep=';')\n",
        "data_df.head(10)\n",
        "data_df.shape\n",
        "\n"
      ]
    },
    {
      "cell_type": "markdown",
      "metadata": {
        "id": "WC1I0m4XFRkX"
      },
      "source": [
        "## Task 1. Basic summary"
      ]
    },
    {
      "cell_type": "code",
      "execution_count": 25,
      "metadata": {
        "id": "CQvmriIuFRkY"
      },
      "outputs": [
        {
          "name": "stdout",
          "output_type": "stream",
          "text": [
            "Task 1\n",
            "\n",
            "Age mean, standard deviation, mode, median, and the five-number summary:\n",
            "Age mean: 16.7442218798151\n",
            "The standard deviation of age is:  1.2181376394800618\n",
            "Age median: 17.0\n",
            "Age mode: 0    17\n",
            "dtype: int64\n",
            "5 Number Summary:\n"
          ]
        },
        {
          "data": {
            "text/plain": [
              "min    15.0\n",
              "25%    16.0\n",
              "50%    17.0\n",
              "75%    18.0\n",
              "max    22.0\n",
              "Name: age, dtype: float64"
            ]
          },
          "execution_count": 25,
          "metadata": {},
          "output_type": "execute_result"
        },
        {
          "name": "stdout",
          "output_type": "stream",
          "text": [
            "____________________________________________\n",
            "G1 mean, standard deviation, mode, median, and the five-number summary:\n",
            "G1 mean: 11.399075500770415\n",
            "The standard deviation of G1 is:  2.745265128446369\n",
            "G1 median: 11.0\n",
            "G1 mode: 0    10\n",
            "dtype: int64\n"
          ]
        },
        {
          "data": {
            "text/plain": [
              "min     0.0\n",
              "25%    10.0\n",
              "50%    11.0\n",
              "75%    13.0\n",
              "max    19.0\n",
              "Name: G1, dtype: float64"
            ]
          },
          "execution_count": 25,
          "metadata": {},
          "output_type": "execute_result"
        }
      ],
      "source": [
        "# Age attribute\n",
        "print(\"Task 1\")\n",
        "print()\n",
        "print(\"Age mean, standard deviation, mode, median, and the five-number summary:\")\n",
        "age_mean = data_df['age'].mean()\n",
        "age_median = data_df['age'].median()\n",
        "age_mode = data_df['age'].mode()\n",
        "std_age = data_df['age'].std()\n",
        "\n",
        "\n",
        "print(\"Age mean:\", age_mean)\n",
        "print(\"The standard deviation of age is: \", std_age)\n",
        "print(\"Age median:\", age_median)\n",
        "print(\"Age mode:\", age_mode)\n",
        "\n",
        "\n",
        "print(\"5 Number Summary:\")\n",
        "data_df['age'].describe().iloc[3:8]\n",
        "print(\"____________________________________________\")\n",
        "\n",
        "\n",
        "print(\"G1 mean, standard deviation, mode, median, and the five-number summary:\")\n",
        "G1_mean = data_df['G1'].mean()\n",
        "G1_median = data_df['G1'].median()\n",
        "G1_mode = data_df['G1'].mode()\n",
        "G1_std = data_df['G1'].std()\n",
        "\n",
        "print(\"G1 mean:\", G1_mean)\n",
        "print(\"The standard deviation of G1 is: \", G1_std)\n",
        "print(\"G1 median:\", G1_median)\n",
        "print(\"G1 mode:\", G1_mode)\\\n",
        "\n",
        "data_df['G1'].describe().iloc[3:8]\n",
        "\n",
        "\n",
        "\n"
      ]
    },
    {
      "cell_type": "markdown",
      "metadata": {
        "id": "8XiEGUt2FRkY"
      },
      "source": [
        "## Task 2. Box plot"
      ]
    },
    {
      "cell_type": "code",
      "execution_count": 8,
      "metadata": {
        "id": "qKUcWVy0FRkZ"
      },
      "outputs": [
        {
          "data": {
            "image/png": "[encoded data removed]",
            "text/plain": [
              "<Figure size 2520x720 with 3 Axes>"
            ]
          },
          "metadata": {
            "needs_background": "light"
          },
          "output_type": "display_data"
        }
      ],
      "source": [
        "fig, axis = plt.subplots(1,3, figsize=(35, 10))\n",
        "fig.suptitle('Task 2 - G2 Boxplots')\n",
        "\n",
        "\n",
        "sns.boxplot(ax=axis[0], data=data_df, y=\"G2\").set_title(\"(a) G2 Boxplot\");\n",
        "sns.boxplot(ax=axis[1], data=data_df, y=\"G2\", x='sex').set_title(\"(b) G2 and Sex Boxplot\");\n",
        "sns.boxplot(ax=axis[2], data=data_df, y=\"G2\", x='Dalc').set_title(\"(c) G2 and Dalc Boxplot\");\n",
        "\n",
        "\n"
      ]
    },
    {
      "cell_type": "markdown",
      "metadata": {
        "id": "cXqfcvGAFRkZ"
      },
      "source": [
        "## Task 3. Hist plot"
      ]
    },
    {
      "cell_type": "code",
      "execution_count": 9,
      "metadata": {
        "id": "J9r00oA4FRkZ"
      },
      "outputs": [
        {
          "data": {
            "image/png": "[encoded data removed]",
            "text/plain": [
              "<Figure size 2520x720 with 2 Axes>"
            ]
          },
          "metadata": {
            "needs_background": "light"
          },
          "output_type": "display_data"
        }
      ],
      "source": [
        "fig, axis = plt.subplots(1,2, figsize=(35, 10))\n",
        "fig.suptitle('Task 3 - Absences and Age Histograms')\n",
        "\n",
        "sns.histplot(ax=axis[0], data=data_df, x=\"age\", bins=8).set_title(\"Age\");\n",
        "sns.histplot(ax=axis[1], data=data_df, x=\"absences\", bins=8).set_title(\"Absences\");"
      ]
    },
    {
      "cell_type": "markdown",
      "metadata": {
        "id": "uxdZUElAFRkZ"
      },
      "source": [
        "# Task 4. Scatter plot"
      ]
    },
    {
      "cell_type": "code",
      "execution_count": 27,
      "metadata": {
        "id": "FuBfJ-J6FRka"
      },
      "outputs": [
        {
          "name": "stdout",
          "output_type": "stream",
          "text": [
            "The correllation between G2 and G3: 0.9185480035603523\n"
          ]
        },
        {
          "data": {
            "image/png": "[encoded data removed]",
            "text/plain": [
              "<Figure size 432x288 with 1 Axes>"
            ]
          },
          "metadata": {
            "needs_background": "light"
          },
          "output_type": "display_data"
        }
      ],
      "source": [
        "sns.scatterplot(data=data_df, x=\"G2\", y=\"G3\").set_title(\"Task 4 - G2 and G3 ScatterPlot\");\n",
        "corr_g2g3 = data_df[[\"G2\",\"G3\"]].corr(method=\"pearson\").iloc[1,0]\n",
        "print(\"The correllation between G2 and G3: {}\".format(corr_g2g3));"
      ]
    },
    {
      "cell_type": "markdown",
      "metadata": {
        "id": "E4zuSdubFRka"
      },
      "source": [
        "## Task 5. Correlation"
      ]
    },
    {
      "cell_type": "code",
      "execution_count": 12,
      "metadata": {},
      "outputs": [
        {
          "name": "stdout",
          "output_type": "stream",
          "text": [
            "Task 5 - Top 5 Attributes that are most correlated with G1\n",
            "Top 5 Attributes that are most correlated with G1\n"
          ]
        },
        {
          "data": {
            "text/plain": [
              "G2           0.864982\n",
              "studytime    0.260875\n",
              "Dalc        -0.195171\n",
              "age         -0.174322\n",
              "Walc        -0.155649\n",
              "Name: G1, dtype: float64"
            ]
          },
          "execution_count": 12,
          "metadata": {},
          "output_type": "execute_result"
        }
      ],
      "source": [
        "print(\"Task 5 - Top 5 Attributes that are most correlated with G1\")\n",
        "\n",
        "corr = data_df[[\"studytime\", \"traveltime\", \"age\", \"absences\", \"health\", \"Walc\", \"Dalc\", \"famrel\", \"goout\", \"G2\", \"G1\"]].corr(method=\"pearson\").iloc[10]\n",
        "\n",
        "corr1 = corr.abs()\n",
        "print(\"Top 5 Attributes that are most correlated with G1\")\n",
        "corr.sort_values(ascending=False, key=pd.Series.abs).iloc[1:6]"
      ]
    },
    {
      "cell_type": "markdown",
      "metadata": {
        "id": "gF11LbKwFRkb"
      },
      "source": [
        "# Task 6. $\\chi^2$-test\n",
        "\n"
      ]
    },
    {
      "cell_type": "code",
      "execution_count": 13,
      "metadata": {
        "id": "gFTXM1a7FRkb"
      },
      "outputs": [
        {
          "name": "stdout",
          "output_type": "stream",
          "text": [
            "Task 6\n",
            "(a)Attributes internet and romantic independence at significance level 0.01\n"
          ]
        },
        {
          "data": {
            "text/html": [
              "<div>\n",
              "<style scoped>\n",
              "    .dataframe tbody tr th:only-of-type {\n",
              "        vertical-align: middle;\n",
              "    }\n",
              "\n",
              "    .dataframe tbody tr th {\n",
              "        vertical-align: top;\n",
              "    }\n",
              "\n",
              "    .dataframe thead th {\n",
              "        text-align: right;\n",
              "    }\n",
              "</style>\n",
              "<table border=\"1\" class=\"dataframe\">\n",
              "  <thead>\n",
              "    <tr style=\"text-align: right;\">\n",
              "      <th>romantic</th>\n",
              "      <th>no</th>\n",
              "      <th>yes</th>\n",
              "    </tr>\n",
              "    <tr>\n",
              "      <th>internet</th>\n",
              "      <th></th>\n",
              "      <th></th>\n",
              "    </tr>\n",
              "  </thead>\n",
              "  <tbody>\n",
              "    <tr>\n",
              "      <th>no</th>\n",
              "      <td>100</td>\n",
              "      <td>51</td>\n",
              "    </tr>\n",
              "    <tr>\n",
              "      <th>yes</th>\n",
              "      <td>310</td>\n",
              "      <td>188</td>\n",
              "    </tr>\n",
              "  </tbody>\n",
              "</table>\n",
              "</div>"
            ],
            "text/plain": [
              "romantic   no  yes\n",
              "internet          \n",
              "no        100   51\n",
              "yes       310  188"
            ]
          },
          "execution_count": 13,
          "metadata": {},
          "output_type": "execute_result"
        },
        {
          "name": "stdout",
          "output_type": "stream",
          "text": [
            "Chi^2:0.62577\n",
            "P:0.42891\n",
            "DoF:1\n",
            "\n",
            "The Chi^2 value is 0.625769 which is smaller than 6.64 (value at signifiance level 0.01 with degree of freedom 1)\n",
            "This means we accept the hypothesis that internet and romantic are independent\n",
            "\n",
            "____________________________________________\n",
            "(b) are the attributes sex and romantic independent of each other at significance level 0.01\n"
          ]
        },
        {
          "data": {
            "text/html": [
              "<div>\n",
              "<style scoped>\n",
              "    .dataframe tbody tr th:only-of-type {\n",
              "        vertical-align: middle;\n",
              "    }\n",
              "\n",
              "    .dataframe tbody tr th {\n",
              "        vertical-align: top;\n",
              "    }\n",
              "\n",
              "    .dataframe thead th {\n",
              "        text-align: right;\n",
              "    }\n",
              "</style>\n",
              "<table border=\"1\" class=\"dataframe\">\n",
              "  <thead>\n",
              "    <tr style=\"text-align: right;\">\n",
              "      <th>romantic</th>\n",
              "      <th>no</th>\n",
              "      <th>yes</th>\n",
              "    </tr>\n",
              "    <tr>\n",
              "      <th>sex</th>\n",
              "      <th></th>\n",
              "      <th></th>\n",
              "    </tr>\n",
              "  </thead>\n",
              "  <tbody>\n",
              "    <tr>\n",
              "      <th>F</th>\n",
              "      <td>225</td>\n",
              "      <td>158</td>\n",
              "    </tr>\n",
              "    <tr>\n",
              "      <th>M</th>\n",
              "      <td>185</td>\n",
              "      <td>81</td>\n",
              "    </tr>\n",
              "  </tbody>\n",
              "</table>\n",
              "</div>"
            ],
            "text/plain": [
              "romantic   no  yes\n",
              "sex               \n",
              "F         225  158\n",
              "M         185   81"
            ]
          },
          "execution_count": 13,
          "metadata": {},
          "output_type": "execute_result"
        },
        {
          "name": "stdout",
          "output_type": "stream",
          "text": [
            "Chi^2:7.41593\n",
            "P:0.00646\n",
            "DoF:1\n",
            "\n",
            "The Chi^2 value is 7.415931 which is highe than 6.64 (value at significance level 0.01 and degree of freedom 0.01)\n",
            "This means we can reject the hypothesis, as a result we can state that the attributes 'sex' and 'romantic' is not independent. \n"
          ]
        }
      ],
      "source": [
        "print(\"Task 6\\n(a)Attributes internet and romantic independence at significance level 0.01\")\n",
        "int_rom_crosstab = pd.crosstab(data_df[\"internet\"], data_df[\"romantic\"])\n",
        "int_rom_crosstab\n",
        "\n",
        "int_rom_chi2, int_rom_p, int_rom_dof, _ = stats.chi2_contingency((int_rom_crosstab))\n",
        "print(\"Chi^2:{:.5f}\\nP:{:.5f}\\nDoF:{}\".format(int_rom_chi2,int_rom_p,int_rom_dof))\n",
        "print()\n",
        "print(\"The Chi^2 value is 0.625769 which is smaller than 6.64 (value at signifiance level 0.01 with degree of freedom 1)\")\n",
        "print(\"This means we accept the hypothesis that internet and romantic are independent\")\n",
        "print()\n",
        "print(\"____________________________________________\")\n",
        "print(\"(b) are the attributes sex and romantic independent of each other at significance level 0.01\")\n",
        "sex_rom_crosstab = pd.crosstab(data_df[\"sex\"],data_df[\"romantic\"])\n",
        "sex_rom_crosstab\n",
        "\n",
        "sex_rom_chi2, sex_rom_p, sex_rom_dof, _ = stats.chi2_contingency((sex_rom_crosstab))\n",
        "print(\"Chi^2:{:.5f}\\nP:{:.5f}\\nDoF:{}\".format(sex_rom_chi2,sex_rom_p,sex_rom_dof))\n",
        "print()\n",
        "\n",
        "print(\"The Chi^2 value is 7.415931 which is highe than 6.64 (value at significance level 0.01 and degree of freedom 0.01)\\nThis means we can reject the hypothesis, as a result we can state that the attributes 'sex' and 'romantic' is not independent. \")"
      ]
    },
    {
      "cell_type": "markdown",
      "metadata": {
        "id": "sSO9g2beFRkb"
      },
      "source": [
        "## Task 7. Normalization"
      ]
    },
    {
      "cell_type": "code",
      "execution_count": 14,
      "metadata": {
        "id": "7xb3hddiFRkb"
      },
      "outputs": [
        {
          "name": "stdout",
          "output_type": "stream",
          "text": [
            "Task 7 - Normalization\n",
            "(a) MinMax Normalization of studytime\n",
            "___________________________________________\n",
            "(b)Z-score normalization of G1,G2,G3,Dalc,Walc\n"
          ]
        },
        {
          "data": {
            "text/html": [
              "<div>\n",
              "<style scoped>\n",
              "    .dataframe tbody tr th:only-of-type {\n",
              "        vertical-align: middle;\n",
              "    }\n",
              "\n",
              "    .dataframe tbody tr th {\n",
              "        vertical-align: top;\n",
              "    }\n",
              "\n",
              "    .dataframe thead th {\n",
              "        text-align: right;\n",
              "    }\n",
              "</style>\n",
              "<table border=\"1\" class=\"dataframe\">\n",
              "  <thead>\n",
              "    <tr style=\"text-align: right;\">\n",
              "      <th></th>\n",
              "      <th>school</th>\n",
              "      <th>sex</th>\n",
              "      <th>age</th>\n",
              "      <th>address</th>\n",
              "      <th>famsize</th>\n",
              "      <th>Pstatus</th>\n",
              "      <th>Medu</th>\n",
              "      <th>Fedu</th>\n",
              "      <th>Mjob</th>\n",
              "      <th>Fjob</th>\n",
              "      <th>...</th>\n",
              "      <th>absences</th>\n",
              "      <th>G1</th>\n",
              "      <th>G2</th>\n",
              "      <th>G3</th>\n",
              "      <th>studytime_minmax_scaled</th>\n",
              "      <th>G1_z_scaled</th>\n",
              "      <th>G2_z_scaled</th>\n",
              "      <th>G3_z_scaled</th>\n",
              "      <th>Dalc_z_scaled</th>\n",
              "      <th>Walc_z_scaled</th>\n",
              "    </tr>\n",
              "  </thead>\n",
              "  <tbody>\n",
              "    <tr>\n",
              "      <th>0</th>\n",
              "      <td>GP</td>\n",
              "      <td>F</td>\n",
              "      <td>18</td>\n",
              "      <td>U</td>\n",
              "      <td>GT3</td>\n",
              "      <td>A</td>\n",
              "      <td>4</td>\n",
              "      <td>4</td>\n",
              "      <td>at_home</td>\n",
              "      <td>teacher</td>\n",
              "      <td>...</td>\n",
              "      <td>4</td>\n",
              "      <td>0</td>\n",
              "      <td>11</td>\n",
              "      <td>11</td>\n",
              "      <td>0.333333</td>\n",
              "      <td>-4.155470</td>\n",
              "      <td>-0.195820</td>\n",
              "      <td>-0.280658</td>\n",
              "      <td>-0.543555</td>\n",
              "      <td>-0.997695</td>\n",
              "    </tr>\n",
              "    <tr>\n",
              "      <th>1</th>\n",
              "      <td>GP</td>\n",
              "      <td>F</td>\n",
              "      <td>17</td>\n",
              "      <td>U</td>\n",
              "      <td>GT3</td>\n",
              "      <td>T</td>\n",
              "      <td>1</td>\n",
              "      <td>1</td>\n",
              "      <td>at_home</td>\n",
              "      <td>other</td>\n",
              "      <td>...</td>\n",
              "      <td>2</td>\n",
              "      <td>9</td>\n",
              "      <td>11</td>\n",
              "      <td>11</td>\n",
              "      <td>0.333333</td>\n",
              "      <td>-0.874570</td>\n",
              "      <td>-0.195820</td>\n",
              "      <td>-0.280658</td>\n",
              "      <td>-0.543555</td>\n",
              "      <td>-0.997695</td>\n",
              "    </tr>\n",
              "    <tr>\n",
              "      <th>2</th>\n",
              "      <td>GP</td>\n",
              "      <td>F</td>\n",
              "      <td>15</td>\n",
              "      <td>U</td>\n",
              "      <td>LE3</td>\n",
              "      <td>T</td>\n",
              "      <td>1</td>\n",
              "      <td>1</td>\n",
              "      <td>at_home</td>\n",
              "      <td>other</td>\n",
              "      <td>...</td>\n",
              "      <td>6</td>\n",
              "      <td>12</td>\n",
              "      <td>13</td>\n",
              "      <td>12</td>\n",
              "      <td>0.333333</td>\n",
              "      <td>0.219064</td>\n",
              "      <td>0.491137</td>\n",
              "      <td>0.029116</td>\n",
              "      <td>0.538553</td>\n",
              "      <td>0.560678</td>\n",
              "    </tr>\n",
              "    <tr>\n",
              "      <th>3</th>\n",
              "      <td>GP</td>\n",
              "      <td>F</td>\n",
              "      <td>15</td>\n",
              "      <td>U</td>\n",
              "      <td>GT3</td>\n",
              "      <td>T</td>\n",
              "      <td>4</td>\n",
              "      <td>2</td>\n",
              "      <td>health</td>\n",
              "      <td>services</td>\n",
              "      <td>...</td>\n",
              "      <td>0</td>\n",
              "      <td>14</td>\n",
              "      <td>14</td>\n",
              "      <td>14</td>\n",
              "      <td>0.666667</td>\n",
              "      <td>0.948153</td>\n",
              "      <td>0.834615</td>\n",
              "      <td>0.648663</td>\n",
              "      <td>-0.543555</td>\n",
              "      <td>-0.997695</td>\n",
              "    </tr>\n",
              "    <tr>\n",
              "      <th>4</th>\n",
              "      <td>GP</td>\n",
              "      <td>F</td>\n",
              "      <td>16</td>\n",
              "      <td>U</td>\n",
              "      <td>GT3</td>\n",
              "      <td>T</td>\n",
              "      <td>3</td>\n",
              "      <td>3</td>\n",
              "      <td>other</td>\n",
              "      <td>other</td>\n",
              "      <td>...</td>\n",
              "      <td>0</td>\n",
              "      <td>11</td>\n",
              "      <td>13</td>\n",
              "      <td>13</td>\n",
              "      <td>0.333333</td>\n",
              "      <td>-0.145481</td>\n",
              "      <td>0.491137</td>\n",
              "      <td>0.338889</td>\n",
              "      <td>-0.543555</td>\n",
              "      <td>-0.218508</td>\n",
              "    </tr>\n",
              "  </tbody>\n",
              "</table>\n",
              "<p>5 rows × 39 columns</p>\n",
              "</div>"
            ],
            "text/plain": [
              "  school sex  age address famsize Pstatus  Medu  Fedu     Mjob      Fjob  ...  \\\n",
              "0     GP   F   18       U     GT3       A     4     4  at_home   teacher  ...   \n",
              "1     GP   F   17       U     GT3       T     1     1  at_home     other  ...   \n",
              "2     GP   F   15       U     LE3       T     1     1  at_home     other  ...   \n",
              "3     GP   F   15       U     GT3       T     4     2   health  services  ...   \n",
              "4     GP   F   16       U     GT3       T     3     3    other     other  ...   \n",
              "\n",
              "  absences  G1  G2  G3  studytime_minmax_scaled G1_z_scaled G2_z_scaled  \\\n",
              "0        4   0  11  11                 0.333333   -4.155470   -0.195820   \n",
              "1        2   9  11  11                 0.333333   -0.874570   -0.195820   \n",
              "2        6  12  13  12                 0.333333    0.219064    0.491137   \n",
              "3        0  14  14  14                 0.666667    0.948153    0.834615   \n",
              "4        0  11  13  13                 0.333333   -0.145481    0.491137   \n",
              "\n",
              "  G3_z_scaled Dalc_z_scaled Walc_z_scaled  \n",
              "0   -0.280658     -0.543555     -0.997695  \n",
              "1   -0.280658     -0.543555     -0.997695  \n",
              "2    0.029116      0.538553      0.560678  \n",
              "3    0.648663     -0.543555     -0.997695  \n",
              "4    0.338889     -0.543555     -0.218508  \n",
              "\n",
              "[5 rows x 39 columns]"
            ]
          },
          "execution_count": 14,
          "metadata": {},
          "output_type": "execute_result"
        },
        {
          "name": "stdout",
          "output_type": "stream",
          "text": [
            "___________________________________________\n",
            "(c)Output to file\n"
          ]
        }
      ],
      "source": [
        "print(\"Task 7 - Normalization\\n(a) MinMax Normalization of studytime\")\n",
        "scaler = MinMaxScaler(feature_range=(0,1))\n",
        "\n",
        "data_df[\"studytime_minmax_scaled\"] = scaler.fit_transform(data_df[[\"studytime\"]])\n",
        "print(\"___________________________________________\")\n",
        "print(\"(b)Z-score normalization of G1,G2,G3,Dalc,Walc\")\n",
        "z_scaler = StandardScaler()\n",
        "\n",
        "data_df[\"G1_z_scaled\"] = z_scaler.fit_transform(data_df[['G1']])\n",
        "data_df[\"G2_z_scaled\"] = z_scaler.fit_transform(data_df[['G2']])\n",
        "data_df[\"G3_z_scaled\"] = z_scaler.fit_transform(data_df[['G3']])\n",
        "data_df[\"Dalc_z_scaled\"] = z_scaler.fit_transform(data_df[['Dalc']])\n",
        "data_df[\"Walc_z_scaled\"] = z_scaler.fit_transform(data_df[['Walc']])\n",
        "data_df.head()\n",
        "\n",
        "print(\"___________________________________________\")\n",
        "\n",
        "print(\"(c)Output to file\")\n",
        "data_df[['studytime_minmax_scaled','G1_z_scaled','G2_z_scaled','G3_z_scaled','Dalc_z_scaled','Walc_z_scaled']].to_csv('data normalized.csv')\n",
        "\n"
      ]
    },
    {
      "cell_type": "markdown",
      "metadata": {
        "id": "WfuDE__WFRkc"
      },
      "source": [
        "## Task 8. PCA"
      ]
    },
    {
      "cell_type": "code",
      "execution_count": 15,
      "metadata": {},
      "outputs": [
        {
          "name": "stdout",
          "output_type": "stream",
          "text": [
            "Task 8 - PCA\n",
            "(a) Cumulative explained variance\n",
            "eigenvalues [2.89943685 1.46517552 0.38371112 0.18308006 0.0763125 ]\n",
            "explain_ratio [0.57899386 0.29258359 0.07662398 0.03655959 0.01523898]\n",
            "accumulated explain_ratio  [0.58 0.87 0.95 0.98 1.  ]\n"
          ]
        },
        {
          "data": {
            "image/png": "[encoded data removed]",
            "text/plain": [
              "<Figure size 1600x700 with 1 Axes>"
            ]
          },
          "metadata": {
            "needs_background": "light"
          },
          "output_type": "display_data"
        }
      ],
      "source": [
        "print(\"Task 8 - PCA\\n(a) Cumulative explained variance\")\n",
        "\n",
        "\n",
        "# seperating normalized data into array\n",
        "\n",
        "atr = [\"G1_z_scaled\",\"G2_z_scaled\",\"G3_z_scaled\",\"Dalc_z_scaled\",\"Walc_z_scaled\"]\n",
        "x = data_df.loc[:,atr].values\n",
        "\n",
        "pca = PCA(n_components=5)\n",
        "principalcomponents = pca.fit_transform(x)\n",
        "\n",
        "eigenvalue = pca.explained_variance_\n",
        "print('eigenvalues',eigenvalue)\n",
        "print('explain_ratio',pca.explained_variance_ratio_)\n",
        "\n",
        "explain_ratio = pca.explained_variance_ratio_.cumsum().round(2)\n",
        "print('accumulated explain_ratio ',explain_ratio)\n",
        "\n",
        "fig, axes = plt.subplots(1,1,figsize=(16,7), dpi=100);\n",
        "plt.plot(range(1, 6), explain_ratio, color='firebrick');\n",
        "plt.title('Variance Explained Ratio %', fontsize=22);\n",
        "plt.xlabel('Number of Principal Components', fontsize=16);\n",
        "\n",
        "\n",
        "\n",
        "\n"
      ]
    },
    {
      "cell_type": "code",
      "execution_count": 16,
      "metadata": {},
      "outputs": [
        {
          "name": "stdout",
          "output_type": "stream",
          "text": [
            "___________________________________________\n",
            "(b) and (c) transforming to 3 components and storing in csv\n"
          ]
        },
        {
          "data": {
            "text/html": [
              "<div>\n",
              "<style scoped>\n",
              "    .dataframe tbody tr th:only-of-type {\n",
              "        vertical-align: middle;\n",
              "    }\n",
              "\n",
              "    .dataframe tbody tr th {\n",
              "        vertical-align: top;\n",
              "    }\n",
              "\n",
              "    .dataframe thead th {\n",
              "        text-align: right;\n",
              "    }\n",
              "</style>\n",
              "<table border=\"1\" class=\"dataframe\">\n",
              "  <thead>\n",
              "    <tr style=\"text-align: right;\">\n",
              "      <th></th>\n",
              "      <th>d1</th>\n",
              "      <th>d2</th>\n",
              "      <th>d3</th>\n",
              "    </tr>\n",
              "  </thead>\n",
              "  <tbody>\n",
              "    <tr>\n",
              "      <th>0</th>\n",
              "      <td>2.131286</td>\n",
              "      <td>-1.904478</td>\n",
              "      <td>0.395291</td>\n",
              "    </tr>\n",
              "    <tr>\n",
              "      <th>1</th>\n",
              "      <td>0.377079</td>\n",
              "      <td>-1.287285</td>\n",
              "      <td>0.321735</td>\n",
              "    </tr>\n",
              "    <tr>\n",
              "      <th>2</th>\n",
              "      <td>-0.150234</td>\n",
              "      <td>0.878536</td>\n",
              "      <td>-0.001121</td>\n",
              "    </tr>\n",
              "    <tr>\n",
              "      <th>3</th>\n",
              "      <td>-1.676912</td>\n",
              "      <td>-0.571828</td>\n",
              "      <td>0.331192</td>\n",
              "    </tr>\n",
              "    <tr>\n",
              "      <th>4</th>\n",
              "      <td>-0.559548</td>\n",
              "      <td>-0.374990</td>\n",
              "      <td>-0.208094</td>\n",
              "    </tr>\n",
              "    <tr>\n",
              "      <th>...</th>\n",
              "      <td>...</td>\n",
              "      <td>...</td>\n",
              "      <td>...</td>\n",
              "    </tr>\n",
              "    <tr>\n",
              "      <th>644</th>\n",
              "      <td>0.524778</td>\n",
              "      <td>-0.747861</td>\n",
              "      <td>-0.240501</td>\n",
              "    </tr>\n",
              "    <tr>\n",
              "      <th>645</th>\n",
              "      <td>-2.401428</td>\n",
              "      <td>-0.323148</td>\n",
              "      <td>0.346825</td>\n",
              "    </tr>\n",
              "    <tr>\n",
              "      <th>646</th>\n",
              "      <td>0.136823</td>\n",
              "      <td>-1.193677</td>\n",
              "      <td>0.301065</td>\n",
              "    </tr>\n",
              "    <tr>\n",
              "      <th>647</th>\n",
              "      <td>1.583662</td>\n",
              "      <td>1.665583</td>\n",
              "      <td>0.194115</td>\n",
              "    </tr>\n",
              "    <tr>\n",
              "      <th>648</th>\n",
              "      <td>1.223852</td>\n",
              "      <td>1.789774</td>\n",
              "      <td>0.210889</td>\n",
              "    </tr>\n",
              "  </tbody>\n",
              "</table>\n",
              "<p>649 rows × 3 columns</p>\n",
              "</div>"
            ],
            "text/plain": [
              "           d1        d2        d3\n",
              "0    2.131286 -1.904478  0.395291\n",
              "1    0.377079 -1.287285  0.321735\n",
              "2   -0.150234  0.878536 -0.001121\n",
              "3   -1.676912 -0.571828  0.331192\n",
              "4   -0.559548 -0.374990 -0.208094\n",
              "..        ...       ...       ...\n",
              "644  0.524778 -0.747861 -0.240501\n",
              "645 -2.401428 -0.323148  0.346825\n",
              "646  0.136823 -1.193677  0.301065\n",
              "647  1.583662  1.665583  0.194115\n",
              "648  1.223852  1.789774  0.210889\n",
              "\n",
              "[649 rows x 3 columns]"
            ]
          },
          "execution_count": 16,
          "metadata": {},
          "output_type": "execute_result"
        }
      ],
      "source": [
        "print(\"___________________________________________\")\n",
        "\n",
        "print(\"(b) and (c) transforming to 3 components and storing in csv\")\n",
        "pca_3 = PCA(n_components=3)  # 3 components is atleast 0.9 variance explained\n",
        "principalcomponents_3 = pca_3.fit_transform(x) \n",
        "\n",
        "np.savetxt(\"data reduced.csv\", principalcomponents_3, delimiter=\",\")  #save to csv\n",
        "\n",
        "pca_df = pd.DataFrame(principalcomponents_3, columns=['d1','d2','d3'])\n",
        "\n",
        "pca_df\n",
        "\n"
      ]
    },
    {
      "cell_type": "markdown",
      "metadata": {},
      "source": [
        "# D1, D2, D3 - 5 figure statistic\n"
      ]
    },
    {
      "cell_type": "code",
      "execution_count": 17,
      "metadata": {},
      "outputs": [
        {
          "name": "stdout",
          "output_type": "stream",
          "text": [
            "D1: 5 Number Summary:\n"
          ]
        },
        {
          "data": {
            "text/plain": [
              "min   -4.255613\n",
              "25%   -1.122190\n",
              "50%   -0.012745\n",
              "75%    1.171323\n",
              "max    6.200937\n",
              "Name: d1, dtype: float64"
            ]
          },
          "execution_count": 17,
          "metadata": {},
          "output_type": "execute_result"
        },
        {
          "name": "stdout",
          "output_type": "stream",
          "text": [
            "___________________________________________\n",
            "D2: 5 Number Summary:\n"
          ]
        },
        {
          "data": {
            "text/plain": [
              "min   -2.927694\n",
              "25%   -0.888787\n",
              "50%   -0.237836\n",
              "75%    0.726003\n",
              "max    4.777154\n",
              "Name: d2, dtype: float64"
            ]
          },
          "execution_count": 17,
          "metadata": {},
          "output_type": "execute_result"
        },
        {
          "name": "stdout",
          "output_type": "stream",
          "text": [
            "___________________________________________\n",
            "D3: 5 Number Summary:\n"
          ]
        },
        {
          "data": {
            "text/plain": [
              "min   -1.908536\n",
              "25%   -0.259555\n",
              "50%    0.213586\n",
              "75%    0.331192\n",
              "max    3.374054\n",
              "Name: d3, dtype: float64"
            ]
          },
          "execution_count": 17,
          "metadata": {},
          "output_type": "execute_result"
        }
      ],
      "source": [
        "print(\"D1: 5 Number Summary:\")\n",
        "pca_df['d1'].describe().iloc[3:8]\n",
        "print(\"___________________________________________\")\n",
        "print(\"D2: 5 Number Summary:\")\n",
        "pca_df['d2'].describe().iloc[3:8]\n",
        "print(\"___________________________________________\")\n",
        "print(\"D3: 5 Number Summary:\")\n",
        "pca_df['d3'].describe().iloc[3:8]\n",
        "\n"
      ]
    },
    {
      "cell_type": "markdown",
      "metadata": {
        "id": "v--0Zx67FRka"
      },
      "source": [
        "## Task 9. Missing values"
      ]
    },
    {
      "cell_type": "code",
      "execution_count": 18,
      "metadata": {
        "id": "qSXoKd5hFRkc"
      },
      "outputs": [
        {
          "name": "stdout",
          "output_type": "stream",
          "text": [
            "Task 9 -Replacing missing values\n"
          ]
        },
        {
          "data": {
            "text/plain": [
              "min    0.0\n",
              "Name: G2, dtype: float64"
            ]
          },
          "execution_count": 18,
          "metadata": {},
          "output_type": "execute_result"
        },
        {
          "name": "stdout",
          "output_type": "stream",
          "text": [
            "0's replaced with mode\n"
          ]
        },
        {
          "data": {
            "text/plain": [
              "min    5.0\n",
              "Name: G2, dtype: float64"
            ]
          },
          "execution_count": 18,
          "metadata": {},
          "output_type": "execute_result"
        },
        {
          "name": "stdout",
          "output_type": "stream",
          "text": [
            "___________________________________________\n"
          ]
        }
      ],
      "source": [
        "print(\"Task 9 -Replacing missing values\")\n",
        "\n",
        "#reloading the dataset\n",
        "\n",
        "reload_data_df = pd.read_csv(data_file, sep=';')\n",
        "reload_data_df['G2'].describe().iloc[3:4] # seeing the min\n",
        "\n",
        "G2_mode = reload_data_df['G2'].mode()\n",
        "G3_mode = reload_data_df['G3'].mode()\n",
        "\n",
        "reload_data_df[\"G2\"].replace(to_replace = 0, value= G2_mode[0], inplace=True)\n",
        "reload_data_df[\"G3\"].replace(to_replace = 0, value= G3_mode[0], inplace=True)\n",
        "\n",
        "print(\"0's replaced with mode\")\n",
        "reload_data_df['G2'].describe().iloc[3:4] # seeing the min\n",
        "print(\"___________________________________________\")\n",
        "\n",
        "\n",
        "# "
      ]
    },
    {
      "cell_type": "code",
      "execution_count": 19,
      "metadata": {},
      "outputs": [
        {
          "name": "stdout",
          "output_type": "stream",
          "text": [
            "Old vs New Correlations\n",
            "The old correllation between G2 and G3: 0.9185480035603523\n",
            "The new correllation between G2 and G3: 0.9234438821040236\n",
            "___________________________________________\n"
          ]
        },
        {
          "data": {
            "image/png": "[encoded data removed]",
            "text/plain": [
              "<Figure size 2520x720 with 2 Axes>"
            ]
          },
          "metadata": {
            "needs_background": "light"
          },
          "output_type": "display_data"
        }
      ],
      "source": [
        "print(\"Old vs New Correlations\")\n",
        "\n",
        "reload_data_df[[\"G2\", \"G3\"]].corr(method='pearson')\n",
        "new_corr_g2g3 = reload_data_df[[\"G2\",\"G3\"]].corr(method=\"pearson\").iloc[1,0]\n",
        "print(\"The old correllation between G2 and G3: {}\".format(corr_g2g3))\n",
        "print(\"The new correllation between G2 and G3: {}\".format(new_corr_g2g3))\n",
        "print(\"___________________________________________\")\n",
        "\n",
        "fig, axis = plt.subplots(1,2, figsize=(35, 10))\n",
        "fig.suptitle('Task 9 - New vs Old Scatterplots')\n",
        "\n",
        "sns.scatterplot(ax = axis[0], data=data_df, x=\"G2\", y=\"G3\").set_title(\"Task 4 - G2 and G3 OldScatterPlot\");\n",
        "sns.scatterplot(ax = axis[1], data=reload_data_df, x=\"G2\", y=\"G3\").set_title(\"Task 9 - G2 and G3 New ScatterPlot\");\n",
        "\n",
        "\n",
        "\n",
        "\n"
      ]
    }
  ],
  "metadata": {
    "colab": {
      "collapsed_sections": [],
      "name": "assignment1.ipynb",
      "provenance": []
    },
    "interpreter": {
      "hash": "18371ec54b26b5592670d9a578e80da52b3b6d0ef5bf2bd528032fbe2540b3db"
    },
    "kernelspec": {
      "display_name": "Python 3.9.6 64-bit ('comp4331': conda)",
      "name": "python3"
    },
    "language_info": {
      "codemirror_mode": {
        "name": "ipython",
        "version": 3
      },
      "file_extension": ".py",
      "mimetype": "text/x-python",
      "name": "python",
      "nbconvert_exporter": "python",
      "pygments_lexer": "ipython3",
      "version": "3.9.6"
    }
  },
  "nbformat": 4,
  "nbformat_minor": 0
}
