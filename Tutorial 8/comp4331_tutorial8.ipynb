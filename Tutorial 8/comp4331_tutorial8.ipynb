{
  "cells": [
    {
      "cell_type": "markdown",
      "metadata": {
        "id": "fxCShc5IBhzC"
      },
      "source": [
        "# COMP 4331 Tutorial 8 Neural Networks"
      ]
    },
    {
      "cell_type": "code",
      "execution_count": 1,
      "metadata": {
        "id": "jtHnO60nBhzH"
      },
      "outputs": [],
      "source": [
        "import torch\n",
        "import torchvision\n",
        "import torch.nn as nn\n",
        "import torch.nn.functional as F\n",
        "import torch.optim as optim\n",
        "import numpy as np"
      ]
    },
    {
      "cell_type": "code",
      "execution_count": 2,
      "metadata": {
        "id": "mEKPEOUKBhzI"
      },
      "outputs": [],
      "source": [
        "def set_random_seed(seed):\n",
        "    seed_id = seed\n",
        "    torch.manual_seed(seed_id)\n",
        "    np.random.seed(seed_id)\n",
        "\n",
        "set_random_seed(1)\n",
        "\n",
        "def count_acc(logits, label):\n",
        "    \"\"\"\n",
        "    :param logits: n * c; n=num of samples, c=number of classes\n",
        "    :param label: n\n",
        "    :return: accuracy\n",
        "    \"\"\"\n",
        "    pred = torch.argmax(logits, dim=1)\n",
        "    return (pred == label).float().mean().item()"
      ]
    },
    {
      "cell_type": "markdown",
      "metadata": {
        "id": "kcU0s8khBhzJ"
      },
      "source": [
        "## Loading MNIST dataset (train + test)\n",
        "* note: downloading data costs 5~10 second."
      ]
    },
    {
      "cell_type": "code",
      "execution_count": 3,
      "metadata": {
        "colab": {
          "base_uri": "https://localhost:8080/",
          "height": 471,
          "referenced_widgets": [
            "b076dbcec7094ddd80ae4901d3caf76b",
            "75fec6c21ed64231a8b5661e12d6d81b",
            "b4ba5294e9de4c04b79a19a2052423e3",
            "2d626e0dad1d49ada459cf0e307a5274",
            "1361a0d3417d48cc8cb3a532071cf9b3",
            "9f05937cb4f949a694c1599be60b51e9",
            "e61d7bc4926745f7a8b664d57007aa58",
            "dc2624b9e62b4756a1de4af9639c694c",
            "c48fb70b49394e11b96b20a7c818a064",
            "19fc9f152c894d97974ee229247a5177",
            "6b37cbc56a064262ad0d4a803dcb7374",
            "ca7d6f2e7d1e4e0f865fd4e204865f45",
            "4ba675a3ae3f4504baf1ed4b8075f6f0",
            "426079cfd4734a61aa22005649a22f32",
            "1c528adfd65e4a99a122d7883a358086",
            "776cc1c21791417083013d6632b7be7e",
            "49bca7360c6949c680e9d6f383cda639",
            "8a4b9efeb86c4bb29908d21097e38f95",
            "dbec4f1545914db19c90b0b291fa4f24",
            "9626b87655d5457aab9d0720e3ecddf4",
            "e2cf4f67852e489dbfbe8428206b9f18",
            "bc3be1d97ffa4054b92e062e55179fff",
            "6ef53c74ce184dc6a5f4f60fd3b834cc",
            "d4e212a578594122a24a087565b7d9c1",
            "a249a5bfdd8f45a29776edd6fe77dce0",
            "561c672341f440d99c499ec38a2283d2",
            "c215a9284d614daa8c151bd3ee2085e0",
            "7a4b971377194a3abbf7b7a65fe76798",
            "69a98c6ac34740f7ab0ff6b6a9f518e2",
            "7672e98e7d2d4f8bbcd9bef2289fb3b9",
            "e8372172b4a0439c930a438e18a00d06",
            "352522a7c0ff40a59017b462dc22e22a",
            "b0d2a1c6ee1943b3863ba6f7b639a225",
            "3a173d5698aa462db061b94fdd481635",
            "aa0fa58be9c04a8998cc23b76d3fce3d",
            "24930f8264af41d593c0cb3dd120bc16",
            "cc426e68f12140fcab71c5000347671c",
            "36be740841014e9d9e469d325252c401",
            "810836490cb64cf79df06570d046357b",
            "0abeff85af93430bbb78220ca94165af",
            "994896708b25485695ba9532309d6a41",
            "0da618ece9bf467098d796daf5e3341a",
            "dd8aed3a0ad24978afefab1938823b17",
            "5575c837ebc5453ababe98a0da0cbd7d"
          ]
        },
        "id": "ULm72VBTBhzK",
        "outputId": "f3638277-0afe-46bc-ff39-9c5873c6b822"
      },
      "outputs": [
        {
          "name": "stdout",
          "output_type": "stream",
          "text": [
            "Downloading http://yann.lecun.com/exdb/mnist/train-images-idx3-ubyte.gz\n",
            "Downloading http://yann.lecun.com/exdb/mnist/train-images-idx3-ubyte.gz to data/MNIST\\raw\\train-images-idx3-ubyte.gz\n"
          ]
        },
        {
          "name": "stderr",
          "output_type": "stream",
          "text": [
            "100.0%\n"
          ]
        },
        {
          "name": "stdout",
          "output_type": "stream",
          "text": [
            "Extracting data/MNIST\\raw\\train-images-idx3-ubyte.gz to data/MNIST\\raw\n",
            "\n",
            "Downloading http://yann.lecun.com/exdb/mnist/train-labels-idx1-ubyte.gz\n",
            "Downloading http://yann.lecun.com/exdb/mnist/train-labels-idx1-ubyte.gz to data/MNIST\\raw\\train-labels-idx1-ubyte.gz\n"
          ]
        },
        {
          "name": "stderr",
          "output_type": "stream",
          "text": [
            "102.8%\n"
          ]
        },
        {
          "name": "stdout",
          "output_type": "stream",
          "text": [
            "Extracting data/MNIST\\raw\\train-labels-idx1-ubyte.gz to data/MNIST\\raw\n",
            "\n",
            "Downloading http://yann.lecun.com/exdb/mnist/t10k-images-idx3-ubyte.gz\n",
            "Downloading http://yann.lecun.com/exdb/mnist/t10k-images-idx3-ubyte.gz to data/MNIST\\raw\\t10k-images-idx3-ubyte.gz\n"
          ]
        },
        {
          "name": "stderr",
          "output_type": "stream",
          "text": [
            "100.0%\n"
          ]
        },
        {
          "name": "stdout",
          "output_type": "stream",
          "text": [
            "Extracting data/MNIST\\raw\\t10k-images-idx3-ubyte.gz to data/MNIST\\raw\n",
            "\n",
            "Downloading http://yann.lecun.com/exdb/mnist/t10k-labels-idx1-ubyte.gz\n",
            "Downloading http://yann.lecun.com/exdb/mnist/t10k-labels-idx1-ubyte.gz to data/MNIST\\raw\\t10k-labels-idx1-ubyte.gz\n"
          ]
        },
        {
          "name": "stderr",
          "output_type": "stream",
          "text": [
            "112.7%"
          ]
        },
        {
          "name": "stdout",
          "output_type": "stream",
          "text": [
            "Extracting data/MNIST\\raw\\t10k-labels-idx1-ubyte.gz to data/MNIST\\raw\n",
            "\n"
          ]
        },
        {
          "name": "stderr",
          "output_type": "stream",
          "text": [
            "\n"
          ]
        }
      ],
      "source": [
        "# Prepare dataset\n",
        "mnist_training_set = torchvision.datasets.MNIST(\"data/\", train=True, \n",
        "                                       transform=torchvision.transforms.ToTensor(), download=True)\n",
        "mnist_test_set = torchvision.datasets.MNIST(\"data/\", train=False, \n",
        "                                      transform=torchvision.transforms.ToTensor(), download=True)\n",
        "mnist_train_loader = torch.utils.data.DataLoader(mnist_training_set, batch_size=32)\n",
        "mnist_test_loader = torch.utils.data.DataLoader(mnist_test_set, batch_size=1024)\n"
      ]
    },
    {
      "cell_type": "markdown",
      "metadata": {
        "id": "N6tbZgKiBhzK"
      },
      "source": [
        "## train a model on the training set"
      ]
    },
    {
      "cell_type": "code",
      "execution_count": 4,
      "metadata": {
        "id": "OhDG0FBDBhzL"
      },
      "outputs": [],
      "source": [
        "def train_a_model(model, num_epoch=3):\n",
        "    # define the optimizer\n",
        "    optimizer = optim.SGD(model.parameters(), lr=0.01, momentum=0.9)\n",
        "    \n",
        "    for i_epoch in range(num_epoch):\n",
        "        model.train(True)\n",
        "        loss_list = []\n",
        "        acc_list = []\n",
        "        for i_iter, (x, y_true) in enumerate(mnist_train_loader, start=1):\n",
        "            \n",
        "            # make prediction\n",
        "            y_pred = model.forward(x)\n",
        "            \n",
        "            # compute the loss\n",
        "            loss = F.cross_entropy(y_pred, y_true)\n",
        "            \n",
        "            # set gradient = 0 before applying back-prop\n",
        "            optimizer.zero_grad()\n",
        "            \n",
        "            # apply back-prop, compute the gradient\n",
        "            loss.backward() \n",
        "            \n",
        "            # update the network weights\n",
        "            optimizer.step()\n",
        "\n",
        "            # print msg during training\n",
        "            acc = count_acc(y_pred, y_true)\n",
        "            loss_list.append(loss.item())\n",
        "            acc_list.append(acc)\n",
        "            if i_iter % 200 == 0:\n",
        "                loss_avg = np.sum(loss_list) / len(loss_list)\n",
        "                acc_avg = np.sum(acc_list) / len(acc_list)\n",
        "                msg = \"TRAIN epoch: {}/{} iter: {}/{} \\t loss: {:.4f}, acc: {:.2f}%\".format(\n",
        "                    i_epoch, num_epoch, i_iter, len(mnist_train_loader), loss_avg, acc_avg*100)\n",
        "                print(msg)\n",
        "                loss_list = []\n",
        "                acc_list = []"
      ]
    },
    {
      "cell_type": "markdown",
      "metadata": {
        "id": "IuOcNRr3BhzM"
      },
      "source": [
        "## evaluate a mdoel on testing set"
      ]
    },
    {
      "cell_type": "code",
      "execution_count": 7,
      "metadata": {
        "id": "0Yk0Y_iABhzN"
      },
      "outputs": [],
      "source": [
        "def evaluate_a_model(model):\n",
        "    model.train(False)\n",
        "    loss_list = []\n",
        "    acc_list = []\n",
        "    with torch.no_grad():\n",
        "        for i_iter, (x, y_true) in enumerate(mnist_test_loader):\n",
        "            # make prediction\n",
        "            y_pred = model.forward(x)\n",
        "            \n",
        "            # compute the loss\n",
        "            loss = F.cross_entropy(y_pred, y_true)\n",
        "            \n",
        "            # compute the acc\n",
        "            acc = count_acc(y_pred, y_true)\n",
        "            \n",
        "            loss_list.append(loss.item())\n",
        "            acc_list.append(acc)\n",
        "\n",
        "    loss_avg = np.sum(loss_list) / len(loss_list)\n",
        "    acc_avg = np.sum(acc_list) / len(acc_list)\n",
        "    msg = \"TEST loss : {:.4f}, acc: {:.2f}%\".format(loss_avg, acc_avg*100)\n",
        "    print(msg)"
      ]
    },
    {
      "cell_type": "markdown",
      "metadata": {
        "id": "qilSm2GnBhzN"
      },
      "source": [
        "## Use MLP\n",
        "![MLP](https://guillaumebrg.files.wordpress.com/2016/01/mnist_and_mlp1.png)"
      ]
    },
    {
      "cell_type": "code",
      "execution_count": 8,
      "metadata": {
        "colab": {
          "base_uri": "https://localhost:8080/"
        },
        "id": "2k8RaUU5BhzO",
        "outputId": "42d10bf1-f17e-4859-e1e8-4b602361ebe7"
      },
      "outputs": [
        {
          "name": "stdout",
          "output_type": "stream",
          "text": [
            "MLP(\n",
            "  (fc1): Linear(in_features=784, out_features=300, bias=True)\n",
            "  (relu): ReLU()\n",
            "  (fc2): Linear(in_features=300, out_features=10, bias=True)\n",
            ")\n"
          ]
        }
      ],
      "source": [
        "class MLP(nn.Module):\n",
        "    def __init__(self):\n",
        "        super(MLP, self).__init__()\n",
        "        input_dim = 1*28*28 # ie, 784\n",
        "        hidden_dim = 300\n",
        "        output_dim = 10\n",
        "        self.fc1 = nn.Linear(in_features=input_dim, out_features=hidden_dim)\n",
        "        self.relu = nn.ReLU()\n",
        "        self.fc2 = nn.Linear(in_features=hidden_dim, out_features=output_dim)\n",
        "        \n",
        "    def forward(self, x):\n",
        "        \"\"\"\n",
        "        x: batch x 1 x 28 x 28\n",
        "        return prediction\n",
        "        \"\"\"\n",
        "        x = torch.flatten(x, start_dim=1) # batch x 784\n",
        "        x = self.relu(self.fc1(x)) # batch x 300\n",
        "        y = self.fc2(x) # batch x 10\n",
        "        \n",
        "        return y\n",
        "    \n",
        "mlp_model = MLP()\n",
        "print(mlp_model)"
      ]
    },
    {
      "cell_type": "code",
      "execution_count": 9,
      "metadata": {
        "colab": {
          "base_uri": "https://localhost:8080/"
        },
        "id": "HiKQqMv_BhzP",
        "outputId": "d22f3805-aae8-4fb5-ab5e-e2f91c0e778d"
      },
      "outputs": [
        {
          "name": "stdout",
          "output_type": "stream",
          "text": [
            "TRAIN epoch: 0/3 iter: 200/1875 \t loss: 0.9336, acc: 76.62%\n",
            "TRAIN epoch: 0/3 iter: 400/1875 \t loss: 0.4157, acc: 87.95%\n",
            "TRAIN epoch: 0/3 iter: 600/1875 \t loss: 0.3649, acc: 89.22%\n",
            "TRAIN epoch: 0/3 iter: 800/1875 \t loss: 0.3032, acc: 91.25%\n",
            "TRAIN epoch: 0/3 iter: 1000/1875 \t loss: 0.3023, acc: 91.33%\n",
            "TRAIN epoch: 0/3 iter: 1200/1875 \t loss: 0.2534, acc: 92.47%\n",
            "TRAIN epoch: 0/3 iter: 1400/1875 \t loss: 0.2457, acc: 92.89%\n",
            "TRAIN epoch: 0/3 iter: 1600/1875 \t loss: 0.2469, acc: 92.81%\n",
            "TRAIN epoch: 0/3 iter: 1800/1875 \t loss: 0.1957, acc: 94.20%\n",
            "TRAIN epoch: 1/3 iter: 200/1875 \t loss: 0.1687, acc: 95.11%\n",
            "TRAIN epoch: 1/3 iter: 400/1875 \t loss: 0.1898, acc: 94.31%\n",
            "TRAIN epoch: 1/3 iter: 600/1875 \t loss: 0.1666, acc: 95.19%\n",
            "TRAIN epoch: 1/3 iter: 800/1875 \t loss: 0.1549, acc: 95.58%\n",
            "TRAIN epoch: 1/3 iter: 1000/1875 \t loss: 0.1609, acc: 95.06%\n",
            "TRAIN epoch: 1/3 iter: 1200/1875 \t loss: 0.1460, acc: 95.72%\n",
            "TRAIN epoch: 1/3 iter: 1400/1875 \t loss: 0.1434, acc: 95.78%\n",
            "TRAIN epoch: 1/3 iter: 1600/1875 \t loss: 0.1565, acc: 95.33%\n",
            "TRAIN epoch: 1/3 iter: 1800/1875 \t loss: 0.1203, acc: 96.48%\n",
            "TRAIN epoch: 2/3 iter: 200/1875 \t loss: 0.1110, acc: 96.86%\n",
            "TRAIN epoch: 2/3 iter: 400/1875 \t loss: 0.1224, acc: 96.36%\n",
            "TRAIN epoch: 2/3 iter: 600/1875 \t loss: 0.1099, acc: 96.84%\n",
            "TRAIN epoch: 2/3 iter: 800/1875 \t loss: 0.1071, acc: 97.05%\n",
            "TRAIN epoch: 2/3 iter: 1000/1875 \t loss: 0.1125, acc: 96.72%\n",
            "TRAIN epoch: 2/3 iter: 1200/1875 \t loss: 0.1054, acc: 96.95%\n",
            "TRAIN epoch: 2/3 iter: 1400/1875 \t loss: 0.1038, acc: 97.09%\n",
            "TRAIN epoch: 2/3 iter: 1600/1875 \t loss: 0.1141, acc: 96.61%\n",
            "TRAIN epoch: 2/3 iter: 1800/1875 \t loss: 0.0878, acc: 97.52%\n"
          ]
        }
      ],
      "source": [
        "train_a_model(mlp_model, num_epoch=3)\n"
      ]
    },
    {
      "cell_type": "code",
      "execution_count": 10,
      "metadata": {
        "colab": {
          "base_uri": "https://localhost:8080/"
        },
        "id": "3AO8uRprBhzQ",
        "outputId": "f552d121-71fc-42a7-c966-14c1ee0a936d"
      },
      "outputs": [
        {
          "name": "stdout",
          "output_type": "stream",
          "text": [
            "TEST loss : 0.1076, acc: 96.64%\n"
          ]
        }
      ],
      "source": [
        "evaluate_a_model(mlp_model)"
      ]
    },
    {
      "cell_type": "markdown",
      "metadata": {
        "id": "HqhIZz4LBhzQ"
      },
      "source": [
        "## Use CNN\n",
        "![CNN](https://www.linkpicture.com/q/cnn_revised.png)"
      ]
    },
    {
      "cell_type": "code",
      "execution_count": 11,
      "metadata": {
        "colab": {
          "base_uri": "https://localhost:8080/"
        },
        "id": "1iIKGTWYBhzQ",
        "outputId": "d70437f7-cc09-4161-de17-884c9b9a1e33"
      },
      "outputs": [
        {
          "name": "stdout",
          "output_type": "stream",
          "text": [
            "CNN(\n",
            "  (conv): Conv2d(1, 16, kernel_size=(5, 5), stride=(1, 1))\n",
            "  (max_pool): MaxPool2d(kernel_size=2, stride=2, padding=0, dilation=1, ceil_mode=False)\n",
            "  (fc): Linear(in_features=2304, out_features=10, bias=True)\n",
            ")\n"
          ]
        }
      ],
      "source": [
        "class CNN(nn.Module):\n",
        "    \n",
        "    def __init__(self):\n",
        "        super(CNN, self).__init__()\n",
        "        self.conv = nn.Conv2d(in_channels=1, out_channels=16, kernel_size=5, padding=0) \n",
        "        self.max_pool = nn.MaxPool2d(kernel_size=2, stride=2)\n",
        "        self.fc = nn.Linear(in_features=16*12*12, out_features=10)\n",
        "        \n",
        "        \n",
        "    def forward(self, x):\n",
        "        \"\"\"\n",
        "        x: batch x 1 x 28 x 28\n",
        "        \"\"\"\n",
        "        x = F.relu(self.conv(x)) # C1: batch x 16 x 24 x 24\n",
        "        x = self.max_pool(x) # P2: batch x 16 x 12 x 12, \n",
        "        x = torch.flatten(x, start_dim=1) # flattened P2: batch x 2304, note that 2304 = 16 x 12 x 12\n",
        "        y = self.fc(x) # F3: batch x 10\n",
        "        \n",
        "        return y\n",
        "cnn_model = CNN()\n",
        "print(cnn_model)"
      ]
    },
    {
      "cell_type": "code",
      "execution_count": 12,
      "metadata": {
        "colab": {
          "base_uri": "https://localhost:8080/"
        },
        "id": "jJlXz_bYBhzR",
        "outputId": "7c9dcb34-735f-4f76-edd2-a2b8844c5ec7"
      },
      "outputs": [
        {
          "name": "stdout",
          "output_type": "stream",
          "text": [
            "TRAIN epoch: 0/3 iter: 200/1875 \t loss: 0.5914, acc: 82.62%\n",
            "TRAIN epoch: 0/3 iter: 400/1875 \t loss: 0.3268, acc: 90.20%\n",
            "TRAIN epoch: 0/3 iter: 600/1875 \t loss: 0.2192, acc: 93.81%\n",
            "TRAIN epoch: 0/3 iter: 800/1875 \t loss: 0.1561, acc: 95.42%\n",
            "TRAIN epoch: 0/3 iter: 1000/1875 \t loss: 0.1475, acc: 95.75%\n",
            "TRAIN epoch: 0/3 iter: 1200/1875 \t loss: 0.1253, acc: 96.53%\n",
            "TRAIN epoch: 0/3 iter: 1400/1875 \t loss: 0.1057, acc: 96.89%\n",
            "TRAIN epoch: 0/3 iter: 1600/1875 \t loss: 0.1200, acc: 96.45%\n",
            "TRAIN epoch: 0/3 iter: 1800/1875 \t loss: 0.0880, acc: 97.45%\n",
            "TRAIN epoch: 1/3 iter: 200/1875 \t loss: 0.0831, acc: 97.59%\n",
            "TRAIN epoch: 1/3 iter: 400/1875 \t loss: 0.0849, acc: 97.70%\n",
            "TRAIN epoch: 1/3 iter: 600/1875 \t loss: 0.0747, acc: 97.66%\n",
            "TRAIN epoch: 1/3 iter: 800/1875 \t loss: 0.0645, acc: 98.20%\n",
            "TRAIN epoch: 1/3 iter: 1000/1875 \t loss: 0.0770, acc: 97.81%\n",
            "TRAIN epoch: 1/3 iter: 1200/1875 \t loss: 0.0715, acc: 97.78%\n",
            "TRAIN epoch: 1/3 iter: 1400/1875 \t loss: 0.0654, acc: 98.14%\n",
            "TRAIN epoch: 1/3 iter: 1600/1875 \t loss: 0.0773, acc: 97.52%\n",
            "TRAIN epoch: 1/3 iter: 1800/1875 \t loss: 0.0596, acc: 98.17%\n",
            "TRAIN epoch: 2/3 iter: 200/1875 \t loss: 0.0597, acc: 98.23%\n",
            "TRAIN epoch: 2/3 iter: 400/1875 \t loss: 0.0605, acc: 98.36%\n",
            "TRAIN epoch: 2/3 iter: 600/1875 \t loss: 0.0529, acc: 98.41%\n",
            "TRAIN epoch: 2/3 iter: 800/1875 \t loss: 0.0486, acc: 98.59%\n",
            "TRAIN epoch: 2/3 iter: 1000/1875 \t loss: 0.0598, acc: 98.36%\n",
            "TRAIN epoch: 2/3 iter: 1200/1875 \t loss: 0.0562, acc: 98.33%\n",
            "TRAIN epoch: 2/3 iter: 1400/1875 \t loss: 0.0532, acc: 98.34%\n",
            "TRAIN epoch: 2/3 iter: 1600/1875 \t loss: 0.0607, acc: 98.05%\n",
            "TRAIN epoch: 2/3 iter: 1800/1875 \t loss: 0.0482, acc: 98.56%\n"
          ]
        }
      ],
      "source": [
        "train_a_model(cnn_model, num_epoch=3)"
      ]
    },
    {
      "cell_type": "code",
      "execution_count": 13,
      "metadata": {
        "colab": {
          "base_uri": "https://localhost:8080/"
        },
        "id": "MVeRfgvvBhzS",
        "outputId": "9e4ffa3b-f866-40ff-fb2c-c38539aa8978"
      },
      "outputs": [
        {
          "name": "stdout",
          "output_type": "stream",
          "text": [
            "TEST loss : 0.0536, acc: 98.08%\n"
          ]
        }
      ],
      "source": [
        "evaluate_a_model(cnn_model)"
      ]
    }
  ],
  "metadata": {
    "colab": {
      "collapsed_sections": [],
      "name": "comp4331_tutorial8.ipynb",
      "provenance": []
    },
    "kernelspec": {
      "display_name": "Python 3",
      "language": "python",
      "name": "python3"
    },
    "language_info": {
      "codemirror_mode": {
        "name": "ipython",
        "version": 3
      },
      "file_extension": ".py",
      "mimetype": "text/x-python",
      "name": "python",
      "nbconvert_exporter": "python",
      "pygments_lexer": "ipython3",
      "version": "3.9.6"
    },
    "widgets": {
      "application/vnd.jupyter.widget-state+json": {
        "0abeff85af93430bbb78220ca94165af": {
          "model_module": "@jupyter-widgets/base",
          "model_module_version": "1.2.0",
          "model_name": "LayoutModel",
          "state": {
            "_model_module": "@jupyter-widgets/base",
            "_model_module_version": "1.2.0",
            "_model_name": "LayoutModel",
            "_view_count": null,
            "_view_module": "@jupyter-widgets/base",
            "_view_module_version": "1.2.0",
            "_view_name": "LayoutView",
            "align_content": null,
            "align_items": null,
            "align_self": null,
            "border": null,
            "bottom": null,
            "display": null,
            "flex": null,
            "flex_flow": null,
            "grid_area": null,
            "grid_auto_columns": null,
            "grid_auto_flow": null,
            "grid_auto_rows": null,
            "grid_column": null,
            "grid_gap": null,
            "grid_row": null,
            "grid_template_areas": null,
            "grid_template_columns": null,
            "grid_template_rows": null,
            "height": null,
            "justify_content": null,
            "justify_items": null,
            "left": null,
            "margin": null,
            "max_height": null,
            "max_width": null,
            "min_height": null,
            "min_width": null,
            "object_fit": null,
            "object_position": null,
            "order": null,
            "overflow": null,
            "overflow_x": null,
            "overflow_y": null,
            "padding": null,
            "right": null,
            "top": null,
            "visibility": null,
            "width": null
          }
        },
        "0da618ece9bf467098d796daf5e3341a": {
          "model_module": "@jupyter-widgets/base",
          "model_module_version": "1.2.0",
          "model_name": "LayoutModel",
          "state": {
            "_model_module": "@jupyter-widgets/base",
            "_model_module_version": "1.2.0",
            "_model_name": "LayoutModel",
            "_view_count": null,
            "_view_module": "@jupyter-widgets/base",
            "_view_module_version": "1.2.0",
            "_view_name": "LayoutView",
            "align_content": null,
            "align_items": null,
            "align_self": null,
            "border": null,
            "bottom": null,
            "display": null,
            "flex": null,
            "flex_flow": null,
            "grid_area": null,
            "grid_auto_columns": null,
            "grid_auto_flow": null,
            "grid_auto_rows": null,
            "grid_column": null,
            "grid_gap": null,
            "grid_row": null,
            "grid_template_areas": null,
            "grid_template_columns": null,
            "grid_template_rows": null,
            "height": null,
            "justify_content": null,
            "justify_items": null,
            "left": null,
            "margin": null,
            "max_height": null,
            "max_width": null,
            "min_height": null,
            "min_width": null,
            "object_fit": null,
            "object_position": null,
            "order": null,
            "overflow": null,
            "overflow_x": null,
            "overflow_y": null,
            "padding": null,
            "right": null,
            "top": null,
            "visibility": null,
            "width": null
          }
        },
        "1361a0d3417d48cc8cb3a532071cf9b3": {
          "model_module": "@jupyter-widgets/controls",
          "model_module_version": "1.5.0",
          "model_name": "HTMLModel",
          "state": {
            "_dom_classes": [],
            "_model_module": "@jupyter-widgets/controls",
            "_model_module_version": "1.5.0",
            "_model_name": "HTMLModel",
            "_view_count": null,
            "_view_module": "@jupyter-widgets/controls",
            "_view_module_version": "1.5.0",
            "_view_name": "HTMLView",
            "description": "",
            "description_tooltip": null,
            "layout": "IPY_MODEL_6b37cbc56a064262ad0d4a803dcb7374",
            "placeholder": "​",
            "style": "IPY_MODEL_19fc9f152c894d97974ee229247a5177",
            "value": " 9913344/? [00:00&lt;00:00, 43364476.97it/s]"
          }
        },
        "19fc9f152c894d97974ee229247a5177": {
          "model_module": "@jupyter-widgets/controls",
          "model_module_version": "1.5.0",
          "model_name": "DescriptionStyleModel",
          "state": {
            "_model_module": "@jupyter-widgets/controls",
            "_model_module_version": "1.5.0",
            "_model_name": "DescriptionStyleModel",
            "_view_count": null,
            "_view_module": "@jupyter-widgets/base",
            "_view_module_version": "1.2.0",
            "_view_name": "StyleView",
            "description_width": ""
          }
        },
        "1c528adfd65e4a99a122d7883a358086": {
          "model_module": "@jupyter-widgets/controls",
          "model_module_version": "1.5.0",
          "model_name": "FloatProgressModel",
          "state": {
            "_dom_classes": [],
            "_model_module": "@jupyter-widgets/controls",
            "_model_module_version": "1.5.0",
            "_model_name": "FloatProgressModel",
            "_view_count": null,
            "_view_module": "@jupyter-widgets/controls",
            "_view_module_version": "1.5.0",
            "_view_name": "ProgressView",
            "bar_style": "success",
            "description": "",
            "description_tooltip": null,
            "layout": "IPY_MODEL_9626b87655d5457aab9d0720e3ecddf4",
            "max": 28881,
            "min": 0,
            "orientation": "horizontal",
            "style": "IPY_MODEL_dbec4f1545914db19c90b0b291fa4f24",
            "value": 28881
          }
        },
        "24930f8264af41d593c0cb3dd120bc16": {
          "model_module": "@jupyter-widgets/controls",
          "model_module_version": "1.5.0",
          "model_name": "HTMLModel",
          "state": {
            "_dom_classes": [],
            "_model_module": "@jupyter-widgets/controls",
            "_model_module_version": "1.5.0",
            "_model_name": "HTMLModel",
            "_view_count": null,
            "_view_module": "@jupyter-widgets/controls",
            "_view_module_version": "1.5.0",
            "_view_name": "HTMLView",
            "description": "",
            "description_tooltip": null,
            "layout": "IPY_MODEL_0abeff85af93430bbb78220ca94165af",
            "placeholder": "​",
            "style": "IPY_MODEL_810836490cb64cf79df06570d046357b",
            "value": ""
          }
        },
        "2d626e0dad1d49ada459cf0e307a5274": {
          "model_module": "@jupyter-widgets/controls",
          "model_module_version": "1.5.0",
          "model_name": "FloatProgressModel",
          "state": {
            "_dom_classes": [],
            "_model_module": "@jupyter-widgets/controls",
            "_model_module_version": "1.5.0",
            "_model_name": "FloatProgressModel",
            "_view_count": null,
            "_view_module": "@jupyter-widgets/controls",
            "_view_module_version": "1.5.0",
            "_view_name": "ProgressView",
            "bar_style": "success",
            "description": "",
            "description_tooltip": null,
            "layout": "IPY_MODEL_c48fb70b49394e11b96b20a7c818a064",
            "max": 9912422,
            "min": 0,
            "orientation": "horizontal",
            "style": "IPY_MODEL_dc2624b9e62b4756a1de4af9639c694c",
            "value": 9912422
          }
        },
        "352522a7c0ff40a59017b462dc22e22a": {
          "model_module": "@jupyter-widgets/controls",
          "model_module_version": "1.5.0",
          "model_name": "DescriptionStyleModel",
          "state": {
            "_model_module": "@jupyter-widgets/controls",
            "_model_module_version": "1.5.0",
            "_model_name": "DescriptionStyleModel",
            "_view_count": null,
            "_view_module": "@jupyter-widgets/base",
            "_view_module_version": "1.2.0",
            "_view_name": "StyleView",
            "description_width": ""
          }
        },
        "36be740841014e9d9e469d325252c401": {
          "model_module": "@jupyter-widgets/controls",
          "model_module_version": "1.5.0",
          "model_name": "HTMLModel",
          "state": {
            "_dom_classes": [],
            "_model_module": "@jupyter-widgets/controls",
            "_model_module_version": "1.5.0",
            "_model_name": "HTMLModel",
            "_view_count": null,
            "_view_module": "@jupyter-widgets/controls",
            "_view_module_version": "1.5.0",
            "_view_name": "HTMLView",
            "description": "",
            "description_tooltip": null,
            "layout": "IPY_MODEL_5575c837ebc5453ababe98a0da0cbd7d",
            "placeholder": "​",
            "style": "IPY_MODEL_dd8aed3a0ad24978afefab1938823b17",
            "value": " 5120/? [00:00&lt;00:00, 141474.48it/s]"
          }
        },
        "3a173d5698aa462db061b94fdd481635": {
          "model_module": "@jupyter-widgets/controls",
          "model_module_version": "1.5.0",
          "model_name": "HBoxModel",
          "state": {
            "_dom_classes": [],
            "_model_module": "@jupyter-widgets/controls",
            "_model_module_version": "1.5.0",
            "_model_name": "HBoxModel",
            "_view_count": null,
            "_view_module": "@jupyter-widgets/controls",
            "_view_module_version": "1.5.0",
            "_view_name": "HBoxView",
            "box_style": "",
            "children": [
              "IPY_MODEL_24930f8264af41d593c0cb3dd120bc16",
              "IPY_MODEL_cc426e68f12140fcab71c5000347671c",
              "IPY_MODEL_36be740841014e9d9e469d325252c401"
            ],
            "layout": "IPY_MODEL_aa0fa58be9c04a8998cc23b76d3fce3d"
          }
        },
        "426079cfd4734a61aa22005649a22f32": {
          "model_module": "@jupyter-widgets/controls",
          "model_module_version": "1.5.0",
          "model_name": "HTMLModel",
          "state": {
            "_dom_classes": [],
            "_model_module": "@jupyter-widgets/controls",
            "_model_module_version": "1.5.0",
            "_model_name": "HTMLModel",
            "_view_count": null,
            "_view_module": "@jupyter-widgets/controls",
            "_view_module_version": "1.5.0",
            "_view_name": "HTMLView",
            "description": "",
            "description_tooltip": null,
            "layout": "IPY_MODEL_8a4b9efeb86c4bb29908d21097e38f95",
            "placeholder": "​",
            "style": "IPY_MODEL_49bca7360c6949c680e9d6f383cda639",
            "value": ""
          }
        },
        "49bca7360c6949c680e9d6f383cda639": {
          "model_module": "@jupyter-widgets/controls",
          "model_module_version": "1.5.0",
          "model_name": "DescriptionStyleModel",
          "state": {
            "_model_module": "@jupyter-widgets/controls",
            "_model_module_version": "1.5.0",
            "_model_name": "DescriptionStyleModel",
            "_view_count": null,
            "_view_module": "@jupyter-widgets/base",
            "_view_module_version": "1.2.0",
            "_view_name": "StyleView",
            "description_width": ""
          }
        },
        "4ba675a3ae3f4504baf1ed4b8075f6f0": {
          "model_module": "@jupyter-widgets/base",
          "model_module_version": "1.2.0",
          "model_name": "LayoutModel",
          "state": {
            "_model_module": "@jupyter-widgets/base",
            "_model_module_version": "1.2.0",
            "_model_name": "LayoutModel",
            "_view_count": null,
            "_view_module": "@jupyter-widgets/base",
            "_view_module_version": "1.2.0",
            "_view_name": "LayoutView",
            "align_content": null,
            "align_items": null,
            "align_self": null,
            "border": null,
            "bottom": null,
            "display": null,
            "flex": null,
            "flex_flow": null,
            "grid_area": null,
            "grid_auto_columns": null,
            "grid_auto_flow": null,
            "grid_auto_rows": null,
            "grid_column": null,
            "grid_gap": null,
            "grid_row": null,
            "grid_template_areas": null,
            "grid_template_columns": null,
            "grid_template_rows": null,
            "height": null,
            "justify_content": null,
            "justify_items": null,
            "left": null,
            "margin": null,
            "max_height": null,
            "max_width": null,
            "min_height": null,
            "min_width": null,
            "object_fit": null,
            "object_position": null,
            "order": null,
            "overflow": null,
            "overflow_x": null,
            "overflow_y": null,
            "padding": null,
            "right": null,
            "top": null,
            "visibility": null,
            "width": null
          }
        },
        "5575c837ebc5453ababe98a0da0cbd7d": {
          "model_module": "@jupyter-widgets/base",
          "model_module_version": "1.2.0",
          "model_name": "LayoutModel",
          "state": {
            "_model_module": "@jupyter-widgets/base",
            "_model_module_version": "1.2.0",
            "_model_name": "LayoutModel",
            "_view_count": null,
            "_view_module": "@jupyter-widgets/base",
            "_view_module_version": "1.2.0",
            "_view_name": "LayoutView",
            "align_content": null,
            "align_items": null,
            "align_self": null,
            "border": null,
            "bottom": null,
            "display": null,
            "flex": null,
            "flex_flow": null,
            "grid_area": null,
            "grid_auto_columns": null,
            "grid_auto_flow": null,
            "grid_auto_rows": null,
            "grid_column": null,
            "grid_gap": null,
            "grid_row": null,
            "grid_template_areas": null,
            "grid_template_columns": null,
            "grid_template_rows": null,
            "height": null,
            "justify_content": null,
            "justify_items": null,
            "left": null,
            "margin": null,
            "max_height": null,
            "max_width": null,
            "min_height": null,
            "min_width": null,
            "object_fit": null,
            "object_position": null,
            "order": null,
            "overflow": null,
            "overflow_x": null,
            "overflow_y": null,
            "padding": null,
            "right": null,
            "top": null,
            "visibility": null,
            "width": null
          }
        },
        "561c672341f440d99c499ec38a2283d2": {
          "model_module": "@jupyter-widgets/controls",
          "model_module_version": "1.5.0",
          "model_name": "FloatProgressModel",
          "state": {
            "_dom_classes": [],
            "_model_module": "@jupyter-widgets/controls",
            "_model_module_version": "1.5.0",
            "_model_name": "FloatProgressModel",
            "_view_count": null,
            "_view_module": "@jupyter-widgets/controls",
            "_view_module_version": "1.5.0",
            "_view_name": "ProgressView",
            "bar_style": "success",
            "description": "",
            "description_tooltip": null,
            "layout": "IPY_MODEL_e8372172b4a0439c930a438e18a00d06",
            "max": 1648877,
            "min": 0,
            "orientation": "horizontal",
            "style": "IPY_MODEL_7672e98e7d2d4f8bbcd9bef2289fb3b9",
            "value": 1648877
          }
        },
        "69a98c6ac34740f7ab0ff6b6a9f518e2": {
          "model_module": "@jupyter-widgets/base",
          "model_module_version": "1.2.0",
          "model_name": "LayoutModel",
          "state": {
            "_model_module": "@jupyter-widgets/base",
            "_model_module_version": "1.2.0",
            "_model_name": "LayoutModel",
            "_view_count": null,
            "_view_module": "@jupyter-widgets/base",
            "_view_module_version": "1.2.0",
            "_view_name": "LayoutView",
            "align_content": null,
            "align_items": null,
            "align_self": null,
            "border": null,
            "bottom": null,
            "display": null,
            "flex": null,
            "flex_flow": null,
            "grid_area": null,
            "grid_auto_columns": null,
            "grid_auto_flow": null,
            "grid_auto_rows": null,
            "grid_column": null,
            "grid_gap": null,
            "grid_row": null,
            "grid_template_areas": null,
            "grid_template_columns": null,
            "grid_template_rows": null,
            "height": null,
            "justify_content": null,
            "justify_items": null,
            "left": null,
            "margin": null,
            "max_height": null,
            "max_width": null,
            "min_height": null,
            "min_width": null,
            "object_fit": null,
            "object_position": null,
            "order": null,
            "overflow": null,
            "overflow_x": null,
            "overflow_y": null,
            "padding": null,
            "right": null,
            "top": null,
            "visibility": null,
            "width": null
          }
        },
        "6b37cbc56a064262ad0d4a803dcb7374": {
          "model_module": "@jupyter-widgets/base",
          "model_module_version": "1.2.0",
          "model_name": "LayoutModel",
          "state": {
            "_model_module": "@jupyter-widgets/base",
            "_model_module_version": "1.2.0",
            "_model_name": "LayoutModel",
            "_view_count": null,
            "_view_module": "@jupyter-widgets/base",
            "_view_module_version": "1.2.0",
            "_view_name": "LayoutView",
            "align_content": null,
            "align_items": null,
            "align_self": null,
            "border": null,
            "bottom": null,
            "display": null,
            "flex": null,
            "flex_flow": null,
            "grid_area": null,
            "grid_auto_columns": null,
            "grid_auto_flow": null,
            "grid_auto_rows": null,
            "grid_column": null,
            "grid_gap": null,
            "grid_row": null,
            "grid_template_areas": null,
            "grid_template_columns": null,
            "grid_template_rows": null,
            "height": null,
            "justify_content": null,
            "justify_items": null,
            "left": null,
            "margin": null,
            "max_height": null,
            "max_width": null,
            "min_height": null,
            "min_width": null,
            "object_fit": null,
            "object_position": null,
            "order": null,
            "overflow": null,
            "overflow_x": null,
            "overflow_y": null,
            "padding": null,
            "right": null,
            "top": null,
            "visibility": null,
            "width": null
          }
        },
        "6ef53c74ce184dc6a5f4f60fd3b834cc": {
          "model_module": "@jupyter-widgets/controls",
          "model_module_version": "1.5.0",
          "model_name": "HBoxModel",
          "state": {
            "_dom_classes": [],
            "_model_module": "@jupyter-widgets/controls",
            "_model_module_version": "1.5.0",
            "_model_name": "HBoxModel",
            "_view_count": null,
            "_view_module": "@jupyter-widgets/controls",
            "_view_module_version": "1.5.0",
            "_view_name": "HBoxView",
            "box_style": "",
            "children": [
              "IPY_MODEL_a249a5bfdd8f45a29776edd6fe77dce0",
              "IPY_MODEL_561c672341f440d99c499ec38a2283d2",
              "IPY_MODEL_c215a9284d614daa8c151bd3ee2085e0"
            ],
            "layout": "IPY_MODEL_d4e212a578594122a24a087565b7d9c1"
          }
        },
        "75fec6c21ed64231a8b5661e12d6d81b": {
          "model_module": "@jupyter-widgets/base",
          "model_module_version": "1.2.0",
          "model_name": "LayoutModel",
          "state": {
            "_model_module": "@jupyter-widgets/base",
            "_model_module_version": "1.2.0",
            "_model_name": "LayoutModel",
            "_view_count": null,
            "_view_module": "@jupyter-widgets/base",
            "_view_module_version": "1.2.0",
            "_view_name": "LayoutView",
            "align_content": null,
            "align_items": null,
            "align_self": null,
            "border": null,
            "bottom": null,
            "display": null,
            "flex": null,
            "flex_flow": null,
            "grid_area": null,
            "grid_auto_columns": null,
            "grid_auto_flow": null,
            "grid_auto_rows": null,
            "grid_column": null,
            "grid_gap": null,
            "grid_row": null,
            "grid_template_areas": null,
            "grid_template_columns": null,
            "grid_template_rows": null,
            "height": null,
            "justify_content": null,
            "justify_items": null,
            "left": null,
            "margin": null,
            "max_height": null,
            "max_width": null,
            "min_height": null,
            "min_width": null,
            "object_fit": null,
            "object_position": null,
            "order": null,
            "overflow": null,
            "overflow_x": null,
            "overflow_y": null,
            "padding": null,
            "right": null,
            "top": null,
            "visibility": null,
            "width": null
          }
        },
        "7672e98e7d2d4f8bbcd9bef2289fb3b9": {
          "model_module": "@jupyter-widgets/controls",
          "model_module_version": "1.5.0",
          "model_name": "ProgressStyleModel",
          "state": {
            "_model_module": "@jupyter-widgets/controls",
            "_model_module_version": "1.5.0",
            "_model_name": "ProgressStyleModel",
            "_view_count": null,
            "_view_module": "@jupyter-widgets/base",
            "_view_module_version": "1.2.0",
            "_view_name": "StyleView",
            "bar_color": null,
            "description_width": ""
          }
        },
        "776cc1c21791417083013d6632b7be7e": {
          "model_module": "@jupyter-widgets/controls",
          "model_module_version": "1.5.0",
          "model_name": "HTMLModel",
          "state": {
            "_dom_classes": [],
            "_model_module": "@jupyter-widgets/controls",
            "_model_module_version": "1.5.0",
            "_model_name": "HTMLModel",
            "_view_count": null,
            "_view_module": "@jupyter-widgets/controls",
            "_view_module_version": "1.5.0",
            "_view_name": "HTMLView",
            "description": "",
            "description_tooltip": null,
            "layout": "IPY_MODEL_bc3be1d97ffa4054b92e062e55179fff",
            "placeholder": "​",
            "style": "IPY_MODEL_e2cf4f67852e489dbfbe8428206b9f18",
            "value": " 29696/? [00:00&lt;00:00, 772778.07it/s]"
          }
        },
        "7a4b971377194a3abbf7b7a65fe76798": {
          "model_module": "@jupyter-widgets/controls",
          "model_module_version": "1.5.0",
          "model_name": "DescriptionStyleModel",
          "state": {
            "_model_module": "@jupyter-widgets/controls",
            "_model_module_version": "1.5.0",
            "_model_name": "DescriptionStyleModel",
            "_view_count": null,
            "_view_module": "@jupyter-widgets/base",
            "_view_module_version": "1.2.0",
            "_view_name": "StyleView",
            "description_width": ""
          }
        },
        "810836490cb64cf79df06570d046357b": {
          "model_module": "@jupyter-widgets/controls",
          "model_module_version": "1.5.0",
          "model_name": "DescriptionStyleModel",
          "state": {
            "_model_module": "@jupyter-widgets/controls",
            "_model_module_version": "1.5.0",
            "_model_name": "DescriptionStyleModel",
            "_view_count": null,
            "_view_module": "@jupyter-widgets/base",
            "_view_module_version": "1.2.0",
            "_view_name": "StyleView",
            "description_width": ""
          }
        },
        "8a4b9efeb86c4bb29908d21097e38f95": {
          "model_module": "@jupyter-widgets/base",
          "model_module_version": "1.2.0",
          "model_name": "LayoutModel",
          "state": {
            "_model_module": "@jupyter-widgets/base",
            "_model_module_version": "1.2.0",
            "_model_name": "LayoutModel",
            "_view_count": null,
            "_view_module": "@jupyter-widgets/base",
            "_view_module_version": "1.2.0",
            "_view_name": "LayoutView",
            "align_content": null,
            "align_items": null,
            "align_self": null,
            "border": null,
            "bottom": null,
            "display": null,
            "flex": null,
            "flex_flow": null,
            "grid_area": null,
            "grid_auto_columns": null,
            "grid_auto_flow": null,
            "grid_auto_rows": null,
            "grid_column": null,
            "grid_gap": null,
            "grid_row": null,
            "grid_template_areas": null,
            "grid_template_columns": null,
            "grid_template_rows": null,
            "height": null,
            "justify_content": null,
            "justify_items": null,
            "left": null,
            "margin": null,
            "max_height": null,
            "max_width": null,
            "min_height": null,
            "min_width": null,
            "object_fit": null,
            "object_position": null,
            "order": null,
            "overflow": null,
            "overflow_x": null,
            "overflow_y": null,
            "padding": null,
            "right": null,
            "top": null,
            "visibility": null,
            "width": null
          }
        },
        "9626b87655d5457aab9d0720e3ecddf4": {
          "model_module": "@jupyter-widgets/base",
          "model_module_version": "1.2.0",
          "model_name": "LayoutModel",
          "state": {
            "_model_module": "@jupyter-widgets/base",
            "_model_module_version": "1.2.0",
            "_model_name": "LayoutModel",
            "_view_count": null,
            "_view_module": "@jupyter-widgets/base",
            "_view_module_version": "1.2.0",
            "_view_name": "LayoutView",
            "align_content": null,
            "align_items": null,
            "align_self": null,
            "border": null,
            "bottom": null,
            "display": null,
            "flex": null,
            "flex_flow": null,
            "grid_area": null,
            "grid_auto_columns": null,
            "grid_auto_flow": null,
            "grid_auto_rows": null,
            "grid_column": null,
            "grid_gap": null,
            "grid_row": null,
            "grid_template_areas": null,
            "grid_template_columns": null,
            "grid_template_rows": null,
            "height": null,
            "justify_content": null,
            "justify_items": null,
            "left": null,
            "margin": null,
            "max_height": null,
            "max_width": null,
            "min_height": null,
            "min_width": null,
            "object_fit": null,
            "object_position": null,
            "order": null,
            "overflow": null,
            "overflow_x": null,
            "overflow_y": null,
            "padding": null,
            "right": null,
            "top": null,
            "visibility": null,
            "width": null
          }
        },
        "994896708b25485695ba9532309d6a41": {
          "model_module": "@jupyter-widgets/controls",
          "model_module_version": "1.5.0",
          "model_name": "ProgressStyleModel",
          "state": {
            "_model_module": "@jupyter-widgets/controls",
            "_model_module_version": "1.5.0",
            "_model_name": "ProgressStyleModel",
            "_view_count": null,
            "_view_module": "@jupyter-widgets/base",
            "_view_module_version": "1.2.0",
            "_view_name": "StyleView",
            "bar_color": null,
            "description_width": ""
          }
        },
        "9f05937cb4f949a694c1599be60b51e9": {
          "model_module": "@jupyter-widgets/controls",
          "model_module_version": "1.5.0",
          "model_name": "DescriptionStyleModel",
          "state": {
            "_model_module": "@jupyter-widgets/controls",
            "_model_module_version": "1.5.0",
            "_model_name": "DescriptionStyleModel",
            "_view_count": null,
            "_view_module": "@jupyter-widgets/base",
            "_view_module_version": "1.2.0",
            "_view_name": "StyleView",
            "description_width": ""
          }
        },
        "a249a5bfdd8f45a29776edd6fe77dce0": {
          "model_module": "@jupyter-widgets/controls",
          "model_module_version": "1.5.0",
          "model_name": "HTMLModel",
          "state": {
            "_dom_classes": [],
            "_model_module": "@jupyter-widgets/controls",
            "_model_module_version": "1.5.0",
            "_model_name": "HTMLModel",
            "_view_count": null,
            "_view_module": "@jupyter-widgets/controls",
            "_view_module_version": "1.5.0",
            "_view_name": "HTMLView",
            "description": "",
            "description_tooltip": null,
            "layout": "IPY_MODEL_69a98c6ac34740f7ab0ff6b6a9f518e2",
            "placeholder": "​",
            "style": "IPY_MODEL_7a4b971377194a3abbf7b7a65fe76798",
            "value": ""
          }
        },
        "aa0fa58be9c04a8998cc23b76d3fce3d": {
          "model_module": "@jupyter-widgets/base",
          "model_module_version": "1.2.0",
          "model_name": "LayoutModel",
          "state": {
            "_model_module": "@jupyter-widgets/base",
            "_model_module_version": "1.2.0",
            "_model_name": "LayoutModel",
            "_view_count": null,
            "_view_module": "@jupyter-widgets/base",
            "_view_module_version": "1.2.0",
            "_view_name": "LayoutView",
            "align_content": null,
            "align_items": null,
            "align_self": null,
            "border": null,
            "bottom": null,
            "display": null,
            "flex": null,
            "flex_flow": null,
            "grid_area": null,
            "grid_auto_columns": null,
            "grid_auto_flow": null,
            "grid_auto_rows": null,
            "grid_column": null,
            "grid_gap": null,
            "grid_row": null,
            "grid_template_areas": null,
            "grid_template_columns": null,
            "grid_template_rows": null,
            "height": null,
            "justify_content": null,
            "justify_items": null,
            "left": null,
            "margin": null,
            "max_height": null,
            "max_width": null,
            "min_height": null,
            "min_width": null,
            "object_fit": null,
            "object_position": null,
            "order": null,
            "overflow": null,
            "overflow_x": null,
            "overflow_y": null,
            "padding": null,
            "right": null,
            "top": null,
            "visibility": null,
            "width": null
          }
        },
        "b076dbcec7094ddd80ae4901d3caf76b": {
          "model_module": "@jupyter-widgets/controls",
          "model_module_version": "1.5.0",
          "model_name": "HBoxModel",
          "state": {
            "_dom_classes": [],
            "_model_module": "@jupyter-widgets/controls",
            "_model_module_version": "1.5.0",
            "_model_name": "HBoxModel",
            "_view_count": null,
            "_view_module": "@jupyter-widgets/controls",
            "_view_module_version": "1.5.0",
            "_view_name": "HBoxView",
            "box_style": "",
            "children": [
              "IPY_MODEL_b4ba5294e9de4c04b79a19a2052423e3",
              "IPY_MODEL_2d626e0dad1d49ada459cf0e307a5274",
              "IPY_MODEL_1361a0d3417d48cc8cb3a532071cf9b3"
            ],
            "layout": "IPY_MODEL_75fec6c21ed64231a8b5661e12d6d81b"
          }
        },
        "b0d2a1c6ee1943b3863ba6f7b639a225": {
          "model_module": "@jupyter-widgets/base",
          "model_module_version": "1.2.0",
          "model_name": "LayoutModel",
          "state": {
            "_model_module": "@jupyter-widgets/base",
            "_model_module_version": "1.2.0",
            "_model_name": "LayoutModel",
            "_view_count": null,
            "_view_module": "@jupyter-widgets/base",
            "_view_module_version": "1.2.0",
            "_view_name": "LayoutView",
            "align_content": null,
            "align_items": null,
            "align_self": null,
            "border": null,
            "bottom": null,
            "display": null,
            "flex": null,
            "flex_flow": null,
            "grid_area": null,
            "grid_auto_columns": null,
            "grid_auto_flow": null,
            "grid_auto_rows": null,
            "grid_column": null,
            "grid_gap": null,
            "grid_row": null,
            "grid_template_areas": null,
            "grid_template_columns": null,
            "grid_template_rows": null,
            "height": null,
            "justify_content": null,
            "justify_items": null,
            "left": null,
            "margin": null,
            "max_height": null,
            "max_width": null,
            "min_height": null,
            "min_width": null,
            "object_fit": null,
            "object_position": null,
            "order": null,
            "overflow": null,
            "overflow_x": null,
            "overflow_y": null,
            "padding": null,
            "right": null,
            "top": null,
            "visibility": null,
            "width": null
          }
        },
        "b4ba5294e9de4c04b79a19a2052423e3": {
          "model_module": "@jupyter-widgets/controls",
          "model_module_version": "1.5.0",
          "model_name": "HTMLModel",
          "state": {
            "_dom_classes": [],
            "_model_module": "@jupyter-widgets/controls",
            "_model_module_version": "1.5.0",
            "_model_name": "HTMLModel",
            "_view_count": null,
            "_view_module": "@jupyter-widgets/controls",
            "_view_module_version": "1.5.0",
            "_view_name": "HTMLView",
            "description": "",
            "description_tooltip": null,
            "layout": "IPY_MODEL_e61d7bc4926745f7a8b664d57007aa58",
            "placeholder": "​",
            "style": "IPY_MODEL_9f05937cb4f949a694c1599be60b51e9",
            "value": ""
          }
        },
        "bc3be1d97ffa4054b92e062e55179fff": {
          "model_module": "@jupyter-widgets/base",
          "model_module_version": "1.2.0",
          "model_name": "LayoutModel",
          "state": {
            "_model_module": "@jupyter-widgets/base",
            "_model_module_version": "1.2.0",
            "_model_name": "LayoutModel",
            "_view_count": null,
            "_view_module": "@jupyter-widgets/base",
            "_view_module_version": "1.2.0",
            "_view_name": "LayoutView",
            "align_content": null,
            "align_items": null,
            "align_self": null,
            "border": null,
            "bottom": null,
            "display": null,
            "flex": null,
            "flex_flow": null,
            "grid_area": null,
            "grid_auto_columns": null,
            "grid_auto_flow": null,
            "grid_auto_rows": null,
            "grid_column": null,
            "grid_gap": null,
            "grid_row": null,
            "grid_template_areas": null,
            "grid_template_columns": null,
            "grid_template_rows": null,
            "height": null,
            "justify_content": null,
            "justify_items": null,
            "left": null,
            "margin": null,
            "max_height": null,
            "max_width": null,
            "min_height": null,
            "min_width": null,
            "object_fit": null,
            "object_position": null,
            "order": null,
            "overflow": null,
            "overflow_x": null,
            "overflow_y": null,
            "padding": null,
            "right": null,
            "top": null,
            "visibility": null,
            "width": null
          }
        },
        "c215a9284d614daa8c151bd3ee2085e0": {
          "model_module": "@jupyter-widgets/controls",
          "model_module_version": "1.5.0",
          "model_name": "HTMLModel",
          "state": {
            "_dom_classes": [],
            "_model_module": "@jupyter-widgets/controls",
            "_model_module_version": "1.5.0",
            "_model_name": "HTMLModel",
            "_view_count": null,
            "_view_module": "@jupyter-widgets/controls",
            "_view_module_version": "1.5.0",
            "_view_name": "HTMLView",
            "description": "",
            "description_tooltip": null,
            "layout": "IPY_MODEL_b0d2a1c6ee1943b3863ba6f7b639a225",
            "placeholder": "​",
            "style": "IPY_MODEL_352522a7c0ff40a59017b462dc22e22a",
            "value": " 1649664/? [00:00&lt;00:00, 23072511.21it/s]"
          }
        },
        "c48fb70b49394e11b96b20a7c818a064": {
          "model_module": "@jupyter-widgets/base",
          "model_module_version": "1.2.0",
          "model_name": "LayoutModel",
          "state": {
            "_model_module": "@jupyter-widgets/base",
            "_model_module_version": "1.2.0",
            "_model_name": "LayoutModel",
            "_view_count": null,
            "_view_module": "@jupyter-widgets/base",
            "_view_module_version": "1.2.0",
            "_view_name": "LayoutView",
            "align_content": null,
            "align_items": null,
            "align_self": null,
            "border": null,
            "bottom": null,
            "display": null,
            "flex": null,
            "flex_flow": null,
            "grid_area": null,
            "grid_auto_columns": null,
            "grid_auto_flow": null,
            "grid_auto_rows": null,
            "grid_column": null,
            "grid_gap": null,
            "grid_row": null,
            "grid_template_areas": null,
            "grid_template_columns": null,
            "grid_template_rows": null,
            "height": null,
            "justify_content": null,
            "justify_items": null,
            "left": null,
            "margin": null,
            "max_height": null,
            "max_width": null,
            "min_height": null,
            "min_width": null,
            "object_fit": null,
            "object_position": null,
            "order": null,
            "overflow": null,
            "overflow_x": null,
            "overflow_y": null,
            "padding": null,
            "right": null,
            "top": null,
            "visibility": null,
            "width": null
          }
        },
        "ca7d6f2e7d1e4e0f865fd4e204865f45": {
          "model_module": "@jupyter-widgets/controls",
          "model_module_version": "1.5.0",
          "model_name": "HBoxModel",
          "state": {
            "_dom_classes": [],
            "_model_module": "@jupyter-widgets/controls",
            "_model_module_version": "1.5.0",
            "_model_name": "HBoxModel",
            "_view_count": null,
            "_view_module": "@jupyter-widgets/controls",
            "_view_module_version": "1.5.0",
            "_view_name": "HBoxView",
            "box_style": "",
            "children": [
              "IPY_MODEL_426079cfd4734a61aa22005649a22f32",
              "IPY_MODEL_1c528adfd65e4a99a122d7883a358086",
              "IPY_MODEL_776cc1c21791417083013d6632b7be7e"
            ],
            "layout": "IPY_MODEL_4ba675a3ae3f4504baf1ed4b8075f6f0"
          }
        },
        "cc426e68f12140fcab71c5000347671c": {
          "model_module": "@jupyter-widgets/controls",
          "model_module_version": "1.5.0",
          "model_name": "FloatProgressModel",
          "state": {
            "_dom_classes": [],
            "_model_module": "@jupyter-widgets/controls",
            "_model_module_version": "1.5.0",
            "_model_name": "FloatProgressModel",
            "_view_count": null,
            "_view_module": "@jupyter-widgets/controls",
            "_view_module_version": "1.5.0",
            "_view_name": "ProgressView",
            "bar_style": "success",
            "description": "",
            "description_tooltip": null,
            "layout": "IPY_MODEL_0da618ece9bf467098d796daf5e3341a",
            "max": 4542,
            "min": 0,
            "orientation": "horizontal",
            "style": "IPY_MODEL_994896708b25485695ba9532309d6a41",
            "value": 4542
          }
        },
        "d4e212a578594122a24a087565b7d9c1": {
          "model_module": "@jupyter-widgets/base",
          "model_module_version": "1.2.0",
          "model_name": "LayoutModel",
          "state": {
            "_model_module": "@jupyter-widgets/base",
            "_model_module_version": "1.2.0",
            "_model_name": "LayoutModel",
            "_view_count": null,
            "_view_module": "@jupyter-widgets/base",
            "_view_module_version": "1.2.0",
            "_view_name": "LayoutView",
            "align_content": null,
            "align_items": null,
            "align_self": null,
            "border": null,
            "bottom": null,
            "display": null,
            "flex": null,
            "flex_flow": null,
            "grid_area": null,
            "grid_auto_columns": null,
            "grid_auto_flow": null,
            "grid_auto_rows": null,
            "grid_column": null,
            "grid_gap": null,
            "grid_row": null,
            "grid_template_areas": null,
            "grid_template_columns": null,
            "grid_template_rows": null,
            "height": null,
            "justify_content": null,
            "justify_items": null,
            "left": null,
            "margin": null,
            "max_height": null,
            "max_width": null,
            "min_height": null,
            "min_width": null,
            "object_fit": null,
            "object_position": null,
            "order": null,
            "overflow": null,
            "overflow_x": null,
            "overflow_y": null,
            "padding": null,
            "right": null,
            "top": null,
            "visibility": null,
            "width": null
          }
        },
        "dbec4f1545914db19c90b0b291fa4f24": {
          "model_module": "@jupyter-widgets/controls",
          "model_module_version": "1.5.0",
          "model_name": "ProgressStyleModel",
          "state": {
            "_model_module": "@jupyter-widgets/controls",
            "_model_module_version": "1.5.0",
            "_model_name": "ProgressStyleModel",
            "_view_count": null,
            "_view_module": "@jupyter-widgets/base",
            "_view_module_version": "1.2.0",
            "_view_name": "StyleView",
            "bar_color": null,
            "description_width": ""
          }
        },
        "dc2624b9e62b4756a1de4af9639c694c": {
          "model_module": "@jupyter-widgets/controls",
          "model_module_version": "1.5.0",
          "model_name": "ProgressStyleModel",
          "state": {
            "_model_module": "@jupyter-widgets/controls",
            "_model_module_version": "1.5.0",
            "_model_name": "ProgressStyleModel",
            "_view_count": null,
            "_view_module": "@jupyter-widgets/base",
            "_view_module_version": "1.2.0",
            "_view_name": "StyleView",
            "bar_color": null,
            "description_width": ""
          }
        },
        "dd8aed3a0ad24978afefab1938823b17": {
          "model_module": "@jupyter-widgets/controls",
          "model_module_version": "1.5.0",
          "model_name": "DescriptionStyleModel",
          "state": {
            "_model_module": "@jupyter-widgets/controls",
            "_model_module_version": "1.5.0",
            "_model_name": "DescriptionStyleModel",
            "_view_count": null,
            "_view_module": "@jupyter-widgets/base",
            "_view_module_version": "1.2.0",
            "_view_name": "StyleView",
            "description_width": ""
          }
        },
        "e2cf4f67852e489dbfbe8428206b9f18": {
          "model_module": "@jupyter-widgets/controls",
          "model_module_version": "1.5.0",
          "model_name": "DescriptionStyleModel",
          "state": {
            "_model_module": "@jupyter-widgets/controls",
            "_model_module_version": "1.5.0",
            "_model_name": "DescriptionStyleModel",
            "_view_count": null,
            "_view_module": "@jupyter-widgets/base",
            "_view_module_version": "1.2.0",
            "_view_name": "StyleView",
            "description_width": ""
          }
        },
        "e61d7bc4926745f7a8b664d57007aa58": {
          "model_module": "@jupyter-widgets/base",
          "model_module_version": "1.2.0",
          "model_name": "LayoutModel",
          "state": {
            "_model_module": "@jupyter-widgets/base",
            "_model_module_version": "1.2.0",
            "_model_name": "LayoutModel",
            "_view_count": null,
            "_view_module": "@jupyter-widgets/base",
            "_view_module_version": "1.2.0",
            "_view_name": "LayoutView",
            "align_content": null,
            "align_items": null,
            "align_self": null,
            "border": null,
            "bottom": null,
            "display": null,
            "flex": null,
            "flex_flow": null,
            "grid_area": null,
            "grid_auto_columns": null,
            "grid_auto_flow": null,
            "grid_auto_rows": null,
            "grid_column": null,
            "grid_gap": null,
            "grid_row": null,
            "grid_template_areas": null,
            "grid_template_columns": null,
            "grid_template_rows": null,
            "height": null,
            "justify_content": null,
            "justify_items": null,
            "left": null,
            "margin": null,
            "max_height": null,
            "max_width": null,
            "min_height": null,
            "min_width": null,
            "object_fit": null,
            "object_position": null,
            "order": null,
            "overflow": null,
            "overflow_x": null,
            "overflow_y": null,
            "padding": null,
            "right": null,
            "top": null,
            "visibility": null,
            "width": null
          }
        },
        "e8372172b4a0439c930a438e18a00d06": {
          "model_module": "@jupyter-widgets/base",
          "model_module_version": "1.2.0",
          "model_name": "LayoutModel",
          "state": {
            "_model_module": "@jupyter-widgets/base",
            "_model_module_version": "1.2.0",
            "_model_name": "LayoutModel",
            "_view_count": null,
            "_view_module": "@jupyter-widgets/base",
            "_view_module_version": "1.2.0",
            "_view_name": "LayoutView",
            "align_content": null,
            "align_items": null,
            "align_self": null,
            "border": null,
            "bottom": null,
            "display": null,
            "flex": null,
            "flex_flow": null,
            "grid_area": null,
            "grid_auto_columns": null,
            "grid_auto_flow": null,
            "grid_auto_rows": null,
            "grid_column": null,
            "grid_gap": null,
            "grid_row": null,
            "grid_template_areas": null,
            "grid_template_columns": null,
            "grid_template_rows": null,
            "height": null,
            "justify_content": null,
            "justify_items": null,
            "left": null,
            "margin": null,
            "max_height": null,
            "max_width": null,
            "min_height": null,
            "min_width": null,
            "object_fit": null,
            "object_position": null,
            "order": null,
            "overflow": null,
            "overflow_x": null,
            "overflow_y": null,
            "padding": null,
            "right": null,
            "top": null,
            "visibility": null,
            "width": null
          }
        }
      }
    }
  },
  "nbformat": 4,
  "nbformat_minor": 0
}
