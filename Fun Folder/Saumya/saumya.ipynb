{
 "cells": [
  {
   "cell_type": "code",
   "execution_count": 1,
   "metadata": {},
   "outputs": [],
   "source": [
    "import seaborn as sns\n",
    "import numpy as np\n",
    "import pandas as pd\n",
    "import matplotlib.pyplot as plt\n",
    "import scipy\n",
    "import sklearn\n",
    "from scipy import stats\n",
    "from sklearn import preprocessing\n",
    "from sklearn.preprocessing import MinMaxScaler\n",
    "from sklearn.preprocessing import StandardScaler\n",
    "from sklearn.decomposition import PCA\n",
    "\n",
    "\n",
    "%config InteractiveShell.ast_node_interactivity = 'all'\n"
   ]
  },
  {
   "cell_type": "code",
   "execution_count": 2,
   "metadata": {},
   "outputs": [
    {
     "data": {
      "text/html": [
       "<div>\n",
       "<style scoped>\n",
       "    .dataframe tbody tr th:only-of-type {\n",
       "        vertical-align: middle;\n",
       "    }\n",
       "\n",
       "    .dataframe tbody tr th {\n",
       "        vertical-align: top;\n",
       "    }\n",
       "\n",
       "    .dataframe thead th {\n",
       "        text-align: right;\n",
       "    }\n",
       "</style>\n",
       "<table border=\"1\" class=\"dataframe\">\n",
       "  <thead>\n",
       "    <tr style=\"text-align: right;\">\n",
       "      <th></th>\n",
       "      <th>full_date</th>\n",
       "      <th>date</th>\n",
       "      <th>weekday</th>\n",
       "      <th>time</th>\n",
       "      <th>mood</th>\n",
       "      <th>activities</th>\n",
       "      <th>note_title</th>\n",
       "      <th>note</th>\n",
       "    </tr>\n",
       "  </thead>\n",
       "  <tbody>\n",
       "    <tr>\n",
       "      <th>0</th>\n",
       "      <td>2021-10-23</td>\n",
       "      <td>23 Oct</td>\n",
       "      <td>Saturday</td>\n",
       "      <td>12:00 AM</td>\n",
       "      <td>good</td>\n",
       "      <td>family | friends | movies &amp; tv | no soda | dri...</td>\n",
       "      <td>NaN</td>\n",
       "      <td>NaN</td>\n",
       "    </tr>\n",
       "    <tr>\n",
       "      <th>1</th>\n",
       "      <td>2021-10-22</td>\n",
       "      <td>22 Oct</td>\n",
       "      <td>Friday</td>\n",
       "      <td>5:09 AM</td>\n",
       "      <td>good</td>\n",
       "      <td>friends | date | movies &amp; tv | fast food | dri...</td>\n",
       "      <td>NaN</td>\n",
       "      <td>NaN</td>\n",
       "    </tr>\n",
       "    <tr>\n",
       "      <th>2</th>\n",
       "      <td>2021-10-21</td>\n",
       "      <td>21 Oct</td>\n",
       "      <td>Thursday</td>\n",
       "      <td>12:00 AM</td>\n",
       "      <td>meh</td>\n",
       "      <td>friends | date | movies &amp; tv | drink water | s...</td>\n",
       "      <td>NaN</td>\n",
       "      <td>NaN</td>\n",
       "    </tr>\n",
       "    <tr>\n",
       "      <th>3</th>\n",
       "      <td>2021-10-20</td>\n",
       "      <td>20 Oct</td>\n",
       "      <td>Wednesday</td>\n",
       "      <td>12:00 AM</td>\n",
       "      <td>meh</td>\n",
       "      <td>family | friends | date | movies &amp; tv | no swe...</td>\n",
       "      <td>NaN</td>\n",
       "      <td>NaN</td>\n",
       "    </tr>\n",
       "    <tr>\n",
       "      <th>4</th>\n",
       "      <td>2021-10-19</td>\n",
       "      <td>19 Oct</td>\n",
       "      <td>Tuesday</td>\n",
       "      <td>12:00 AM</td>\n",
       "      <td>meh</td>\n",
       "      <td>family | friends | movies &amp; tv | drink water |...</td>\n",
       "      <td>NaN</td>\n",
       "      <td>NaN</td>\n",
       "    </tr>\n",
       "    <tr>\n",
       "      <th>5</th>\n",
       "      <td>2021-10-18</td>\n",
       "      <td>18 Oct</td>\n",
       "      <td>Monday</td>\n",
       "      <td>12:00 AM</td>\n",
       "      <td>good</td>\n",
       "      <td>friends | date | movies &amp; tv | bad sleep | res...</td>\n",
       "      <td>NaN</td>\n",
       "      <td>NaN</td>\n",
       "    </tr>\n",
       "    <tr>\n",
       "      <th>6</th>\n",
       "      <td>2021-10-16</td>\n",
       "      <td>16 Oct</td>\n",
       "      <td>Saturday</td>\n",
       "      <td>5:41 PM</td>\n",
       "      <td>sad</td>\n",
       "      <td>friends | fast food | drink water | studying</td>\n",
       "      <td>NaN</td>\n",
       "      <td>NaN</td>\n",
       "    </tr>\n",
       "    <tr>\n",
       "      <th>7</th>\n",
       "      <td>2021-10-15</td>\n",
       "      <td>15 Oct</td>\n",
       "      <td>Friday</td>\n",
       "      <td>12:01 AM</td>\n",
       "      <td>good</td>\n",
       "      <td>friends | date | movies &amp; tv | gaming | restau...</td>\n",
       "      <td>NaN</td>\n",
       "      <td>NaN</td>\n",
       "    </tr>\n",
       "    <tr>\n",
       "      <th>8</th>\n",
       "      <td>2021-10-15</td>\n",
       "      <td>15 Oct</td>\n",
       "      <td>Friday</td>\n",
       "      <td>12:00 AM</td>\n",
       "      <td>good</td>\n",
       "      <td>friends | date | restaurant | drink water | wa...</td>\n",
       "      <td>NaN</td>\n",
       "      <td>NaN</td>\n",
       "    </tr>\n",
       "    <tr>\n",
       "      <th>9</th>\n",
       "      <td>2021-10-14</td>\n",
       "      <td>14 Oct</td>\n",
       "      <td>Thursday</td>\n",
       "      <td>12:00 AM</td>\n",
       "      <td>good</td>\n",
       "      <td>family | friends | date | movies &amp; tv | fast f...</td>\n",
       "      <td>NaN</td>\n",
       "      <td>NaN</td>\n",
       "    </tr>\n",
       "    <tr>\n",
       "      <th>10</th>\n",
       "      <td>2021-10-13</td>\n",
       "      <td>13 Oct</td>\n",
       "      <td>Wednesday</td>\n",
       "      <td>12:00 AM</td>\n",
       "      <td>good</td>\n",
       "      <td>friends | date | movies &amp; tv | exercise | stud...</td>\n",
       "      <td>NaN</td>\n",
       "      <td>NaN</td>\n",
       "    </tr>\n",
       "    <tr>\n",
       "      <th>11</th>\n",
       "      <td>2021-10-12</td>\n",
       "      <td>12 Oct</td>\n",
       "      <td>Tuesday</td>\n",
       "      <td>12:00 AM</td>\n",
       "      <td>good</td>\n",
       "      <td>friends | fast food | drink water | studying</td>\n",
       "      <td>NaN</td>\n",
       "      <td>NaN</td>\n",
       "    </tr>\n",
       "    <tr>\n",
       "      <th>12</th>\n",
       "      <td>2021-10-11</td>\n",
       "      <td>11 Oct</td>\n",
       "      <td>Monday</td>\n",
       "      <td>12:00 PM</td>\n",
       "      <td>good</td>\n",
       "      <td>date | drink water | studying</td>\n",
       "      <td>NaN</td>\n",
       "      <td>NaN</td>\n",
       "    </tr>\n",
       "    <tr>\n",
       "      <th>13</th>\n",
       "      <td>2021-10-11</td>\n",
       "      <td>11 Oct</td>\n",
       "      <td>Monday</td>\n",
       "      <td>2:27 AM</td>\n",
       "      <td>good</td>\n",
       "      <td>family | friends | restaurant | studying</td>\n",
       "      <td>NaN</td>\n",
       "      <td>NaN</td>\n",
       "    </tr>\n",
       "    <tr>\n",
       "      <th>14</th>\n",
       "      <td>2021-10-10</td>\n",
       "      <td>10 Oct</td>\n",
       "      <td>Sunday</td>\n",
       "      <td>12:43 AM</td>\n",
       "      <td>sad</td>\n",
       "      <td>family</td>\n",
       "      <td>NaN</td>\n",
       "      <td>Refer to previous entry</td>\n",
       "    </tr>\n",
       "    <tr>\n",
       "      <th>15</th>\n",
       "      <td>2021-10-10</td>\n",
       "      <td>10 Oct</td>\n",
       "      <td>Sunday</td>\n",
       "      <td>12:00 AM</td>\n",
       "      <td>good</td>\n",
       "      <td>family | date | movies &amp; tv | fast food | cook...</td>\n",
       "      <td>NaN</td>\n",
       "      <td>Went over to Kaustubh’s room today morning. Ty...</td>\n",
       "    </tr>\n",
       "    <tr>\n",
       "      <th>16</th>\n",
       "      <td>2021-10-09</td>\n",
       "      <td>9 Oct</td>\n",
       "      <td>Saturday</td>\n",
       "      <td>12:47 AM</td>\n",
       "      <td>sad</td>\n",
       "      <td>family</td>\n",
       "      <td>NaN</td>\n",
       "      <td>Mom took a lot of sleeping pills. I feel respo...</td>\n",
       "    </tr>\n",
       "    <tr>\n",
       "      <th>17</th>\n",
       "      <td>2021-10-09</td>\n",
       "      <td>9 Oct</td>\n",
       "      <td>Saturday</td>\n",
       "      <td>12:46 AM</td>\n",
       "      <td>good</td>\n",
       "      <td>date</td>\n",
       "      <td>NaN</td>\n",
       "      <td>Date was really fun; black storm warning, got ...</td>\n",
       "    </tr>\n",
       "    <tr>\n",
       "      <th>18</th>\n",
       "      <td>2021-10-08</td>\n",
       "      <td>8 Oct</td>\n",
       "      <td>Friday</td>\n",
       "      <td>8:02 PM</td>\n",
       "      <td>annoyed</td>\n",
       "      <td>date</td>\n",
       "      <td>NaN</td>\n",
       "      <td>Kaustubh is always late. Makes me feel like he...</td>\n",
       "    </tr>\n",
       "    <tr>\n",
       "      <th>19</th>\n",
       "      <td>2021-10-07</td>\n",
       "      <td>7 Oct</td>\n",
       "      <td>Thursday</td>\n",
       "      <td>2:19 AM</td>\n",
       "      <td>sad</td>\n",
       "      <td>movies &amp; tv</td>\n",
       "      <td>NaN</td>\n",
       "      <td>Feeling sad - was watching modern family. Ther...</td>\n",
       "    </tr>\n",
       "    <tr>\n",
       "      <th>20</th>\n",
       "      <td>2021-10-06</td>\n",
       "      <td>6 Oct</td>\n",
       "      <td>Wednesday</td>\n",
       "      <td>9:31 PM</td>\n",
       "      <td>annoyed</td>\n",
       "      <td>NaN</td>\n",
       "      <td>NaN</td>\n",
       "      <td>Annoyed because Kaustubh is late once again. T...</td>\n",
       "    </tr>\n",
       "    <tr>\n",
       "      <th>21</th>\n",
       "      <td>2021-10-06</td>\n",
       "      <td>6 Oct</td>\n",
       "      <td>Wednesday</td>\n",
       "      <td>12:07 PM</td>\n",
       "      <td>meh</td>\n",
       "      <td>studying</td>\n",
       "      <td>NaN</td>\n",
       "      <td>NaN</td>\n",
       "    </tr>\n",
       "    <tr>\n",
       "      <th>22</th>\n",
       "      <td>2021-10-06</td>\n",
       "      <td>6 Oct</td>\n",
       "      <td>Wednesday</td>\n",
       "      <td>3:18 AM</td>\n",
       "      <td>sad</td>\n",
       "      <td>date</td>\n",
       "      <td>NaN</td>\n",
       "      <td>Kaustubh wants Srijan to teach him python, not...</td>\n",
       "    </tr>\n",
       "  </tbody>\n",
       "</table>\n",
       "</div>"
      ],
      "text/plain": [
       "     full_date    date    weekday      time     mood  \\\n",
       "0   2021-10-23  23 Oct   Saturday  12:00 AM     good   \n",
       "1   2021-10-22  22 Oct     Friday   5:09 AM     good   \n",
       "2   2021-10-21  21 Oct   Thursday  12:00 AM      meh   \n",
       "3   2021-10-20  20 Oct  Wednesday  12:00 AM      meh   \n",
       "4   2021-10-19  19 Oct    Tuesday  12:00 AM      meh   \n",
       "5   2021-10-18  18 Oct     Monday  12:00 AM     good   \n",
       "6   2021-10-16  16 Oct   Saturday   5:41 PM      sad   \n",
       "7   2021-10-15  15 Oct     Friday  12:01 AM     good   \n",
       "8   2021-10-15  15 Oct     Friday  12:00 AM     good   \n",
       "9   2021-10-14  14 Oct   Thursday  12:00 AM     good   \n",
       "10  2021-10-13  13 Oct  Wednesday  12:00 AM     good   \n",
       "11  2021-10-12  12 Oct    Tuesday  12:00 AM     good   \n",
       "12  2021-10-11  11 Oct     Monday  12:00 PM     good   \n",
       "13  2021-10-11  11 Oct     Monday   2:27 AM     good   \n",
       "14  2021-10-10  10 Oct     Sunday  12:43 AM      sad   \n",
       "15  2021-10-10  10 Oct     Sunday  12:00 AM     good   \n",
       "16  2021-10-09   9 Oct   Saturday  12:47 AM      sad   \n",
       "17  2021-10-09   9 Oct   Saturday  12:46 AM     good   \n",
       "18  2021-10-08   8 Oct     Friday   8:02 PM  annoyed   \n",
       "19  2021-10-07   7 Oct   Thursday   2:19 AM      sad   \n",
       "20  2021-10-06   6 Oct  Wednesday   9:31 PM  annoyed   \n",
       "21  2021-10-06   6 Oct  Wednesday  12:07 PM      meh   \n",
       "22  2021-10-06   6 Oct  Wednesday   3:18 AM      sad   \n",
       "\n",
       "                                           activities  note_title  \\\n",
       "0   family | friends | movies & tv | no soda | dri...         NaN   \n",
       "1   friends | date | movies & tv | fast food | dri...         NaN   \n",
       "2   friends | date | movies & tv | drink water | s...         NaN   \n",
       "3   family | friends | date | movies & tv | no swe...         NaN   \n",
       "4   family | friends | movies & tv | drink water |...         NaN   \n",
       "5   friends | date | movies & tv | bad sleep | res...         NaN   \n",
       "6        friends | fast food | drink water | studying         NaN   \n",
       "7   friends | date | movies & tv | gaming | restau...         NaN   \n",
       "8   friends | date | restaurant | drink water | wa...         NaN   \n",
       "9   family | friends | date | movies & tv | fast f...         NaN   \n",
       "10  friends | date | movies & tv | exercise | stud...         NaN   \n",
       "11       friends | fast food | drink water | studying         NaN   \n",
       "12                      date | drink water | studying         NaN   \n",
       "13           family | friends | restaurant | studying         NaN   \n",
       "14                                             family         NaN   \n",
       "15  family | date | movies & tv | fast food | cook...         NaN   \n",
       "16                                             family         NaN   \n",
       "17                                               date         NaN   \n",
       "18                                               date         NaN   \n",
       "19                                        movies & tv         NaN   \n",
       "20                                                NaN         NaN   \n",
       "21                                           studying         NaN   \n",
       "22                                               date         NaN   \n",
       "\n",
       "                                                 note  \n",
       "0                                                 NaN  \n",
       "1                                                 NaN  \n",
       "2                                                 NaN  \n",
       "3                                                 NaN  \n",
       "4                                                 NaN  \n",
       "5                                                 NaN  \n",
       "6                                                 NaN  \n",
       "7                                                 NaN  \n",
       "8                                                 NaN  \n",
       "9                                                 NaN  \n",
       "10                                                NaN  \n",
       "11                                                NaN  \n",
       "12                                                NaN  \n",
       "13                                                NaN  \n",
       "14                            Refer to previous entry  \n",
       "15  Went over to Kaustubh’s room today morning. Ty...  \n",
       "16  Mom took a lot of sleeping pills. I feel respo...  \n",
       "17  Date was really fun; black storm warning, got ...  \n",
       "18  Kaustubh is always late. Makes me feel like he...  \n",
       "19  Feeling sad - was watching modern family. Ther...  \n",
       "20  Annoyed because Kaustubh is late once again. T...  \n",
       "21                                                NaN  \n",
       "22  Kaustubh wants Srijan to teach him python, not...  "
      ]
     },
     "execution_count": 2,
     "metadata": {},
     "output_type": "execute_result"
    },
    {
     "data": {
      "text/plain": [
       "(23, 8)"
      ]
     },
     "execution_count": 2,
     "metadata": {},
     "output_type": "execute_result"
    }
   ],
   "source": [
    "data_file = r\"C:\\Users\\kkaus\\OneDrive - HKUST Connect\\Courses\\Year 3\\COMP 4331\\Coding Folder\\Fun Folder\\Saumya\\daylio_export_2021_10_23.csv\"\n",
    "data_df = pd.read_csv(data_file, sep=',')\n",
    "data_df\n",
    "data_df.shape"
   ]
  },
  {
   "cell_type": "code",
   "execution_count": 3,
   "metadata": {},
   "outputs": [],
   "source": [
    "# data_df = data_df.drop(labels=\"note_title\", axis=1)\n",
    "# data_df = data_df.drop(labels=\"note\", axis=1)\n",
    "\n"
   ]
  },
  {
   "cell_type": "code",
   "execution_count": 5,
   "metadata": {},
   "outputs": [],
   "source": [
    "data_df[\"family\"] = data_df[\"activities\"]"
   ]
  },
  {
   "cell_type": "code",
   "execution_count": 6,
   "metadata": {},
   "outputs": [],
   "source": [
    "a = 0\n",
    "b = data_df[\"activities\"][1].find(\"|\")"
   ]
  },
  {
   "cell_type": "code",
   "execution_count": 7,
   "metadata": {},
   "outputs": [
    {
     "data": {
      "text/plain": [
       "'friends'"
      ]
     },
     "execution_count": 7,
     "metadata": {},
     "output_type": "execute_result"
    }
   ],
   "source": [
    "data_df[\"activities\"][1][a:b-1]"
   ]
  },
  {
   "cell_type": "code",
   "execution_count": 8,
   "metadata": {},
   "outputs": [
    {
     "data": {
      "text/plain": [
       "'friends | date | movies & tv | fast food | drink water | studying'"
      ]
     },
     "execution_count": 8,
     "metadata": {},
     "output_type": "execute_result"
    }
   ],
   "source": [
    "data_df[\"activities\"][1]"
   ]
  },
  {
   "cell_type": "code",
   "execution_count": 9,
   "metadata": {},
   "outputs": [
    {
     "data": {
      "text/plain": [
       "' date | movies & tv | fast food | drink water | studying'"
      ]
     },
     "execution_count": 9,
     "metadata": {},
     "output_type": "execute_result"
    }
   ],
   "source": [
    "data_df[\"activities\"][1][b+1:]"
   ]
  },
  {
   "cell_type": "code",
   "execution_count": 10,
   "metadata": {},
   "outputs": [
    {
     "data": {
      "text/plain": [
       "'friends | date | movies & tv | fast food | drink water | studying'"
      ]
     },
     "execution_count": 10,
     "metadata": {},
     "output_type": "execute_result"
    }
   ],
   "source": [
    "data_df[\"activities\"][1]\n"
   ]
  },
  {
   "cell_type": "code",
   "execution_count": 11,
   "metadata": {},
   "outputs": [],
   "source": [
    "rows = data_df.shape[0]"
   ]
  },
  {
   "cell_type": "code",
   "execution_count": 12,
   "metadata": {},
   "outputs": [
    {
     "data": {
      "text/plain": [
       "[]"
      ]
     },
     "execution_count": 12,
     "metadata": {},
     "output_type": "execute_result"
    }
   ],
   "source": [
    "b = 0\n",
    "x = 0\n",
    "activites = []\n",
    "while x == 12:\n",
    "    b = data_df[\"activities\"][1].find(\"|\")\n",
    "    activites.append(data_df[\"activities\"][1][:b-1])\n",
    "    x = x+1\n",
    "\n",
    "activites\n"
   ]
  },
  {
   "cell_type": "code",
   "execution_count": 13,
   "metadata": {},
   "outputs": [],
   "source": [
    "activites.append(data_df[\"activities\"][1][a:b-1])\n"
   ]
  },
  {
   "cell_type": "code",
   "execution_count": 14,
   "metadata": {},
   "outputs": [
    {
     "name": "stdout",
     "output_type": "stream",
     "text": [
      "['friends | date | movies & tv | fast food | drink water | studyin']\n"
     ]
    }
   ],
   "source": [
    "print(activites)"
   ]
  },
  {
   "cell_type": "code",
   "execution_count": null,
   "metadata": {},
   "outputs": [],
   "source": []
  }
 ],
 "metadata": {
  "interpreter": {
   "hash": "6f7248dda44c9aca490d825e08e1c8b901064e5575a7eb735a794e1a698a65ae"
  },
  "kernelspec": {
   "display_name": "Python 3.9.6 64-bit ('comp4331': conda)",
   "name": "python3"
  },
  "language_info": {
   "codemirror_mode": {
    "name": "ipython",
    "version": 3
   },
   "file_extension": ".py",
   "mimetype": "text/x-python",
   "name": "python",
   "nbconvert_exporter": "python",
   "pygments_lexer": "ipython3",
   "version": "3.9.6"
  },
  "orig_nbformat": 4
 },
 "nbformat": 4,
 "nbformat_minor": 2
}
