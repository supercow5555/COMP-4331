{
 "cells": [
  {
   "cell_type": "markdown",
   "source": [
    "# 📲 Backup WhatsApp Chat to Excel "
   ],
   "metadata": {}
  },
  {
   "cell_type": "markdown",
   "source": [
    "#### Imports"
   ],
   "metadata": {
    "heading_collapsed": true
   }
  },
  {
   "cell_type": "code",
   "execution_count": 7,
   "source": [
    "# Standard Python Libaries\r\n",
    "import urllib.request\r\n",
    "import os\r\n",
    "import ssl\r\n",
    "\r\n",
    "# Third Party Modules\r\n",
    "import pandas as pd # pip install pandas openpyxl\r\n",
    "from pushbullet import Pushbullet # pip install pushbullet.py"
   ],
   "outputs": [],
   "metadata": {
    "hidden": true
   }
  },
  {
   "cell_type": "markdown",
   "source": [
    "#### Get Download Link from Pushbullet"
   ],
   "metadata": {
    "heading_collapsed": true
   }
  },
  {
   "cell_type": "code",
   "execution_count": 3,
   "source": [
    "# API KEY PushBullet (https://www.pushbullet.com/)\r\n",
    "API_KEY = \"o.5WdONr814nt1QR4JlBzWfw3QWplLQgWZ\""
   ],
   "outputs": [],
   "metadata": {
    "hidden": true
   }
  },
  {
   "cell_type": "code",
   "execution_count": 4,
   "source": [
    "# https://pypi.org/project/pushbullet.py/0.9.1/\r\n",
    "pb = Pushbullet(API_KEY)\r\n",
    "\r\n",
    "# List of pushed file\r\n",
    "pushes = pb.get_pushes()\r\n",
    "\r\n",
    "# Get latest file [First Element in List]\r\n",
    "latest = pushes[0]\r\n",
    "\r\n",
    "# Get Link to Chatfile\r\n",
    "url = latest['file_url']\r\n",
    "url"
   ],
   "outputs": [
    {
     "output_type": "execute_result",
     "data": {
      "text/plain": [
       "'https://dl3.pushbulletusercontent.com/jVdxwmeTAnSNAJf2oN9sm5AqpXhdXidS/WhatsApp%20Chat%20with%20Finances.txt'"
      ]
     },
     "metadata": {},
     "execution_count": 4
    }
   ],
   "metadata": {
    "hidden": true
   }
  },
  {
   "cell_type": "markdown",
   "source": [
    "#### Download Chatfile from Pushbullet(link)"
   ],
   "metadata": {
    "heading_collapsed": true
   }
  },
  {
   "cell_type": "code",
   "execution_count": 11,
   "source": [
    "# coding: utf-8\r\n",
    "import urllib.request\r\n",
    "import ssl\r\n",
    "\r\n",
    "\r\n",
    "def main():\r\n",
    "    ssl._create_default_https_context = ssl._create_unverified_context\r\n",
    "    r = urllib.request.urlopen('https://google.com')\r\n",
    "    print(r.status)\r\n",
    "    print(r)\r\n",
    "\r\n",
    "\r\n",
    "if __name__ == '__main__':\r\n",
    "    main()"
   ],
   "outputs": [
    {
     "output_type": "stream",
     "name": "stdout",
     "text": [
      "200\n",
      "<http.client.HTTPResponse object at 0x000001A609C63D90>\n"
     ]
    }
   ],
   "metadata": {}
  },
  {
   "cell_type": "code",
   "execution_count": 12,
   "source": [
    "# Download Chatfile\r\n",
    "url = latest['file_url']\r\n",
    "file_path = \"chat.txt\"\r\n",
    "\r\n",
    "urllib.request.urlretrieve(url, file_path)"
   ],
   "outputs": [
    {
     "output_type": "execute_result",
     "data": {
      "text/plain": [
       "('chat.txt', <http.client.HTTPMessage at 0x1a609d54b20>)"
      ]
     },
     "metadata": {},
     "execution_count": 12
    }
   ],
   "metadata": {
    "hidden": true
   }
  },
  {
   "cell_type": "markdown",
   "source": [
    "#### Read Data"
   ],
   "metadata": {
    "heading_collapsed": true
   }
  },
  {
   "cell_type": "code",
   "execution_count": 13,
   "source": [
    "# Read file by line by line\r\n",
    "with open(file_path, mode='r', encoding=\"utf8\") as f:\r\n",
    "    data = f.readlines()"
   ],
   "outputs": [],
   "metadata": {
    "hidden": true
   }
  },
  {
   "cell_type": "code",
   "execution_count": 16,
   "source": [
    "# Print Data\r\n",
    "data"
   ],
   "outputs": [
    {
     "output_type": "execute_result",
     "data": {
      "text/plain": [
       "['18/02/2021, 2:51 pm - Messages and calls are end-to-end encrypted. No one outside of this chat, not even WhatsApp, can read or listen to them. Tap to learn more.\\n',\n",
       " '18/02/2021, 2:51 pm - You created group \"Finances\"\\n',\n",
       " '18/02/2021, 2:52 pm - Kaustubh: Saumya owe kaustubh 10 for beer\\n',\n",
       " '18/02/2021, 2:52 pm - Kaustubh: Kaustubh owe Saumya for ebs (44)\\n',\n",
       " '18/02/2021, 2:57 pm - Saumya: Saumya owe kaustubh 16 for fries 10 for banana 20 for fruits\\n',\n",
       " '18/02/2021, 2:57 pm - Saumya: Kaustubh owe saumya 45+14\\n',\n",
       " '18/02/2021, 3:12 pm - Saumya: Kaustubh owes Saumya 72 + 15 for burger republic\\n',\n",
       " '18/02/2021, 9:53 pm - Saumya: 97.35 for burrito kaustubh owes\\n',\n",
       " '18/02/2021, 9:54 pm - Kaustubh: thankq\\n',\n",
       " '19/02/2021, 8:27 pm - Saumya: Kaustubh owes 39 for subway\\n',\n",
       " '20/02/2021, 12:13 am - Kaustubh: You owe me 60 for food ssp\\n',\n",
       " '20/02/2021, 1:12 am - Kaustubh: I owe you for games 115\\n',\n",
       " '21/02/2021, 8:07 pm - Saumya: You owe 50 for zeugma\\n',\n",
       " '22/02/2021, 6:26 pm - Saumya: I owe you 40 for falafel\\n',\n",
       " '23/02/2021, 7:35 pm - Saumya: You owe 58 for thai\\n',\n",
       " '24/02/2021, 10:23 pm - Saumya: I owe you 20 for milk\\n',\n",
       " '25/02/2021, 6:26 pm - Saumya: You owe me 44 for fish kebab\\n',\n",
       " '26/02/2021, 7:13 pm - Kaustubh: You owe me 20\\n',\n",
       " '27/02/2021, 7:44 pm - Kaustubh: Iou 155 for Sangeetha\\n',\n",
       " '27/02/2021, 8:38 pm - Saumya: Iou 20 for kurkure\\n',\n",
       " '27/02/2021, 8:38 pm - Saumya: Iou 14 for samosa\\n',\n",
       " '02/03/2021, 11:41 pm - Kaustubh: Uome 13 for mcflurry\\n',\n",
       " '04/03/2021, 2:17 pm - Saumya: Uome 57 for thai\\n',\n",
       " '06/03/2021, 1:57 am - Saumya: Uome 14 for pringles\\n',\n",
       " '06/03/2021, 9:17 pm - Saumya: Uome 38 for bafang\\n',\n",
       " '06/03/2021, 9:17 pm - Kaustubh: Okep\\n',\n",
       " '07/03/2021, 10:24 pm - Saumya: Iou 155 for nomads\\n',\n",
       " '08/03/2021, 7:15 pm - Saumya: Uome 86 for ens\\n',\n",
       " '08/03/2021, 7:15 pm - Saumya: Ebs\\n',\n",
       " '10/03/2021, 5:41 pm - Kaustubh: Uome 12\\n',\n",
       " '10/03/2021, 5:45 pm - Kaustubh: For dumplings\\n',\n",
       " '10/03/2021, 5:49 pm - Saumya: Iou 8 for panda\\n',\n",
       " '13/03/2021, 1:30 am - Saumya: iou 10 for room key\\n',\n",
       " '13/03/2021, 5:02 pm - Saumya: Uome 104.5 for ebs\\n',\n",
       " '15/03/2021, 11:05 pm - Saumya: Uome 33 for snack express\\n',\n",
       " '16/03/2021, 8:42 pm - Kaustubh: Uome 80 for devils lettuce\\n',\n",
       " '17/03/2021, 3:07 pm - Saumya: Iou 44 for subway\\n',\n",
       " '20/03/2021, 10:40 pm - Kaustubh: Uome 305\\n',\n",
       " '20/03/2021, 10:40 pm - Kaustubh: For date\\n',\n",
       " '22/03/2021, 2:02 am - Saumya: Uome 20 for fruits\\n',\n",
       " '23/03/2021, 9:25 pm - Saumya: Iou 8 for subway garlic bread\\n',\n",
       " '25/03/2021, 5:11 pm - Saumya: Uome 43 for ebs\\n',\n",
       " '25/03/2021, 5:26 pm - Saumya: Uome 35 for subway\\n',\n",
       " '25/03/2021, 5:27 pm - Kaustubh: Iou 213 for movie\\n',\n",
       " '25/03/2021, 5:27 pm - Kaustubh: ill fps that dont worry\\n',\n",
       " '25/03/2021, 5:27 pm - Kaustubh: just so i dont forget\\n',\n",
       " '25/03/2021, 5:30 pm - Saumya: Oki\\n',\n",
       " '26/03/2021, 6:32 pm - Kaustubh: Uome 27 for subway\\n',\n",
       " '27/03/2021, 9:51 pm - Saumya: Uome 45 for pizza\\n',\n",
       " '28/03/2021, 9:32 pm - Saumya: Uome 38 for bafang\\n',\n",
       " '29/03/2021, 4:35 am - Saumya: Uome 82 for pizza\\n',\n",
       " '29/03/2021, 7:39 pm - Saumya: Uome 100 for thai\\n',\n",
       " '29/03/2021, 7:40 pm - Kaustubh: Okay\\n',\n",
       " '30/03/2021, 7:10 pm - Saumya: Uome 39 for subway\\n',\n",
       " '01/04/2021, 6:30 pm - Saumya: Uome 31 for soju\\n',\n",
       " '02/04/2021, 4:01 pm - Saumya: Uome 71.5 for butter chicken\\n',\n",
       " '02/04/2021, 4:01 pm - Kaustubh: Yay\\n',\n",
       " '02/04/2021, 4:02 pm - Kaustubh: Butter chicken\\n',\n",
       " '02/04/2021, 4:04 pm - Saumya: Yayy\\n',\n",
       " '02/04/2021, 7:43 pm - Kaustubh: Uome 47.4 for groceries\\n',\n",
       " '02/04/2021, 7:43 pm - Saumya: Oki\\n',\n",
       " '03/04/2021, 3:50 pm - Kaustubh: Uome 20 for weed\\n',\n",
       " '03/04/2021, 3:50 pm - Kaustubh: Total tally\\n',\n",
       " '03/04/2021, 3:50 pm - Kaustubh: You deleted this message\\n',\n",
       " '03/04/2021, 3:52 pm - Kaustubh: You owe me 939.4\\n',\n",
       " '03/04/2021, 3:57 pm - Kaustubh: Kaustubh owes 1798.35\\n',\n",
       " '03/04/2021, 4:25 pm - Kaustubh: 892 trial 2\\n',\n",
       " '03/04/2021, 4:27 pm - Kaustubh: 959.4 trial 3\\n',\n",
       " '03/04/2021, 4:30 pm - Kaustubh: 959.4 final trial\\n',\n",
       " '03/04/2021, 4:32 pm - Kaustubh: Final\\n',\n",
       " '03/04/2021, 4:33 pm - Kaustubh: Kaustubh pay Saumya 838.95\\n',\n",
       " '03/04/2021, 11:03 pm - Saumya: Uome 42 for popcorn\\n',\n",
       " '04/04/2021, 8:53 pm - Saumya: Uome 50 for zeugma\\n',\n",
       " '04/04/2021, 10:49 pm - Saumya: Iou 100 for holi party ticket\\n',\n",
       " '05/04/2021, 9:16 pm - Saumya: Uome 52 for uber\\n',\n",
       " '06/04/2021, 8:28 pm - Kaustubh: Uome 7 for devils lettuce\\n',\n",
       " '10/04/2021, 9:13 pm - Saumya: Uome 40 for fruits\\n',\n",
       " '11/04/2021, 4:29 pm - Kaustubh: Uome 72 for thai\\n',\n",
       " '11/04/2021, 4:39 pm - Kaustubh: Iou 17 for brownies\\n',\n",
       " '11/04/2021, 10:27 pm - Saumya: Uome 27.5 for uber\\n',\n",
       " '12/04/2021, 3:58 pm - Saumya: Uome 29 for subway\\n',\n",
       " '12/04/2021, 5:12 pm - Kaustubh: Uome 30 for brownies\\n',\n",
       " '12/04/2021, 7:31 pm - Saumya: Uome 59 for burger\\n',\n",
       " '15/04/2021, 11:18 pm - Saumya: Uome 63 for butter chicken\\n',\n",
       " '16/04/2021, 3:34 pm - Saumya: Uome 10 for cookie\\n',\n",
       " '17/04/2021, 12:24 pm - Saumya: Uome 9 for bananas\\n',\n",
       " '17/04/2021, 5:53 pm - Saumya: Iou 45 for cute banana\\n',\n",
       " '17/04/2021, 7:56 pm - Saumya: Iou 20 for fruit cup\\n',\n",
       " '18/04/2021, 1:40 pm - Kaustubh: Uome 50 next sem\\n',\n",
       " '20/04/2021, 6:15 pm - Kaustubh: Uome 30 for subway\\n',\n",
       " '21/04/2021, 7:54 pm - Kaustubh: Uome 30 for subway\\n',\n",
       " '21/04/2021, 9:32 pm - Kaustubh: Iou 74 for srijan gift\\n',\n",
       " '22/04/2021, 10:17 am - Kaustubh: Iou 20 for loosing bet\\n',\n",
       " '22/04/2021, 10:21 am - Saumya: Yea you dooooi\\n',\n",
       " '23/04/2021, 1:53 pm - Saumya: Uome 29 for subway\\n',\n",
       " '23/04/2021, 8:48 pm - Saumya: Uome 50 for zeugma\\n',\n",
       " '24/04/2021, 5:00 pm - Saumya: Iou 100 for octopus\\n',\n",
       " '24/04/2021, 5:01 pm - Kaustubh: Uome 24 for hku\\n',\n",
       " '25/04/2021, 1:28 am - Kaustubh: Iou 50 for base food\\n',\n",
       " \"25/04/2021, 3:26 pm - Kaustubh: Uome 171.05 for delicious food at Hemingway's on our best date\\n\",\n",
       " '25/04/2021, 6:33 pm - Kaustubh: Iou 11.25 for locks\\n',\n",
       " '25/04/2021, 6:33 pm - Kaustubh: Uome 10 for Chicky nuggis\\n',\n",
       " '25/04/2021, 6:45 pm - Saumya: Uome 24 for cigs\\n',\n",
       " '26/04/2021, 10:19 pm - Saumya: Iou 150 for indian food\\n',\n",
       " '27/04/2021, 6:28 pm - Kaustubh: You deleted this message\\n',\n",
       " '27/04/2021, 6:28 pm - Saumya: Damnnn bbbhhh\\n',\n",
       " '27/04/2021, 6:28 pm - Kaustubh: Uome  16.05 for Banana\\n',\n",
       " '29/04/2021, 6:26 pm - Saumya: Uome 4 for drink\\n',\n",
       " '29/04/2021, 7:06 pm - Saumya: Uome 29 for subway\\n',\n",
       " '30/04/2021, 5:59 pm - Kaustubh: uome 25 for breer\\n',\n",
       " '01/05/2021, 3:43 pm - Saumya: Uome 41 for m&s\\n',\n",
       " '01/05/2021, 5:51 pm - Saumya: Uome 68 for condoms\\n',\n",
       " '02/05/2021, 1:10 am - Kaustubh: Iou for 225 for broken condom\\n',\n",
       " '02/05/2021, 8:16 pm - Kaustubh: Uome 150 for food week\\n',\n",
       " '03/05/2021, 7:47 pm - Saumya: Uome 17.4 for brownie and rice\\n',\n",
       " '05/05/2021, 5:36 pm - Saumya: Iou 55.9 for fusion\\n',\n",
       " '06/05/2021, 8:56 pm - Saumya: Uome 50 for zeugma\\n',\n",
       " '08/05/2021, 2:50 am - Saumya: This message was deleted\\n',\n",
       " '08/05/2021, 2:52 am - Kaustubh: Liar\\n',\n",
       " '08/05/2021, 2:53 am - Kaustubh: I owe you 43\\n',\n",
       " '08/05/2021, 2:58 am - Saumya: This message was deleted\\n',\n",
       " '08/05/2021, 7:42 pm - Saumya: Uome 31 for mos\\n',\n",
       " '09/05/2021, 12:49 am - Kaustubh: Uome 27.5 for brownies\\n',\n",
       " '09/05/2021, 12:50 am - Saumya: Iou 117\\n',\n",
       " '09/05/2021, 2:56 pm - Kaustubh: Uome 37.9 for budder\\n',\n",
       " '09/05/2021, 10:27 pm - Saumya: Uome 20.6 for vending machine\\n',\n",
       " '12/05/2021, 5:58 pm - Saumya: Uome 14 for sandwich\\n',\n",
       " '12/05/2021, 5:58 pm - Saumya: Iou 73 for food\\n',\n",
       " '12/05/2021, 7:31 pm - Kaustubh: Iou 182 for jojo\\n',\n",
       " '14/05/2021, 3:16 pm - Saumya: Uome 30 for food\\n',\n",
       " '15/05/2021, 6:19 pm - Saumya: Iou 100\\n',\n",
       " '17/05/2021, 11:03 am - Saumya: This message was deleted\\n',\n",
       " '18/05/2021, 8:11 pm - Saumya: Iou 150 for food\\n',\n",
       " '22/05/2021, 7:48 pm - Saumya: Uome 20 for lunch\\n',\n",
       " '25/05/2021, 10:13 pm - Saumya: Iou 20 for lunch\\n',\n",
       " '26/05/2021, 2:26 pm - Saumya: uome 44 for groceries\\n',\n",
       " '26/05/2021, 7:51 pm - Saumya: Iou 25 for luncg\\n',\n",
       " '27/05/2021, 2:24 pm - Saumya: Uome 42 for ebs\\n',\n",
       " '27/05/2021, 7:55 pm - Saumya: Uome 39 for wings\\n',\n",
       " '27/05/2021, 9:07 pm - Saumya: Uome 70 for ice cream\\n',\n",
       " '29/05/2021, 2:56 am - Saumya: Uome 15 for food\\n',\n",
       " '29/05/2021, 9:35 pm - Saumya: Uome 110 for kailash parbat\\n',\n",
       " '01/06/2021, 4:36 pm - Saumya: Uome 41 for bafang\\n',\n",
       " '01/06/2021, 4:57 pm - Saumya: Uome 20 for fruit cup\\n',\n",
       " '02/06/2021, 1:21 am - Saumya: Uome 12 for donut\\n',\n",
       " '03/06/2021, 1:40 pm - Kaustubh: Iou 12.5 for pasta\\n',\n",
       " '04/06/2021, 12:07 pm - Saumya: Uome 40 for movie\\n',\n",
       " '04/06/2021, 9:20 pm - Saumya: Uome 30 for food\\n',\n",
       " '05/06/2021, 1:17 pm - Saumya: Iou 35 for food\\n',\n",
       " '06/06/2021, 1:33 pm - Saumya: This message was deleted\\n',\n",
       " '06/06/2021, 1:33 pm - Saumya: Uome 59.5 for uber\\n',\n",
       " \"06/06/2021, 1:51 pm - Kaustubh: What I'm not paying for soju\\n\",\n",
       " '06/06/2021, 1:51 pm - Saumya: What\\n',\n",
       " '06/06/2021, 1:51 pm - Saumya: I bought it for you\\n',\n",
       " '06/06/2021, 1:52 pm - Saumya: I didn’t drink it\\n',\n",
       " '06/06/2021, 1:52 pm - Kaustubh: I got like 3 bottles that everyone drank\\n',\n",
       " '06/06/2021, 1:52 pm - Saumya: Ugh\\n',\n",
       " '06/06/2021, 1:52 pm - Saumya: Fine\\n',\n",
       " '07/06/2021, 2:09 pm - Saumya: Uome 20 for fruit cup\\n',\n",
       " '07/06/2021, 2:09 pm - Saumya: Iou 35 for food\\n',\n",
       " '09/06/2021, 3:34 pm - Saumya: Iou 20 for food\\n',\n",
       " '09/06/2021, 3:50 pm - Saumya: First trial: kaustubh owes 1986.75\\n',\n",
       " '09/06/2021, 3:55 pm - Saumya: First trial: saumya owes 1726.4\\n',\n",
       " '09/06/2021, 4:12 pm - Saumya: Uome 4 for schwepps\\n',\n",
       " '10/06/2021, 8:13 pm - Saumya: Uome 50 for zeugma\\n',\n",
       " '10/06/2021, 8:28 pm - Kaustubh: oh thanka you\\n',\n",
       " '11/06/2021, 1:29 am - Saumya: Uome 15 for food\\n',\n",
       " '11/06/2021, 5:41 pm - Saumya: Uome 39 for ebs\\n',\n",
       " '12/06/2021, 8:59 pm - Saumya: Iou 99 for amaronis\\n',\n",
       " '13/06/2021, 7:50 pm - Saumya: Uome 300 for vodka\\n',\n",
       " '13/06/2021, 7:53 pm - Saumya: Uome 115 for food\\n',\n",
       " '13/06/2021, 8:53 pm - Kaustubh: Uome 160 for bday snacks\\n',\n",
       " '14/06/2021, 1:30 pm - Kaustubh: Iou 203.5 for food bday\\n',\n",
       " '14/06/2021, 7:53 pm - Kaustubh: Uome 200 for bday dinner ordering\\n',\n",
       " '14/06/2021, 11:23 pm - Kaustubh: Iou of 100 for skye\\n',\n",
       " '15/06/2021, 2:28 am - Kaustubh: Uome 52 for uber\\n',\n",
       " '15/06/2021, 2:32 am - Kaustubh: Iou 145 for room\\n',\n",
       " '15/06/2021, 12:08 pm - Saumya: This message was deleted\\n',\n",
       " '15/06/2021, 12:12 pm - Saumya: Uome 10 for siu mai\\n',\n",
       " '15/06/2021, 6:46 pm - Saumya: Uome 7.5 for drink\\n',\n",
       " '16/06/2021, 5:13 pm - Saumya: Iou 39 for ens\\n',\n",
       " '16/06/2021, 5:13 pm - Saumya: Ebs*\\n',\n",
       " '17/06/2021, 12:39 am - Saumya: Iou 35 for food\\n',\n",
       " '17/06/2021, 12:39 am - Saumya: Iou 70 for food\\n',\n",
       " '18/06/2021, 7:46 pm - Kaustubh: Iou 202 for coyote\\n',\n",
       " '18/06/2021, 7:47 pm - Kaustubh: Iou 15 for loosing bet\\n',\n",
       " '18/06/2021, 7:47 pm - Saumya: (Detroit hellfire 1000 scoville scale)\\n',\n",
       " '19/06/2021, 9:44 pm - Saumya: Iou 35 for meal\\n',\n",
       " '19/06/2021, 9:45 pm - Saumya: Uome 19 for churros\\n',\n",
       " '20/06/2021, 1:31 am - Saumya: Uome 11.8 for jelly\\n',\n",
       " '20/06/2021, 2:24 am - Saumya: Uome 10.5 for pocari\\n',\n",
       " '20/06/2021, 7:47 pm - Saumya: Uome 92 for biryani\\n',\n",
       " '21/06/2021, 3:04 pm - Saumya: Iou 32 for thai\\n',\n",
       " '22/06/2021, 4:05 pm - Saumya: Uome 40 for haircut\\n',\n",
       " '22/06/2021, 4:41 pm - Saumya: Iou 40 for food\\n',\n",
       " '23/06/2021, 12:58 pm - Saumya: Uome 400 for birthday heels\\n',\n",
       " '23/06/2021, 1:33 pm - Kaustubh: Oh shoot yeah\\n',\n",
       " '23/06/2021, 1:33 pm - Kaustubh: Nuts\\n',\n",
       " '23/06/2021, 1:55 pm - Saumya: Hehehe\\n',\n",
       " '23/06/2021, 8:46 pm - Saumya: Iou 40 for food\\n',\n",
       " '24/06/2021, 2:43 pm - Saumya: Uome 14 for wipes\\n',\n",
       " '24/06/2021, 2:43 pm - Saumya: Uome 19 for yumnut\\n',\n",
       " '24/06/2021, 4:39 pm - Saumya: Uome 10 for snack express\\n',\n",
       " '27/06/2021, 4:45 am - Saumya: Uome 32.5 for uber\\n',\n",
       " '27/06/2021, 6:54 pm - Kaustubh: Uome 173.5\\n',\n",
       " '27/06/2021, 7:17 pm - Kaustubh: Iou 17.5\\n',\n",
       " '30/06/2021, 9:04 pm - Saumya: Uome 20 for fruit cup\\n',\n",
       " '30/06/2021, 9:09 pm - Kaustubh: Get twoooio\\n',\n",
       " '30/06/2021, 9:10 pm - Saumya: Too late\\n',\n",
       " '01/07/2021, 4:11 pm - Saumya: Uome 35.5 for mcd\\n',\n",
       " '01/07/2021, 10:46 pm - Saumya: Uome 10 for snack express\\n',\n",
       " '02/07/2021, 11:08 am - Saumya: Uome 35 for salad\\n',\n",
       " '02/07/2021, 1:59 pm - Saumya: Uome 39 for ebs\\n',\n",
       " '04/07/2021, 1:58 pm - Kaustubh: Iou 69 for pizza\\n',\n",
       " '04/07/2021, 1:58 pm - Kaustubh: Uome 38.5 for canteen food\\n',\n",
       " '04/07/2021, 5:35 pm - Kaustubh: Uome 132 for groceries\\n',\n",
       " '04/07/2021, 11:23 pm - Saumya: Uome 21 for food\\n',\n",
       " '06/07/2021, 12:36 am - Saumya: Uome 100 for movie\\n',\n",
       " '08/07/2021, 1:45 pm - Saumya: Iou 244 for uber thief\\n',\n",
       " '09/07/2021, 11:25 am - Saumya: Uome 29 for subway\\n',\n",
       " '09/07/2021, 12:05 pm - Saumya: Uome 130.25\\n',\n",
       " '09/07/2021, 3:38 pm - Saumya: Uome 44.25 for uber\\n',\n",
       " '10/07/2021, 10:01 pm - Saumya: Iou 40 for ebs\\n',\n",
       " '11/07/2021, 3:00 pm - Saumya: This message was deleted\\n',\n",
       " '11/07/2021, 3:02 pm - Saumya: Uome 130 for chung king\\n',\n",
       " '11/07/2021, 3:22 pm - Saumya: Iou 6.5 for drink\\n',\n",
       " '11/07/2021, 3:47 pm - Saumya: Uome 13 for pastry\\n',\n",
       " '13/07/2021, 11:51 am - Saumya: Uome 10 for baby melon\\n',\n",
       " '13/07/2021, 10:00 pm - Saumya: Uome 39 for ebs\\n',\n",
       " '16/07/2021, 3:29 pm - Saumya: Iou 7.5\\n',\n",
       " '17/07/2021, 11:53 am - Saumya: Iou 22 for sandwich\\n',\n",
       " '17/07/2021, 1:20 pm - Kaustubh: It was 24\\n',\n",
       " '17/07/2021, 1:20 pm - Saumya: Iou 2 more\\n',\n",
       " '19/07/2021, 7:43 pm - Saumya: Iou 35 for pizza\\n',\n",
       " '21/07/2021, 12:22 am - Saumya: Uome 19 for chips\\n',\n",
       " '21/07/2021, 2:59 pm - Saumya: Uome 63.8\\n',\n",
       " '21/07/2021, 7:16 pm - Kaustubh: Iou 78 for hp\\n',\n",
       " '22/07/2021, 6:24 pm - Saumya: Uome 4 for caffeine\\n',\n",
       " '23/07/2021, 8:23 pm - Saumya: Iou 95.5 for today\\n',\n",
       " '25/07/2021, 10:44 pm - Saumya: Uome 50 for zeugma\\n',\n",
       " '26/07/2021, 8:21 pm - Saumya: Uome 89 for hang hau\\n',\n",
       " '26/07/2021, 8:52 pm - Saumya: iou 61 for itsc\\n',\n",
       " '27/07/2021, 2:08 pm - Saumya: Uome 5.5 for cc\\n',\n",
       " '27/07/2021, 3:52 pm - Saumya: Iou 50 for barn b\\n',\n",
       " '28/07/2021, 12:34 pm - Saumya: Iou 40 for ebs\\n',\n",
       " '28/07/2021, 3:00 pm - Saumya: Uome 62 for thai\\n',\n",
       " '29/07/2021, 6:58 pm - Saumya: Uome 43 for ebs\\n',\n",
       " '03/08/2021, 9:34 pm - Kaustubh: Iou 61 for coyote\\n',\n",
       " '10/08/2021, 5:42 pm - Saumya: Uome 84 for ebs\\n',\n",
       " '12/08/2021, 2:22 pm - Saumya: Iou 62 for thai\\n',\n",
       " '12/08/2021, 7:24 pm - Saumya: Uome 61. 5 for ebs\\n',\n",
       " '12/08/2021, 9:13 pm - Saumya: Uome 45 for zeugma\\n',\n",
       " '13/08/2021, 12:58 pm - Saumya: Uome 35 for food\\n',\n",
       " '15/08/2021, 4:56 pm - Saumya: Uome 50 for cash\\n',\n",
       " '16/08/2021, 12:16 am - Saumya: Uome 10 for ice cream\\n',\n",
       " '17/08/2021, 1:21 pm - Saumya: Iou 10 for samosa\\n',\n",
       " '18/08/2021, 7:18 pm - Saumya: Uome 45 for zeugma\\n',\n",
       " '19/08/2021, 2:42 pm - Saumya: Uome 80 for summer at the wheel\\n',\n",
       " '20/08/2021, 6:11 pm - Saumya: Uome 50.6 for genki\\n',\n",
       " '20/08/2021, 6:53 pm - Kaustubh: Uome 7 for slurpee\\n',\n",
       " '20/08/2021, 9:29 pm - Kaustubh: Iou 97.5\\n',\n",
       " '21/08/2021, 12:03 am - Saumya: Uome 30 for snapio\\n',\n",
       " '21/08/2021, 1:29 am - Saumya: Uome 21.5 for taxi\\n',\n",
       " '21/08/2021, 8:32 pm - Saumya: Uome 82.5 for saizeriya\\n',\n",
       " '22/08/2021, 9:40 pm - Saumya: Uome 28 for food\\n',\n",
       " '22/08/2021, 10:07 pm - Kaustubh: Iou 5 for ratik food\\n',\n",
       " '22/08/2021, 10:10 pm - Saumya: Iou 41.6 for fusion\\n',\n",
       " '23/08/2021, 8:23 pm - Saumya: Uome 20 for fruit cup\\n',\n",
       " '25/08/2021, 10:05 pm - Saumya: Uome 59 for triple os\\n',\n",
       " '28/08/2021, 4:27 pm - Saumya: Uome 45 for zeugma\\n',\n",
       " '29/08/2021, 1:05 pm - Saumya: Uome 24 for soju\\n',\n",
       " '30/08/2021, 11:27 am - Saumya: Uome 50.5 for mcd\\n',\n",
       " '30/08/2021, 11:36 am - Saumya: Uome 119 for foodpanda\\n',\n",
       " '30/08/2021, 11:37 am - Saumya: Uome 18 for cup noodles\\n',\n",
       " '30/08/2021, 6:00 pm - Saumya: Uome 20 for fruit cup\\n',\n",
       " '30/08/2021, 7:08 pm - Saumya: Iou 100 for itsc\\n',\n",
       " '30/08/2021, 8:23 pm - Saumya: Iou 117 for itsc\\n',\n",
       " '31/08/2021, 1:57 pm - Saumya: Uome 20 for food\\n',\n",
       " '31/08/2021, 9:34 pm - Saumya: Iou 185 for pepperonis\\n',\n",
       " '03/09/2021, 8:46 am - Kaustubh: Iou 60 for movie\\n',\n",
       " '03/09/2021, 8:46 am - Kaustubh: You deleted this message\\n',\n",
       " '03/09/2021, 8:49 am - Kaustubh: You deleted this message\\n',\n",
       " '03/09/2021, 8:49 am - Kaustubh: Uome 28.5 for mcd\\n',\n",
       " '04/09/2021, 4:43 pm - Saumya: Uome 31 for mos\\n',\n",
       " '04/09/2021, 5:30 pm - Saumya: Uome 50 for itsc\\n',\n",
       " '10/09/2021, 8:17 pm - Saumya: Uome 13.3 for banana\\n',\n",
       " '11/09/2021, 6:51 pm - Kaustubh: Uome 17.5 for saizeria\\n',\n",
       " '11/09/2021, 7:22 pm - Saumya: Uome 50 for octopus\\n',\n",
       " '19/09/2021, 3:44 pm - Saumya: uome 16.7 for shriyas dance\\n',\n",
       " '20/09/2021, 1:53 am - Saumya: Uome 36 for sushi\\n',\n",
       " '20/09/2021, 10:57 am - Saumya: Uome 13.7 for starbucks\\n',\n",
       " '22/09/2021, 9:00 pm - Kaustubh: Iou 28\\n',\n",
       " '26/09/2021, 1:39 am - Saumya: Uome 88\\n',\n",
       " '26/09/2021, 5:40 pm - Saumya: Uome 55 for super sandwiches\\n',\n",
       " '01/10/2021, 5:53 pm - Saumya: uome 60 for mos\\n']"
      ]
     },
     "metadata": {},
     "execution_count": 16
    }
   ],
   "metadata": {
    "hidden": true
   }
  },
  {
   "cell_type": "code",
   "execution_count": 20,
   "source": [
    "# Data in list format\r\n",
    "data[-1]"
   ],
   "outputs": [
    {
     "output_type": "execute_result",
     "data": {
      "text/plain": [
       "'01/10/2021, 5:53 pm - Saumya: uome 60 for mos\\n'"
      ]
     },
     "metadata": {},
     "execution_count": 20
    }
   ],
   "metadata": {
    "hidden": true
   }
  },
  {
   "cell_type": "markdown",
   "source": [
    "#### Clean Up data"
   ],
   "metadata": {}
  },
  {
   "cell_type": "code",
   "execution_count": 21,
   "source": [
    "# FOUND ON GITHUB: https://gist.github.com/kwcooper/a21ba58272d3cdf26310cc02ee4b168f\r\n",
    "# parse text, create list of lists structure & remove first whatsapp info message\r\n",
    "dataset = data[1:]\r\n",
    "cleaned_data = []\r\n",
    "for line in dataset:\r\n",
    "    # Check, whether it is a new line or not\r\n",
    "    # If the following characters are in the line -> assumption it is NOT a new line\r\n",
    "    if '/' in line and ':' in line and ',' in line and '-' in line:\r\n",
    "        # grab the info and cut it out\r\n",
    "        date = line.split(\",\")[0]\r\n",
    "        line2 = line[len(date):]\r\n",
    "        time = line2.split(\"-\")[0][2:]\r\n",
    "        line3 = line2[len(time):]\r\n",
    "        name = line3.split(\":\")[0][4:]\r\n",
    "        line4 = line3[len(name):]\r\n",
    "        message = line4[6:-1] # strip newline charactor\r\n",
    "        cleaned_data.append([date, time, name, message])\r\n",
    "    \r\n",
    "    # else, assumption -> new line. Append new line to previous 'message'\r\n",
    "    else:\r\n",
    "        new = cleaned_data[-1][-1] + \" \" + line\r\n",
    "        cleaned_data[-1][-1] = new    "
   ],
   "outputs": [],
   "metadata": {}
  },
  {
   "cell_type": "markdown",
   "source": [
    "#### 🚩 Create Dataframe & Export it to Excel "
   ],
   "metadata": {
    "heading_collapsed": true
   }
  },
  {
   "cell_type": "code",
   "execution_count": 22,
   "source": [
    "# Create the DataFrame\r\n",
    "df = pd.DataFrame(cleaned_data, columns = ['Date', 'Time', 'Name', 'Message'])"
   ],
   "outputs": [],
   "metadata": {
    "hidden": true
   }
  },
  {
   "cell_type": "code",
   "execution_count": 25,
   "source": [
    "# Save it to excel\r\n",
    "df.to_excel('chat_history.xlsx', index=False)"
   ],
   "outputs": [],
   "metadata": {
    "hidden": true
   }
  },
  {
   "cell_type": "code",
   "execution_count": null,
   "source": [],
   "outputs": [],
   "metadata": {}
  }
 ],
 "metadata": {
  "kernelspec": {
   "name": "python3",
   "display_name": "Python 3.9.6 64-bit ('comp4331': conda)"
  },
  "language_info": {
   "codemirror_mode": {
    "name": "ipython",
    "version": 3
   },
   "file_extension": ".py",
   "mimetype": "text/x-python",
   "name": "python",
   "nbconvert_exporter": "python",
   "pygments_lexer": "ipython3",
   "version": "3.9.6"
  },
  "interpreter": {
   "hash": "18371ec54b26b5592670d9a578e80da52b3b6d0ef5bf2bd528032fbe2540b3db"
  }
 },
 "nbformat": 4,
 "nbformat_minor": 4
}