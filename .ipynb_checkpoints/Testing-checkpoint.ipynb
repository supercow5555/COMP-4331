{
 "cells": [
  {
   "cell_type": "code",
   "execution_count": 1,
   "metadata": {},
   "outputs": [
    {
     "name": "stdout",
     "output_type": "stream",
     "text": [
      "pls\n"
     ]
    }
   ],
   "source": [
    "print('pls')"
   ]
  },
  {
   "cell_type": "code",
   "execution_count": 2,
   "metadata": {},
   "outputs": [
    {
     "name": "stdout",
     "output_type": "stream",
     "text": [
      "3\n"
     ]
    }
   ],
   "source": [
    "a = 1\n",
    "b = 2\n",
    "print(a+b)\n"
   ]
  },
  {
   "cell_type": "code",
   "execution_count": 1,
   "metadata": {},
   "outputs": [
    {
     "data": {
      "image/png": "[encoded data removed]",
      "text/plain": [
       "<Figure size 432x288 with 1 Axes>"
      ]
     },
     "metadata": {
      "needs_background": "light"
     },
     "output_type": "display_data"
    }
   ],
   "source": [
    "# import libraries\n",
    "import matplotlib.pyplot as plt\n",
    "\n",
    "# initialization\n",
    "fig = plt.figure() # create new figure\n",
    "ax = plt.subplot() # add an axes to current figure\n",
    "\n",
    "# boxplot data\n",
    "Branch_1 = [50, 70, 60, 120, 45, 53, 95, 180]\n",
    "Branch_2 = [124, 83, 135, 124, 122, 113, 100, 142, 110, 107]\n",
    "Branch_3 = [115, 86, 84, 80, 124, 40, 78, 198, 52, 81]\n",
    "\n",
    "# plot data as boxplot\n",
    "ax.boxplot([Branch_1, Branch_2, Branch_3], labels=['Branch 1', 'Branch 2', 'Branch 3'])\n",
    "ax.set_xlabel(\"Branches\") # add label for x axis\n",
    "ax.set_ylabel(\"Unit price($)\") # add label for y axis\n",
    "plt.show()"
   ]
  }
 ],
 "metadata": {
  "interpreter": {
   "hash": "18371ec54b26b5592670d9a578e80da52b3b6d0ef5bf2bd528032fbe2540b3db"
  },
  "kernelspec": {
   "display_name": "Python 3",
   "language": "python",
   "name": "python3"
  },
  "language_info": {
   "codemirror_mode": {
    "name": "ipython",
    "version": 3
   },
   "file_extension": ".py",
   "mimetype": "text/x-python",
   "name": "python",
   "nbconvert_exporter": "python",
   "pygments_lexer": "ipython3",
   "version": "3.8.8"
  }
 },
 "nbformat": 4,
 "nbformat_minor": 4
}
