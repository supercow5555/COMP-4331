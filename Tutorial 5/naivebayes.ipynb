{
 "cells": [
  {
   "cell_type": "markdown",
   "metadata": {},
   "source": [
    "https://colab.research.google.com/drive/1sjcq7zdNa_5mDs1J2hRhPj2iwYuyY7CG?usp=sharing\n"
   ]
  },
  {
   "cell_type": "markdown",
   "metadata": {},
   "source": [
    "# COMP 4331 Tutorial 5: Naive Bayes Classifier\n",
    "* Build the classifier by yourself\n",
    "* Use the built-in naive Bayes classifier in **scikit-learn**\n",
    "* by `Weisen Jiang`[wjiangar@connect.ust.hk]"
   ]
  },
  {
   "cell_type": "code",
   "execution_count": 13,
   "metadata": {},
   "outputs": [],
   "source": [
    "import seaborn as sns\n",
    "import numpy as np\n",
    "\n",
    "import pandas as pd\n",
    "pd.set_option('display.width', 10000)\n",
    "pd.set_option('display.max_colwidth', -1)\n",
    "\n",
    "import warnings\n",
    "warnings.filterwarnings('ignore')"
   ]
  },
  {
   "cell_type": "markdown",
   "metadata": {},
   "source": [
    "## prepare the data"
   ]
  },
  {
   "cell_type": "markdown",
   "metadata": {},
   "source": [
    "In Windows, you may download the dataset from [this_link](https://archive.ics.uci.edu/ml/machine-learning-databases/breast-cancer/breast-cancer.data), and place the downloaded file(`breast-cancer.data`) in your working directory."
   ]
  },
  {
   "cell_type": "code",
   "execution_count": 14,
   "metadata": {},
   "outputs": [
    {
     "name": "stderr",
     "output_type": "stream",
     "text": [
      "--2021-11-03 20:38:30--  https://archive.ics.uci.edu/ml/machine-learning-databases/breast-cancer/breast-cancer.data\n",
      "Resolving archive.ics.uci.edu (archive.ics.uci.edu)... 128.195.10.252\n",
      "Connecting to archive.ics.uci.edu (archive.ics.uci.edu)|128.195.10.252|:443... connected.\n",
      "HTTP request sent, awaiting response... 200 OK\n",
      "Length: 18654 (18K) [application/x-httpd-php]\n",
      "Saving to: 'breast-cancer.data.2'\n",
      "\n",
      "     0K .......... ........                                   100% 81.0K=0.2s\n",
      "\n",
      "2021-11-03 20:38:31 (81.0 KB/s) - 'breast-cancer.data.2' saved [18654/18654]\n",
      "\n"
     ]
    }
   ],
   "source": [
    "# ![ -e breast-cancer.data ] && rm breast-cancer.data\n",
    "!wget https://archive.ics.uci.edu/ml/machine-learning-databases/breast-cancer/breast-cancer.data"
   ]
  },
  {
   "cell_type": "code",
   "execution_count": 15,
   "metadata": {},
   "outputs": [],
   "source": [
    "data_file = \"breast-cancer.data\"\n",
    "\n",
    "# attribute names\n",
    "col_names = [\"class\", \"age\", \"menopause\", \"tumor-size\", \"inv-nodes\", \"node-caps\", \"deg-malign\", \"breast\", \"breast-quad\", \"irradiat\"]\n",
    "\n",
    "data_df = pd.read_csv(data_file, sep=',', names=col_names)\n"
   ]
  },
  {
   "cell_type": "code",
   "execution_count": 16,
   "metadata": {},
   "outputs": [
    {
     "data": {
      "text/html": [
       "<div>\n",
       "<style scoped>\n",
       "    .dataframe tbody tr th:only-of-type {\n",
       "        vertical-align: middle;\n",
       "    }\n",
       "\n",
       "    .dataframe tbody tr th {\n",
       "        vertical-align: top;\n",
       "    }\n",
       "\n",
       "    .dataframe thead th {\n",
       "        text-align: right;\n",
       "    }\n",
       "</style>\n",
       "<table border=\"1\" class=\"dataframe\">\n",
       "  <thead>\n",
       "    <tr style=\"text-align: right;\">\n",
       "      <th></th>\n",
       "      <th>class</th>\n",
       "      <th>age</th>\n",
       "      <th>menopause</th>\n",
       "      <th>tumor-size</th>\n",
       "      <th>inv-nodes</th>\n",
       "      <th>node-caps</th>\n",
       "      <th>deg-malign</th>\n",
       "      <th>breast</th>\n",
       "      <th>breast-quad</th>\n",
       "      <th>irradiat</th>\n",
       "    </tr>\n",
       "  </thead>\n",
       "  <tbody>\n",
       "    <tr>\n",
       "      <th>0</th>\n",
       "      <td>no-recurrence-events</td>\n",
       "      <td>30-39</td>\n",
       "      <td>premeno</td>\n",
       "      <td>30-34</td>\n",
       "      <td>0-2</td>\n",
       "      <td>no</td>\n",
       "      <td>3</td>\n",
       "      <td>left</td>\n",
       "      <td>left_low</td>\n",
       "      <td>no</td>\n",
       "    </tr>\n",
       "    <tr>\n",
       "      <th>1</th>\n",
       "      <td>no-recurrence-events</td>\n",
       "      <td>40-49</td>\n",
       "      <td>premeno</td>\n",
       "      <td>20-24</td>\n",
       "      <td>0-2</td>\n",
       "      <td>no</td>\n",
       "      <td>2</td>\n",
       "      <td>right</td>\n",
       "      <td>right_up</td>\n",
       "      <td>no</td>\n",
       "    </tr>\n",
       "    <tr>\n",
       "      <th>2</th>\n",
       "      <td>no-recurrence-events</td>\n",
       "      <td>40-49</td>\n",
       "      <td>premeno</td>\n",
       "      <td>20-24</td>\n",
       "      <td>0-2</td>\n",
       "      <td>no</td>\n",
       "      <td>2</td>\n",
       "      <td>left</td>\n",
       "      <td>left_low</td>\n",
       "      <td>no</td>\n",
       "    </tr>\n",
       "    <tr>\n",
       "      <th>3</th>\n",
       "      <td>no-recurrence-events</td>\n",
       "      <td>60-69</td>\n",
       "      <td>ge40</td>\n",
       "      <td>15-19</td>\n",
       "      <td>0-2</td>\n",
       "      <td>no</td>\n",
       "      <td>2</td>\n",
       "      <td>right</td>\n",
       "      <td>left_up</td>\n",
       "      <td>no</td>\n",
       "    </tr>\n",
       "    <tr>\n",
       "      <th>4</th>\n",
       "      <td>no-recurrence-events</td>\n",
       "      <td>40-49</td>\n",
       "      <td>premeno</td>\n",
       "      <td>0-4</td>\n",
       "      <td>0-2</td>\n",
       "      <td>no</td>\n",
       "      <td>2</td>\n",
       "      <td>right</td>\n",
       "      <td>right_low</td>\n",
       "      <td>no</td>\n",
       "    </tr>\n",
       "    <tr>\n",
       "      <th>...</th>\n",
       "      <td>...</td>\n",
       "      <td>...</td>\n",
       "      <td>...</td>\n",
       "      <td>...</td>\n",
       "      <td>...</td>\n",
       "      <td>...</td>\n",
       "      <td>...</td>\n",
       "      <td>...</td>\n",
       "      <td>...</td>\n",
       "      <td>...</td>\n",
       "    </tr>\n",
       "    <tr>\n",
       "      <th>281</th>\n",
       "      <td>recurrence-events</td>\n",
       "      <td>30-39</td>\n",
       "      <td>premeno</td>\n",
       "      <td>30-34</td>\n",
       "      <td>0-2</td>\n",
       "      <td>no</td>\n",
       "      <td>2</td>\n",
       "      <td>left</td>\n",
       "      <td>left_up</td>\n",
       "      <td>no</td>\n",
       "    </tr>\n",
       "    <tr>\n",
       "      <th>282</th>\n",
       "      <td>recurrence-events</td>\n",
       "      <td>30-39</td>\n",
       "      <td>premeno</td>\n",
       "      <td>20-24</td>\n",
       "      <td>0-2</td>\n",
       "      <td>no</td>\n",
       "      <td>3</td>\n",
       "      <td>left</td>\n",
       "      <td>left_up</td>\n",
       "      <td>yes</td>\n",
       "    </tr>\n",
       "    <tr>\n",
       "      <th>283</th>\n",
       "      <td>recurrence-events</td>\n",
       "      <td>60-69</td>\n",
       "      <td>ge40</td>\n",
       "      <td>20-24</td>\n",
       "      <td>0-2</td>\n",
       "      <td>no</td>\n",
       "      <td>1</td>\n",
       "      <td>right</td>\n",
       "      <td>left_up</td>\n",
       "      <td>no</td>\n",
       "    </tr>\n",
       "    <tr>\n",
       "      <th>284</th>\n",
       "      <td>recurrence-events</td>\n",
       "      <td>40-49</td>\n",
       "      <td>ge40</td>\n",
       "      <td>30-34</td>\n",
       "      <td>3-5</td>\n",
       "      <td>no</td>\n",
       "      <td>3</td>\n",
       "      <td>left</td>\n",
       "      <td>left_low</td>\n",
       "      <td>no</td>\n",
       "    </tr>\n",
       "    <tr>\n",
       "      <th>285</th>\n",
       "      <td>recurrence-events</td>\n",
       "      <td>50-59</td>\n",
       "      <td>ge40</td>\n",
       "      <td>30-34</td>\n",
       "      <td>3-5</td>\n",
       "      <td>no</td>\n",
       "      <td>3</td>\n",
       "      <td>left</td>\n",
       "      <td>left_low</td>\n",
       "      <td>no</td>\n",
       "    </tr>\n",
       "  </tbody>\n",
       "</table>\n",
       "<p>286 rows × 10 columns</p>\n",
       "</div>"
      ],
      "text/plain": [
       "                    class    age menopause tumor-size inv-nodes node-caps  deg-malign breast breast-quad irradiat\n",
       "0    no-recurrence-events  30-39  premeno   30-34      0-2       no        3           left   left_low    no     \n",
       "1    no-recurrence-events  40-49  premeno   20-24      0-2       no        2           right  right_up    no     \n",
       "2    no-recurrence-events  40-49  premeno   20-24      0-2       no        2           left   left_low    no     \n",
       "3    no-recurrence-events  60-69  ge40      15-19      0-2       no        2           right  left_up     no     \n",
       "4    no-recurrence-events  40-49  premeno   0-4        0-2       no        2           right  right_low   no     \n",
       "..                    ...    ...      ...   ...        ...       ..       ..             ...        ...   ..     \n",
       "281  recurrence-events     30-39  premeno   30-34      0-2       no        2           left   left_up     no     \n",
       "282  recurrence-events     30-39  premeno   20-24      0-2       no        3           left   left_up     yes    \n",
       "283  recurrence-events     60-69  ge40      20-24      0-2       no        1           right  left_up     no     \n",
       "284  recurrence-events     40-49  ge40      30-34      3-5       no        3           left   left_low    no     \n",
       "285  recurrence-events     50-59  ge40      30-34      3-5       no        3           left   left_low    no     \n",
       "\n",
       "[286 rows x 10 columns]"
      ]
     },
     "execution_count": 16,
     "metadata": {},
     "output_type": "execute_result"
    }
   ],
   "source": [
    "data_df"
   ]
  },
  {
   "cell_type": "markdown",
   "metadata": {},
   "source": [
    "## First impression"
   ]
  },
  {
   "cell_type": "code",
   "execution_count": 17,
   "metadata": {},
   "outputs": [
    {
     "data": {
      "image/png": "[encoded data removed]",
      "text/plain": [
       "<Figure size 360x360 with 1 Axes>"
      ]
     },
     "metadata": {
      "needs_background": "light"
     },
     "output_type": "display_data"
    }
   ],
   "source": [
    "sns.catplot(data=data_df, x=\"class\", kind=\"count\");"
   ]
  },
  {
   "cell_type": "code",
   "execution_count": 18,
   "metadata": {},
   "outputs": [
    {
     "data": {
      "image/png": "[encoded data removed]",
      "text/plain": [
       "<Figure size 425.125x360 with 1 Axes>"
      ]
     },
     "metadata": {
      "needs_background": "light"
     },
     "output_type": "display_data"
    }
   ],
   "source": [
    "sns.catplot(data=data_df, x=\"class\", hue=\"age\", kind=\"count\");\n"
   ]
  },
  {
   "cell_type": "markdown",
   "metadata": {},
   "source": [
    "## Basic summary for naive Bayes classifier\n",
    "\n",
    "putting values into dictionaries\n",
    "\n",
    "and computing prior and conditional probabilities\n"
   ]
  },
  {
   "cell_type": "code",
   "execution_count": 19,
   "metadata": {},
   "outputs": [],
   "source": [
    "# class_name -> count\n",
    "class_stat_dict = {} \n",
    "# (class_name, attribute_name, attribute_value) -> count\n",
    "attribute_stat_dict = {}\n",
    "# attribute_name -> value set (for Laplace correction)\n",
    "attribute_distinct_dict = {}\n",
    "\n",
    "\n",
    "for i, row in data_df.iterrows():       #iters through all samples\n",
    "    class_name = row[\"class\"]           #class name\n",
    "\n",
    "    # for p(c_i)\n",
    "    current_number = class_stat_dict.get(class_name, 0)\n",
    "    class_stat_dict[class_name] = current_number + 1\n",
    "\n",
    "    for attribute in col_names[1:]:\n",
    "        attribute_value = row[attribute]\n",
    "\n",
    "        # for Laplacian smooth\n",
    "        if attribute not in attribute_distinct_dict:\n",
    "            attribute_distinct_dict[attribute] = set()\n",
    "        attribute_distinct_dict[attribute].add(attribute_value)\n",
    "\n",
    "        # for P(X_k | C_i)\n",
    "        attribute_key = (class_name, attribute, attribute_value)\n",
    "        current_number = attribute_stat_dict.get(attribute_key, 0)\n",
    "        attribute_stat_dict[attribute_key] = current_number + 1  "
   ]
  },
  {
   "cell_type": "code",
   "execution_count": 20,
   "metadata": {},
   "outputs": [
    {
     "data": {
      "text/plain": [
       "{'no-recurrence-events': 201, 'recurrence-events': 85}"
      ]
     },
     "execution_count": 20,
     "metadata": {},
     "output_type": "execute_result"
    }
   ],
   "source": [
    "class_stat_dict"
   ]
  },
  {
   "cell_type": "code",
   "execution_count": 21,
   "metadata": {},
   "outputs": [
    {
     "data": {
      "text/plain": [
       "{('no-recurrence-events', 'age', '30-39'): 21,\n",
       " ('no-recurrence-events', 'menopause', 'premeno'): 102,\n",
       " ('no-recurrence-events', 'tumor-size', '30-34'): 35,\n",
       " ('no-recurrence-events', 'inv-nodes', '0-2'): 167,\n",
       " ('no-recurrence-events', 'node-caps', 'no'): 171,\n",
       " ('no-recurrence-events', 'deg-malign', 3): 40,\n",
       " ('no-recurrence-events', 'breast', 'left'): 103,\n",
       " ('no-recurrence-events', 'breast-quad', 'left_low'): 75,\n",
       " ('no-recurrence-events', 'irradiat', 'no'): 164,\n",
       " ('no-recurrence-events', 'age', '40-49'): 63,\n",
       " ('no-recurrence-events', 'tumor-size', '20-24'): 34,\n",
       " ('no-recurrence-events', 'deg-malign', 2): 102,\n",
       " ('no-recurrence-events', 'breast', 'right'): 98,\n",
       " ('no-recurrence-events', 'breast-quad', 'right_up'): 20,\n",
       " ('no-recurrence-events', 'age', '60-69'): 40,\n",
       " ('no-recurrence-events', 'menopause', 'ge40'): 94,\n",
       " ('no-recurrence-events', 'tumor-size', '15-19'): 23,\n",
       " ('no-recurrence-events', 'breast-quad', 'left_up'): 71,\n",
       " ('no-recurrence-events', 'tumor-size', '0-4'): 7,\n",
       " ('no-recurrence-events', 'breast-quad', 'right_low'): 18,\n",
       " ('no-recurrence-events', 'age', '50-59'): 71,\n",
       " ('no-recurrence-events', 'tumor-size', '25-29'): 36,\n",
       " ('no-recurrence-events', 'deg-malign', 1): 59,\n",
       " ('no-recurrence-events', 'tumor-size', '50-54'): 5,\n",
       " ('no-recurrence-events', 'breast-quad', 'central'): 17,\n",
       " ('no-recurrence-events', 'menopause', 'lt40'): 5,\n",
       " ('no-recurrence-events', 'tumor-size', '10-14'): 27,\n",
       " ('no-recurrence-events', 'tumor-size', '40-44'): 16,\n",
       " ('no-recurrence-events', 'tumor-size', '35-39'): 12,\n",
       " ('no-recurrence-events', 'tumor-size', '5-9'): 4,\n",
       " ('no-recurrence-events', 'age', '70-79'): 5,\n",
       " ('no-recurrence-events', 'age', '20-29'): 1,\n",
       " ('no-recurrence-events', 'inv-nodes', '6-8'): 7,\n",
       " ('no-recurrence-events', 'node-caps', 'yes'): 25,\n",
       " ('no-recurrence-events', 'irradiat', 'yes'): 37,\n",
       " ('no-recurrence-events', 'inv-nodes', '9-11'): 4,\n",
       " ('no-recurrence-events', 'inv-nodes', '3-5'): 19,\n",
       " ('no-recurrence-events', 'tumor-size', '45-49'): 2,\n",
       " ('no-recurrence-events', 'node-caps', '?'): 5,\n",
       " ('no-recurrence-events', 'inv-nodes', '15-17'): 3,\n",
       " ('no-recurrence-events', 'inv-nodes', '12-14'): 1,\n",
       " ('recurrence-events', 'age', '50-59'): 25,\n",
       " ('recurrence-events', 'menopause', 'premeno'): 48,\n",
       " ('recurrence-events', 'tumor-size', '15-19'): 7,\n",
       " ('recurrence-events', 'inv-nodes', '0-2'): 46,\n",
       " ('recurrence-events', 'node-caps', 'no'): 51,\n",
       " ('recurrence-events', 'deg-malign', 2): 28,\n",
       " ('recurrence-events', 'breast', 'left'): 49,\n",
       " ('recurrence-events', 'breast-quad', 'left_low'): 35,\n",
       " ('recurrence-events', 'irradiat', 'no'): 54,\n",
       " ('recurrence-events', 'age', '40-49'): 27,\n",
       " ('recurrence-events', 'tumor-size', '40-44'): 6,\n",
       " ('recurrence-events', 'deg-malign', 1): 12,\n",
       " ('recurrence-events', 'menopause', 'ge40'): 35,\n",
       " ('recurrence-events', 'tumor-size', '35-39'): 7,\n",
       " ('recurrence-events', 'tumor-size', '25-29'): 18,\n",
       " ('recurrence-events', 'breast-quad', 'right_up'): 13,\n",
       " ('recurrence-events', 'age', '30-39'): 15,\n",
       " ('recurrence-events', 'tumor-size', '0-4'): 1,\n",
       " ('recurrence-events', 'breast', 'right'): 36,\n",
       " ('recurrence-events', 'breast-quad', 'central'): 4,\n",
       " ('recurrence-events', 'tumor-size', '30-34'): 25,\n",
       " ('recurrence-events', 'deg-malign', 3): 45,\n",
       " ('recurrence-events', 'breast-quad', '?'): 1,\n",
       " ('recurrence-events', 'breast-quad', 'left_up'): 26,\n",
       " ('recurrence-events', 'tumor-size', '20-24'): 16,\n",
       " ('recurrence-events', 'age', '60-69'): 17,\n",
       " ('recurrence-events', 'breast-quad', 'right_low'): 6,\n",
       " ('recurrence-events', 'irradiat', 'yes'): 31,\n",
       " ('recurrence-events', 'inv-nodes', '3-5'): 17,\n",
       " ('recurrence-events', 'node-caps', 'yes'): 31,\n",
       " ('recurrence-events', 'inv-nodes', '15-17'): 3,\n",
       " ('recurrence-events', 'tumor-size', '45-49'): 1,\n",
       " ('recurrence-events', 'tumor-size', '50-54'): 3,\n",
       " ('recurrence-events', 'inv-nodes', '9-11'): 6,\n",
       " ('recurrence-events', 'age', '70-79'): 1,\n",
       " ('recurrence-events', 'node-caps', '?'): 3,\n",
       " ('recurrence-events', 'inv-nodes', '6-8'): 10,\n",
       " ('recurrence-events', 'inv-nodes', '12-14'): 2,\n",
       " ('recurrence-events', 'menopause', 'lt40'): 2,\n",
       " ('recurrence-events', 'inv-nodes', '24-26'): 1,\n",
       " ('recurrence-events', 'tumor-size', '10-14'): 1}"
      ]
     },
     "execution_count": 21,
     "metadata": {},
     "output_type": "execute_result"
    }
   ],
   "source": [
    "attribute_stat_dict"
   ]
  },
  {
   "cell_type": "code",
   "execution_count": 22,
   "metadata": {},
   "outputs": [
    {
     "data": {
      "text/plain": [
       "{'20-29', '30-39', '40-49', '50-59', '60-69', '70-79'}"
      ]
     },
     "execution_count": 22,
     "metadata": {},
     "output_type": "execute_result"
    }
   ],
   "source": [
    "attribute_distinct_dict['age']\n"
   ]
  },
  {
   "cell_type": "markdown",
   "metadata": {},
   "source": [
    "# Prior Probability"
   ]
  },
  {
   "cell_type": "code",
   "execution_count": 23,
   "metadata": {},
   "outputs": [
    {
     "name": "stdout",
     "output_type": "stream",
     "text": [
      "P(class=no-recurrence-events) = 0.7028\n",
      "P(class=recurrence-events) = 0.2972\n"
     ]
    }
   ],
   "source": [
    "total_num = sum(class_stat_dict.values())\n",
    "for class_name in class_stat_dict:\n",
    "    probability = class_stat_dict[class_name] / total_num\n",
    "    print(\"P(class={}) = {:.4f}\".format(class_name, probability))"
   ]
  },
  {
   "cell_type": "markdown",
   "metadata": {},
   "source": [
    "# Conditional Probability"
   ]
  },
  {
   "cell_type": "code",
   "execution_count": 27,
   "metadata": {},
   "outputs": [
    {
     "ename": "IndexError",
     "evalue": "Replacement index 3 out of range for positional args tuple",
     "output_type": "error",
     "traceback": [
      "\u001b[1;31m---------------------------------------------------------------------------\u001b[0m",
      "\u001b[1;31mIndexError\u001b[0m                                Traceback (most recent call last)",
      "\u001b[1;32m~\\AppData\\Local\\Temp/ipykernel_26100/4159061010.py\u001b[0m in \u001b[0;36m<module>\u001b[1;34m\u001b[0m\n\u001b[0;32m      5\u001b[0m     \u001b[0mcount\u001b[0m \u001b[1;33m=\u001b[0m \u001b[0mattribute_stat_dict\u001b[0m\u001b[1;33m[\u001b[0m\u001b[0mattribute_key\u001b[0m\u001b[1;33m]\u001b[0m\u001b[1;33m\u001b[0m\u001b[1;33m\u001b[0m\u001b[0m\n\u001b[0;32m      6\u001b[0m     \u001b[0mprobability\u001b[0m \u001b[1;33m=\u001b[0m \u001b[0mcount\u001b[0m \u001b[1;33m/\u001b[0m \u001b[0mclass_stat_dict\u001b[0m\u001b[1;33m[\u001b[0m\u001b[0mclass_name\u001b[0m\u001b[1;33m]\u001b[0m\u001b[1;33m\u001b[0m\u001b[1;33m\u001b[0m\u001b[0m\n\u001b[1;32m----> 7\u001b[1;33m     \u001b[0mprint\u001b[0m\u001b[1;33m(\u001b[0m\u001b[1;34m\"P{}={} | class={})\\t= {:.4f}\"\u001b[0m\u001b[1;33m.\u001b[0m\u001b[0mformat\u001b[0m\u001b[1;33m(\u001b[0m\u001b[0mattribute_name\u001b[0m\u001b[1;33m,\u001b[0m\u001b[0mattribute_value\u001b[0m\u001b[1;33m,\u001b[0m\u001b[0mclass_name\u001b[0m\u001b[1;33m)\u001b[0m\u001b[1;33m)\u001b[0m\u001b[1;33m\u001b[0m\u001b[1;33m\u001b[0m\u001b[0m\n\u001b[0m",
      "\u001b[1;31mIndexError\u001b[0m: Replacement index 3 out of range for positional args tuple"
     ]
    }
   ],
   "source": [
    "# for attribute_key in attribute_stat_dict:\n",
    "#     class_name = attribute_key[0]\n",
    "#     attribute_name = attribute_key[1]\n",
    "#     attribute_value = attribute_key[2]\n",
    "#     count = attribute_stat_dict[attribute_key]\n",
    "#     probability = count / class_stat_dict[class_name]\n",
    "#     print(\"P{}={} | class={})\\t= {:.4f}\".format(attribute_name,attribute_value,class_name))"
   ]
  },
  {
   "cell_type": "code",
   "execution_count": 28,
   "metadata": {},
   "outputs": [
    {
     "name": "stdout",
     "output_type": "stream",
     "text": [
      "P(age=30-39 | class=no-recurrence-events)\t\t= 0.1045\n",
      "P(menopause=premeno | class=no-recurrence-events)\t\t= 0.5075\n",
      "P(tumor-size=30-34 | class=no-recurrence-events)\t\t= 0.1741\n",
      "P(inv-nodes=0-2 | class=no-recurrence-events)\t\t= 0.8308\n",
      "P(node-caps=no | class=no-recurrence-events)\t\t= 0.8507\n",
      "P(deg-malign=3 | class=no-recurrence-events)\t\t= 0.1990\n",
      "P(breast=left | class=no-recurrence-events)\t\t= 0.5124\n",
      "P(breast-quad=left_low | class=no-recurrence-events)\t\t= 0.3731\n",
      "P(irradiat=no | class=no-recurrence-events)\t\t= 0.8159\n",
      "P(age=40-49 | class=no-recurrence-events)\t\t= 0.3134\n",
      "P(tumor-size=20-24 | class=no-recurrence-events)\t\t= 0.1692\n",
      "P(deg-malign=2 | class=no-recurrence-events)\t\t= 0.5075\n",
      "P(breast=right | class=no-recurrence-events)\t\t= 0.4876\n",
      "P(breast-quad=right_up | class=no-recurrence-events)\t\t= 0.0995\n",
      "P(age=60-69 | class=no-recurrence-events)\t\t= 0.1990\n",
      "P(menopause=ge40 | class=no-recurrence-events)\t\t= 0.4677\n",
      "P(tumor-size=15-19 | class=no-recurrence-events)\t\t= 0.1144\n",
      "P(breast-quad=left_up | class=no-recurrence-events)\t\t= 0.3532\n",
      "P(tumor-size=0-4 | class=no-recurrence-events)\t\t= 0.0348\n",
      "P(breast-quad=right_low | class=no-recurrence-events)\t\t= 0.0896\n",
      "P(age=50-59 | class=no-recurrence-events)\t\t= 0.3532\n",
      "P(tumor-size=25-29 | class=no-recurrence-events)\t\t= 0.1791\n",
      "P(deg-malign=1 | class=no-recurrence-events)\t\t= 0.2935\n",
      "P(tumor-size=50-54 | class=no-recurrence-events)\t\t= 0.0249\n",
      "P(breast-quad=central | class=no-recurrence-events)\t\t= 0.0846\n",
      "P(menopause=lt40 | class=no-recurrence-events)\t\t= 0.0249\n",
      "P(tumor-size=10-14 | class=no-recurrence-events)\t\t= 0.1343\n",
      "P(tumor-size=40-44 | class=no-recurrence-events)\t\t= 0.0796\n",
      "P(tumor-size=35-39 | class=no-recurrence-events)\t\t= 0.0597\n",
      "P(tumor-size=5-9 | class=no-recurrence-events)\t\t= 0.0199\n",
      "P(age=70-79 | class=no-recurrence-events)\t\t= 0.0249\n",
      "P(age=20-29 | class=no-recurrence-events)\t\t= 0.0050\n",
      "P(inv-nodes=6-8 | class=no-recurrence-events)\t\t= 0.0348\n",
      "P(node-caps=yes | class=no-recurrence-events)\t\t= 0.1244\n",
      "P(irradiat=yes | class=no-recurrence-events)\t\t= 0.1841\n",
      "P(inv-nodes=9-11 | class=no-recurrence-events)\t\t= 0.0199\n",
      "P(inv-nodes=3-5 | class=no-recurrence-events)\t\t= 0.0945\n",
      "P(tumor-size=45-49 | class=no-recurrence-events)\t\t= 0.0100\n",
      "P(node-caps=? | class=no-recurrence-events)\t\t= 0.0249\n",
      "P(inv-nodes=15-17 | class=no-recurrence-events)\t\t= 0.0149\n",
      "P(inv-nodes=12-14 | class=no-recurrence-events)\t\t= 0.0050\n",
      "P(age=50-59 | class=recurrence-events)\t\t= 0.2941\n",
      "P(menopause=premeno | class=recurrence-events)\t\t= 0.5647\n",
      "P(tumor-size=15-19 | class=recurrence-events)\t\t= 0.0824\n",
      "P(inv-nodes=0-2 | class=recurrence-events)\t\t= 0.5412\n",
      "P(node-caps=no | class=recurrence-events)\t\t= 0.6000\n",
      "P(deg-malign=2 | class=recurrence-events)\t\t= 0.3294\n",
      "P(breast=left | class=recurrence-events)\t\t= 0.5765\n",
      "P(breast-quad=left_low | class=recurrence-events)\t\t= 0.4118\n",
      "P(irradiat=no | class=recurrence-events)\t\t= 0.6353\n",
      "P(age=40-49 | class=recurrence-events)\t\t= 0.3176\n",
      "P(tumor-size=40-44 | class=recurrence-events)\t\t= 0.0706\n",
      "P(deg-malign=1 | class=recurrence-events)\t\t= 0.1412\n",
      "P(menopause=ge40 | class=recurrence-events)\t\t= 0.4118\n",
      "P(tumor-size=35-39 | class=recurrence-events)\t\t= 0.0824\n",
      "P(tumor-size=25-29 | class=recurrence-events)\t\t= 0.2118\n",
      "P(breast-quad=right_up | class=recurrence-events)\t\t= 0.1529\n",
      "P(age=30-39 | class=recurrence-events)\t\t= 0.1765\n",
      "P(tumor-size=0-4 | class=recurrence-events)\t\t= 0.0118\n",
      "P(breast=right | class=recurrence-events)\t\t= 0.4235\n",
      "P(breast-quad=central | class=recurrence-events)\t\t= 0.0471\n",
      "P(tumor-size=30-34 | class=recurrence-events)\t\t= 0.2941\n",
      "P(deg-malign=3 | class=recurrence-events)\t\t= 0.5294\n",
      "P(breast-quad=? | class=recurrence-events)\t\t= 0.0118\n",
      "P(breast-quad=left_up | class=recurrence-events)\t\t= 0.3059\n",
      "P(tumor-size=20-24 | class=recurrence-events)\t\t= 0.1882\n",
      "P(age=60-69 | class=recurrence-events)\t\t= 0.2000\n",
      "P(breast-quad=right_low | class=recurrence-events)\t\t= 0.0706\n",
      "P(irradiat=yes | class=recurrence-events)\t\t= 0.3647\n",
      "P(inv-nodes=3-5 | class=recurrence-events)\t\t= 0.2000\n",
      "P(node-caps=yes | class=recurrence-events)\t\t= 0.3647\n",
      "P(inv-nodes=15-17 | class=recurrence-events)\t\t= 0.0353\n",
      "P(tumor-size=45-49 | class=recurrence-events)\t\t= 0.0118\n",
      "P(tumor-size=50-54 | class=recurrence-events)\t\t= 0.0353\n",
      "P(inv-nodes=9-11 | class=recurrence-events)\t\t= 0.0706\n",
      "P(age=70-79 | class=recurrence-events)\t\t= 0.0118\n",
      "P(node-caps=? | class=recurrence-events)\t\t= 0.0353\n",
      "P(inv-nodes=6-8 | class=recurrence-events)\t\t= 0.1176\n",
      "P(inv-nodes=12-14 | class=recurrence-events)\t\t= 0.0235\n",
      "P(menopause=lt40 | class=recurrence-events)\t\t= 0.0235\n",
      "P(inv-nodes=24-26 | class=recurrence-events)\t\t= 0.0118\n",
      "P(tumor-size=10-14 | class=recurrence-events)\t\t= 0.0118\n"
     ]
    }
   ],
   "source": [
    "for attribute_key in attribute_stat_dict:\n",
    "    class_name = attribute_key[0]\n",
    "    attribute_name = attribute_key[1]\n",
    "    attribute_value = attribute_key[2]\n",
    "    count = attribute_stat_dict[attribute_key]\n",
    "    probability = count / class_stat_dict[class_name]\n",
    "    print(\"P({}={} | class={})\\t\\t= {:.4f}\".format(\n",
    "        attribute_name, attribute_value, class_name, probability))"
   ]
  },
  {
   "cell_type": "code",
   "execution_count": 29,
   "metadata": {},
   "outputs": [],
   "source": [
    "class_names = [\"no-recurrence-events\", \"recurrence-events\"]\n",
    "alpha = 1 # Laplace correction\n",
    "total_num = sum(class_stat_dict.values())\n",
    "def predict(row):\n",
    "    probabilities = []\n",
    "    for class_name in class_names:\n",
    "        \n",
    "        prior_prob = class_stat_dict[class_name] / total_num\n",
    "        \n",
    "        likelihood = 1.0 # init\n",
    "        for attribute in col_names[1:]:\n",
    "            attribute_key = (class_name, attribute, row[attribute])\n",
    "            numerator = attribute_stat_dict.get(attribute_key, 0) + alpha\n",
    "            denominator = class_stat_dict[class_name] + len(attribute_distinct_dict[attribute])\n",
    "            likelihood = likelihood * numerator / denominator\n",
    "            \n",
    "        probabilities.append(prior_prob*likelihood)\n",
    "        \n",
    "    return class_names[np.argmax(probabilities)]"
   ]
  },
  {
   "cell_type": "code",
   "execution_count": 30,
   "metadata": {},
   "outputs": [],
   "source": [
    "data_df[\"prediction_nb_manual\"] = data_df.apply(predict, axis=1)"
   ]
  },
  {
   "cell_type": "code",
   "execution_count": 31,
   "metadata": {},
   "outputs": [
    {
     "data": {
      "text/html": [
       "<div>\n",
       "<style scoped>\n",
       "    .dataframe tbody tr th:only-of-type {\n",
       "        vertical-align: middle;\n",
       "    }\n",
       "\n",
       "    .dataframe tbody tr th {\n",
       "        vertical-align: top;\n",
       "    }\n",
       "\n",
       "    .dataframe thead th {\n",
       "        text-align: right;\n",
       "    }\n",
       "</style>\n",
       "<table border=\"1\" class=\"dataframe\">\n",
       "  <thead>\n",
       "    <tr style=\"text-align: right;\">\n",
       "      <th></th>\n",
       "      <th>class</th>\n",
       "      <th>age</th>\n",
       "      <th>menopause</th>\n",
       "      <th>tumor-size</th>\n",
       "      <th>inv-nodes</th>\n",
       "      <th>node-caps</th>\n",
       "      <th>deg-malign</th>\n",
       "      <th>breast</th>\n",
       "      <th>breast-quad</th>\n",
       "      <th>irradiat</th>\n",
       "      <th>prediction_nb_manual</th>\n",
       "    </tr>\n",
       "  </thead>\n",
       "  <tbody>\n",
       "    <tr>\n",
       "      <th>0</th>\n",
       "      <td>no-recurrence-events</td>\n",
       "      <td>30-39</td>\n",
       "      <td>premeno</td>\n",
       "      <td>30-34</td>\n",
       "      <td>0-2</td>\n",
       "      <td>no</td>\n",
       "      <td>3</td>\n",
       "      <td>left</td>\n",
       "      <td>left_low</td>\n",
       "      <td>no</td>\n",
       "      <td>recurrence-events</td>\n",
       "    </tr>\n",
       "    <tr>\n",
       "      <th>1</th>\n",
       "      <td>no-recurrence-events</td>\n",
       "      <td>40-49</td>\n",
       "      <td>premeno</td>\n",
       "      <td>20-24</td>\n",
       "      <td>0-2</td>\n",
       "      <td>no</td>\n",
       "      <td>2</td>\n",
       "      <td>right</td>\n",
       "      <td>right_up</td>\n",
       "      <td>no</td>\n",
       "      <td>no-recurrence-events</td>\n",
       "    </tr>\n",
       "    <tr>\n",
       "      <th>2</th>\n",
       "      <td>no-recurrence-events</td>\n",
       "      <td>40-49</td>\n",
       "      <td>premeno</td>\n",
       "      <td>20-24</td>\n",
       "      <td>0-2</td>\n",
       "      <td>no</td>\n",
       "      <td>2</td>\n",
       "      <td>left</td>\n",
       "      <td>left_low</td>\n",
       "      <td>no</td>\n",
       "      <td>no-recurrence-events</td>\n",
       "    </tr>\n",
       "    <tr>\n",
       "      <th>3</th>\n",
       "      <td>no-recurrence-events</td>\n",
       "      <td>60-69</td>\n",
       "      <td>ge40</td>\n",
       "      <td>15-19</td>\n",
       "      <td>0-2</td>\n",
       "      <td>no</td>\n",
       "      <td>2</td>\n",
       "      <td>right</td>\n",
       "      <td>left_up</td>\n",
       "      <td>no</td>\n",
       "      <td>no-recurrence-events</td>\n",
       "    </tr>\n",
       "    <tr>\n",
       "      <th>4</th>\n",
       "      <td>no-recurrence-events</td>\n",
       "      <td>40-49</td>\n",
       "      <td>premeno</td>\n",
       "      <td>0-4</td>\n",
       "      <td>0-2</td>\n",
       "      <td>no</td>\n",
       "      <td>2</td>\n",
       "      <td>right</td>\n",
       "      <td>right_low</td>\n",
       "      <td>no</td>\n",
       "      <td>no-recurrence-events</td>\n",
       "    </tr>\n",
       "    <tr>\n",
       "      <th>5</th>\n",
       "      <td>no-recurrence-events</td>\n",
       "      <td>60-69</td>\n",
       "      <td>ge40</td>\n",
       "      <td>15-19</td>\n",
       "      <td>0-2</td>\n",
       "      <td>no</td>\n",
       "      <td>2</td>\n",
       "      <td>left</td>\n",
       "      <td>left_low</td>\n",
       "      <td>no</td>\n",
       "      <td>no-recurrence-events</td>\n",
       "    </tr>\n",
       "    <tr>\n",
       "      <th>6</th>\n",
       "      <td>no-recurrence-events</td>\n",
       "      <td>50-59</td>\n",
       "      <td>premeno</td>\n",
       "      <td>25-29</td>\n",
       "      <td>0-2</td>\n",
       "      <td>no</td>\n",
       "      <td>2</td>\n",
       "      <td>left</td>\n",
       "      <td>left_low</td>\n",
       "      <td>no</td>\n",
       "      <td>no-recurrence-events</td>\n",
       "    </tr>\n",
       "    <tr>\n",
       "      <th>7</th>\n",
       "      <td>no-recurrence-events</td>\n",
       "      <td>60-69</td>\n",
       "      <td>ge40</td>\n",
       "      <td>20-24</td>\n",
       "      <td>0-2</td>\n",
       "      <td>no</td>\n",
       "      <td>1</td>\n",
       "      <td>left</td>\n",
       "      <td>left_low</td>\n",
       "      <td>no</td>\n",
       "      <td>no-recurrence-events</td>\n",
       "    </tr>\n",
       "    <tr>\n",
       "      <th>8</th>\n",
       "      <td>no-recurrence-events</td>\n",
       "      <td>40-49</td>\n",
       "      <td>premeno</td>\n",
       "      <td>50-54</td>\n",
       "      <td>0-2</td>\n",
       "      <td>no</td>\n",
       "      <td>2</td>\n",
       "      <td>left</td>\n",
       "      <td>left_low</td>\n",
       "      <td>no</td>\n",
       "      <td>no-recurrence-events</td>\n",
       "    </tr>\n",
       "    <tr>\n",
       "      <th>9</th>\n",
       "      <td>no-recurrence-events</td>\n",
       "      <td>40-49</td>\n",
       "      <td>premeno</td>\n",
       "      <td>20-24</td>\n",
       "      <td>0-2</td>\n",
       "      <td>no</td>\n",
       "      <td>2</td>\n",
       "      <td>right</td>\n",
       "      <td>left_up</td>\n",
       "      <td>no</td>\n",
       "      <td>no-recurrence-events</td>\n",
       "    </tr>\n",
       "  </tbody>\n",
       "</table>\n",
       "</div>"
      ],
      "text/plain": [
       "                  class    age menopause tumor-size inv-nodes node-caps  deg-malign breast breast-quad irradiat  prediction_nb_manual\n",
       "0  no-recurrence-events  30-39  premeno   30-34      0-2       no        3           left   left_low    no       recurrence-events   \n",
       "1  no-recurrence-events  40-49  premeno   20-24      0-2       no        2           right  right_up    no       no-recurrence-events\n",
       "2  no-recurrence-events  40-49  premeno   20-24      0-2       no        2           left   left_low    no       no-recurrence-events\n",
       "3  no-recurrence-events  60-69  ge40      15-19      0-2       no        2           right  left_up     no       no-recurrence-events\n",
       "4  no-recurrence-events  40-49  premeno   0-4        0-2       no        2           right  right_low   no       no-recurrence-events\n",
       "5  no-recurrence-events  60-69  ge40      15-19      0-2       no        2           left   left_low    no       no-recurrence-events\n",
       "6  no-recurrence-events  50-59  premeno   25-29      0-2       no        2           left   left_low    no       no-recurrence-events\n",
       "7  no-recurrence-events  60-69  ge40      20-24      0-2       no        1           left   left_low    no       no-recurrence-events\n",
       "8  no-recurrence-events  40-49  premeno   50-54      0-2       no        2           left   left_low    no       no-recurrence-events\n",
       "9  no-recurrence-events  40-49  premeno   20-24      0-2       no        2           right  left_up     no       no-recurrence-events"
      ]
     },
     "execution_count": 31,
     "metadata": {},
     "output_type": "execute_result"
    }
   ],
   "source": [
    "data_df.head(10)"
   ]
  },
  {
   "cell_type": "code",
   "execution_count": 32,
   "metadata": {},
   "outputs": [
    {
     "name": "stdout",
     "output_type": "stream",
     "text": [
      "acc=75.52%\n"
     ]
    }
   ],
   "source": [
    "# accuracy\n",
    "acc = sum(data_df[\"class\"] == data_df[\"prediction_nb_manual\"]) / len(data_df)\n",
    "print(\"acc={:.2f}%\".format(acc*100))"
   ]
  },
  {
   "cell_type": "markdown",
   "metadata": {},
   "source": [
    "## Build naive Bayes classifier using scikit-learn"
   ]
  },
  {
   "cell_type": "code",
   "execution_count": 33,
   "metadata": {},
   "outputs": [
    {
     "data": {
      "text/plain": [
       "OrdinalEncoder(dtype=<class 'int'>)"
      ]
     },
     "execution_count": 33,
     "metadata": {},
     "output_type": "execute_result"
    }
   ],
   "source": [
    "from sklearn.preprocessing import OrdinalEncoder\n",
    "enc = OrdinalEncoder(dtype=int)\n",
    "enc.fit(data_df[col_names])"
   ]
  },
  {
   "cell_type": "markdown",
   "metadata": {},
   "source": [
    "encode dataframe to numpy array, an input format of naive bayes in sklearn"
   ]
  },
  {
   "cell_type": "code",
   "execution_count": 34,
   "metadata": {},
   "outputs": [],
   "source": [
    "data_np = enc.transform(data_df[col_names])"
   ]
  },
  {
   "cell_type": "code",
   "execution_count": 35,
   "metadata": {},
   "outputs": [
    {
     "data": {
      "text/plain": [
       "array([[0, 1, 2, ..., 0, 2, 0],\n",
       "       [0, 2, 2, ..., 1, 5, 0],\n",
       "       [0, 2, 2, ..., 0, 2, 0],\n",
       "       ...,\n",
       "       [1, 4, 0, ..., 1, 3, 0],\n",
       "       [1, 2, 0, ..., 0, 2, 0],\n",
       "       [1, 3, 0, ..., 0, 2, 0]])"
      ]
     },
     "execution_count": 35,
     "metadata": {},
     "output_type": "execute_result"
    }
   ],
   "source": [
    "data_np"
   ]
  },
  {
   "cell_type": "code",
   "execution_count": 36,
   "metadata": {},
   "outputs": [
    {
     "ename": "NameError",
     "evalue": "name 'f' is not defined",
     "output_type": "error",
     "traceback": [
      "\u001b[1;31m---------------------------------------------------------------------------\u001b[0m",
      "\u001b[1;31mNameError\u001b[0m                                 Traceback (most recent call last)",
      "\u001b[1;32m~\\AppData\\Local\\Temp/ipykernel_26100/4058002314.py\u001b[0m in \u001b[0;36m<module>\u001b[1;34m\u001b[0m\n\u001b[1;32m----> 1\u001b[1;33m \u001b[0mf\u001b[0m\u001b[1;33m\u001b[0m\u001b[1;33m\u001b[0m\u001b[0m\n\u001b[0m",
      "\u001b[1;31mNameError\u001b[0m: name 'f' is not defined"
     ]
    }
   ],
   "source": []
  },
  {
   "cell_type": "code",
   "execution_count": 37,
   "metadata": {},
   "outputs": [],
   "source": [
    "y = data_np[:,0] \n",
    "X = data_np[:,1:]"
   ]
  },
  {
   "cell_type": "code",
   "execution_count": 41,
   "metadata": {},
   "outputs": [
    {
     "data": {
      "text/plain": [
       "array([[1, 2, 5, ..., 0, 2, 0],\n",
       "       [2, 2, 3, ..., 1, 5, 0],\n",
       "       [2, 2, 3, ..., 0, 2, 0],\n",
       "       ...,\n",
       "       [4, 0, 3, ..., 1, 3, 0],\n",
       "       [2, 0, 5, ..., 0, 2, 0],\n",
       "       [3, 0, 5, ..., 0, 2, 0]])"
      ]
     },
     "execution_count": 41,
     "metadata": {},
     "output_type": "execute_result"
    }
   ],
   "source": [
    "X"
   ]
  },
  {
   "cell_type": "markdown",
   "metadata": {},
   "source": [
    "train the naive bayes"
   ]
  },
  {
   "cell_type": "code",
   "execution_count": null,
   "metadata": {},
   "outputs": [
    {
     "data": {
      "text/plain": [
       "CategoricalNB(alpha=1)"
      ]
     },
     "execution_count": 107,
     "metadata": {},
     "output_type": "execute_result"
    }
   ],
   "source": [
    "from sklearn.naive_bayes import CategoricalNB\n",
    "clf = CategoricalNB(alpha=1) # laplace correction\n",
    "clf.fit(X, y)"
   ]
  },
  {
   "cell_type": "markdown",
   "metadata": {},
   "source": [
    "make prediction"
   ]
  },
  {
   "cell_type": "code",
   "execution_count": null,
   "metadata": {},
   "outputs": [],
   "source": [
    "y_pred = clf.predict(X)"
   ]
  },
  {
   "cell_type": "code",
   "execution_count": null,
   "metadata": {},
   "outputs": [
    {
     "name": "stdout",
     "output_type": "stream",
     "text": [
      "acc=75.52%\n"
     ]
    }
   ],
   "source": [
    "acc = sum(y_pred == y) / len(y)\n",
    "print(\"acc={:.2f}%\".format(acc*100))"
   ]
  },
  {
   "cell_type": "code",
   "execution_count": null,
   "metadata": {},
   "outputs": [],
   "source": [
    "# transform back to label name\n",
    "\n",
    "class_names = np.array([\"no-recurrence-events\", \"recurrence-events\"])"
   ]
  },
  {
   "cell_type": "code",
   "execution_count": null,
   "metadata": {},
   "outputs": [],
   "source": [
    "data_df[\"prediction_nb_sklearn\"] = class_names[y_pred]"
   ]
  },
  {
   "cell_type": "code",
   "execution_count": null,
   "metadata": {},
   "outputs": [
    {
     "data": {
      "text/html": [
       "<div>\n",
       "<style scoped>\n",
       "    .dataframe tbody tr th:only-of-type {\n",
       "        vertical-align: middle;\n",
       "    }\n",
       "\n",
       "    .dataframe tbody tr th {\n",
       "        vertical-align: top;\n",
       "    }\n",
       "\n",
       "    .dataframe thead th {\n",
       "        text-align: right;\n",
       "    }\n",
       "</style>\n",
       "<table border=\"1\" class=\"dataframe\">\n",
       "  <thead>\n",
       "    <tr style=\"text-align: right;\">\n",
       "      <th></th>\n",
       "      <th>class</th>\n",
       "      <th>prediction_nb_manual</th>\n",
       "      <th>prediction_nb_sklearn</th>\n",
       "    </tr>\n",
       "  </thead>\n",
       "  <tbody>\n",
       "    <tr>\n",
       "      <th>0</th>\n",
       "      <td>no-recurrence-events</td>\n",
       "      <td>recurrence-events</td>\n",
       "      <td>recurrence-events</td>\n",
       "    </tr>\n",
       "    <tr>\n",
       "      <th>1</th>\n",
       "      <td>no-recurrence-events</td>\n",
       "      <td>no-recurrence-events</td>\n",
       "      <td>no-recurrence-events</td>\n",
       "    </tr>\n",
       "    <tr>\n",
       "      <th>2</th>\n",
       "      <td>no-recurrence-events</td>\n",
       "      <td>no-recurrence-events</td>\n",
       "      <td>no-recurrence-events</td>\n",
       "    </tr>\n",
       "    <tr>\n",
       "      <th>3</th>\n",
       "      <td>no-recurrence-events</td>\n",
       "      <td>no-recurrence-events</td>\n",
       "      <td>no-recurrence-events</td>\n",
       "    </tr>\n",
       "    <tr>\n",
       "      <th>4</th>\n",
       "      <td>no-recurrence-events</td>\n",
       "      <td>no-recurrence-events</td>\n",
       "      <td>no-recurrence-events</td>\n",
       "    </tr>\n",
       "    <tr>\n",
       "      <th>5</th>\n",
       "      <td>no-recurrence-events</td>\n",
       "      <td>no-recurrence-events</td>\n",
       "      <td>no-recurrence-events</td>\n",
       "    </tr>\n",
       "    <tr>\n",
       "      <th>6</th>\n",
       "      <td>no-recurrence-events</td>\n",
       "      <td>no-recurrence-events</td>\n",
       "      <td>no-recurrence-events</td>\n",
       "    </tr>\n",
       "    <tr>\n",
       "      <th>7</th>\n",
       "      <td>no-recurrence-events</td>\n",
       "      <td>no-recurrence-events</td>\n",
       "      <td>no-recurrence-events</td>\n",
       "    </tr>\n",
       "    <tr>\n",
       "      <th>8</th>\n",
       "      <td>no-recurrence-events</td>\n",
       "      <td>no-recurrence-events</td>\n",
       "      <td>no-recurrence-events</td>\n",
       "    </tr>\n",
       "    <tr>\n",
       "      <th>9</th>\n",
       "      <td>no-recurrence-events</td>\n",
       "      <td>no-recurrence-events</td>\n",
       "      <td>no-recurrence-events</td>\n",
       "    </tr>\n",
       "  </tbody>\n",
       "</table>\n",
       "</div>"
      ],
      "text/plain": [
       "                  class  prediction_nb_manual prediction_nb_sklearn\n",
       "0  no-recurrence-events  recurrence-events     recurrence-events   \n",
       "1  no-recurrence-events  no-recurrence-events  no-recurrence-events\n",
       "2  no-recurrence-events  no-recurrence-events  no-recurrence-events\n",
       "3  no-recurrence-events  no-recurrence-events  no-recurrence-events\n",
       "4  no-recurrence-events  no-recurrence-events  no-recurrence-events\n",
       "5  no-recurrence-events  no-recurrence-events  no-recurrence-events\n",
       "6  no-recurrence-events  no-recurrence-events  no-recurrence-events\n",
       "7  no-recurrence-events  no-recurrence-events  no-recurrence-events\n",
       "8  no-recurrence-events  no-recurrence-events  no-recurrence-events\n",
       "9  no-recurrence-events  no-recurrence-events  no-recurrence-events"
      ]
     },
     "execution_count": 117,
     "metadata": {},
     "output_type": "execute_result"
    }
   ],
   "source": [
    "data_df[[\"class\", \"prediction_nb_manual\", \"prediction_nb_sklearn\"]].head(10)"
   ]
  },
  {
   "cell_type": "markdown",
   "metadata": {},
   "source": [
    "## train test split"
   ]
  },
  {
   "cell_type": "code",
   "execution_count": null,
   "metadata": {},
   "outputs": [],
   "source": [
    "y = data_np[:,0]\n",
    "X = data_np[:,1:]"
   ]
  },
  {
   "cell_type": "code",
   "execution_count": null,
   "metadata": {},
   "outputs": [],
   "source": [
    "from sklearn.model_selection import train_test_split"
   ]
  },
  {
   "cell_type": "code",
   "execution_count": null,
   "metadata": {},
   "outputs": [],
   "source": [
    "X_train, X_test, y_train, y_test = train_test_split(X, y, test_size=0.3, random_state=1)"
   ]
  },
  {
   "cell_type": "code",
   "execution_count": null,
   "metadata": {},
   "outputs": [
    {
     "data": {
      "text/plain": [
       "CategoricalNB(alpha=1)"
      ]
     },
     "execution_count": 121,
     "metadata": {},
     "output_type": "execute_result"
    }
   ],
   "source": [
    "from sklearn.naive_bayes import CategoricalNB\n",
    "clf = CategoricalNB(alpha=1)\n",
    "clf.fit(X_train, y_train)"
   ]
  },
  {
   "cell_type": "code",
   "execution_count": null,
   "metadata": {},
   "outputs": [],
   "source": [
    "y_train_pred = clf.predict(X_train)\n",
    "y_test_pred = clf.predict(X_test)"
   ]
  },
  {
   "cell_type": "code",
   "execution_count": null,
   "metadata": {},
   "outputs": [],
   "source": [
    "train_acc = sum(y_train_pred == y_train) / len(y_train)\n",
    "test_acc = sum(y_test_pred == y_test) / len(y_test)"
   ]
  },
  {
   "cell_type": "code",
   "execution_count": null,
   "metadata": {},
   "outputs": [
    {
     "name": "stdout",
     "output_type": "stream",
     "text": [
      "train acc: 76.00%; test acc: 70.93%\n"
     ]
    }
   ],
   "source": [
    "print(\"train acc: {:.2f}%; test acc: {:.2f}%\".format(train_acc*100, test_acc*100))"
   ]
  },
  {
   "cell_type": "markdown",
   "metadata": {},
   "source": [
    "## try no Laplace correction"
   ]
  },
  {
   "cell_type": "code",
   "execution_count": null,
   "metadata": {},
   "outputs": [
    {
     "data": {
      "text/plain": [
       "CategoricalNB(alpha=0)"
      ]
     },
     "execution_count": 125,
     "metadata": {},
     "output_type": "execute_result"
    }
   ],
   "source": [
    "from sklearn.naive_bayes import CategoricalNB\n",
    "clf = CategoricalNB(alpha=0) # no Laplace correction\n",
    "clf.fit(X_train, y_train)"
   ]
  },
  {
   "cell_type": "code",
   "execution_count": null,
   "metadata": {},
   "outputs": [
    {
     "name": "stdout",
     "output_type": "stream",
     "text": [
      "train acc: 77.50%; test acc: 68.60%\n"
     ]
    }
   ],
   "source": [
    "y_train_pred = clf.predict(X_train)\n",
    "y_test_pred = clf.predict(X_test)\n",
    "train_acc = sum(y_train_pred == y_train) / len(y_train)\n",
    "test_acc = sum(y_test_pred == y_test) / len(y_test)\n",
    "print(\"train acc: {:.2f}%; test acc: {:.2f}%\".format(train_acc*100, test_acc*100))"
   ]
  },
  {
   "cell_type": "code",
   "execution_count": null,
   "metadata": {},
   "outputs": [],
   "source": []
  }
 ],
 "metadata": {
  "interpreter": {
   "hash": "18371ec54b26b5592670d9a578e80da52b3b6d0ef5bf2bd528032fbe2540b3db"
  },
  "kernelspec": {
   "display_name": "Python 3.9.6 64-bit ('comp4331': conda)",
   "name": "python3"
  },
  "language_info": {
   "codemirror_mode": {
    "name": "ipython",
    "version": 3
   },
   "file_extension": ".py",
   "mimetype": "text/x-python",
   "name": "python",
   "nbconvert_exporter": "python",
   "pygments_lexer": "ipython3",
   "version": "3.9.6"
  },
  "orig_nbformat": 4
 },
 "nbformat": 4,
 "nbformat_minor": 2
}
