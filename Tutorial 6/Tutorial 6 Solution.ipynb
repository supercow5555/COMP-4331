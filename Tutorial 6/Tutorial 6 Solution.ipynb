{
  "cells": [
    {
      "cell_type": "markdown",
      "metadata": {
        "id": "5cSRSdLZtGsq"
      },
      "source": [
        "# **Welcome to the tutorial 6**"
      ]
    },
    {
      "cell_type": "markdown",
      "metadata": {
        "id": "mn8C3DkWfEwo"
      },
      "source": [
        "## Data Preparation\n",
        "* Numpy array\n",
        "* Pandas Dataframe\n",
        "* Scipy for Statistics\n",
        "*Sklearn for Machine Learning"
      ]
    },
    {
      "cell_type": "code",
      "execution_count": 1,
      "metadata": {
        "id": "EjaRI2fEfDnR"
      },
      "outputs": [],
      "source": [
        "import numpy as np\n",
        "import pandas as pd\n",
        "import scipy\n",
        "import sklearn"
      ]
    },
    {
      "cell_type": "markdown",
      "metadata": {
        "id": "oiHKsNKifPWp"
      },
      "source": [
        "## Get the Data"
      ]
    },
    {
      "cell_type": "code",
      "execution_count": null,
      "metadata": {
        "colab": {
          "base_uri": "https://localhost:8080/"
        },
        "id": "MZLwwCtBfMOB",
        "outputId": "b2c607b7-8b2a-4921-8214-140af494afac"
      },
      "outputs": [
        {
          "name": "stdout",
          "output_type": "stream",
          "text": [
            "--2021-10-28 11:17:14--  https://archive.ics.uci.edu/ml/machine-learning-databases/iris/iris.data\n",
            "Resolving archive.ics.uci.edu (archive.ics.uci.edu)... 128.195.10.252\n",
            "Connecting to archive.ics.uci.edu (archive.ics.uci.edu)|128.195.10.252|:443... connected.\n",
            "HTTP request sent, awaiting response... 200 OK\n",
            "Length: 4551 (4.4K) [application/x-httpd-php]\n",
            "Saving to: ‘iris.data’\n",
            "\n",
            "iris.data           100%[===================>]   4.44K  --.-KB/s    in 0s      \n",
            "\n",
            "2021-10-28 11:17:15 (125 MB/s) - ‘iris.data’ saved [4551/4551]\n",
            "\n"
          ]
        }
      ],
      "source": [
        "#download the data\n",
        "!wget \"https://archive.ics.uci.edu/ml/machine-learning-databases/iris/iris.data\""
      ]
    },
    {
      "cell_type": "markdown",
      "metadata": {
        "id": "HTYMzfsFfS__"
      },
      "source": [
        "## Preprocessing"
      ]
    },
    {
      "cell_type": "code",
      "execution_count": 4,
      "metadata": {
        "colab": {
          "base_uri": "https://localhost:8080/"
        },
        "id": "ipdyV4I8fTyx",
        "outputId": "fd635d65-2aeb-4186-e5da-690149e30f8a"
      },
      "outputs": [
        {
          "name": "stdout",
          "output_type": "stream",
          "text": [
            "['Iris-setosa', 'Iris-versicolor', 'Iris-virginica']\n"
          ]
        },
        {
          "name": "stderr",
          "output_type": "stream",
          "text": [
            "C:\\Users\\kkaus\\anaconda3\\envs\\comp4331\\lib\\site-packages\\sklearn\\preprocessing\\_label.py:115: DataConversionWarning: A column-vector y was passed when a 1d array was expected. Please change the shape of y to (n_samples, ), for example using ravel().\n",
            "  y = column_or_1d(y, warn=True)\n"
          ]
        }
      ],
      "source": [
        "from sklearn.preprocessing import MinMaxScaler, LabelEncoder\n",
        "features = ['sepal length', 'sepal width', 'petal length', 'petal width']\n",
        "df = pd.read_csv('iris.data', names=['sepal length','sepal width','petal length','petal width','target'])\n",
        "# Separating out the features\n",
        "x_raw = df.loc[:, features].values\n",
        "# Separating out the target\n",
        "y = df.loc[:,['target']].values\n",
        "# Standardizing the features\n",
        "x = MinMaxScaler().fit_transform(x_raw)\n",
        "\n",
        "\n",
        "le = LabelEncoder()\n",
        "y = le.fit_transform(y)\n",
        "label_list = list(le.classes_)\n",
        "print(label_list)"
      ]
    },
    {
      "cell_type": "markdown",
      "metadata": {
        "id": "zoBTAvWhzhWJ"
      },
      "source": [
        "Split training and testing"
      ]
    },
    {
      "cell_type": "code",
      "execution_count": 5,
      "metadata": {
        "id": "sCw0ERkNiE0N"
      },
      "outputs": [],
      "source": [
        "from sklearn.model_selection import train_test_split\n",
        "X_train, X_test, y_train, y_test = train_test_split(x, y, test_size=0.33, random_state=0)"
      ]
    },
    {
      "cell_type": "markdown",
      "metadata": {
        "id": "7rDcquHuzluU"
      },
      "source": [
        "Warm up: an example for KNeighborsClassifier"
      ]
    },
    {
      "cell_type": "code",
      "execution_count": 6,
      "metadata": {
        "colab": {
          "base_uri": "https://localhost:8080/"
        },
        "id": "x_8wcdUocaTh",
        "outputId": "33ef416b-1fd7-489b-a646-a3130676da47"
      },
      "outputs": [
        {
          "name": "stdout",
          "output_type": "stream",
          "text": [
            "accuracy for testing 0.96\n"
          ]
        }
      ],
      "source": [
        "from sklearn.neighbors import KNeighborsClassifier\n",
        "\n",
        "\n",
        "neigh = KNeighborsClassifier(n_neighbors=5)\n",
        "neigh.fit(X_train,y_train)\n",
        "\n",
        "print('accuracy for testing',neigh.score(X_test,y_test))\n",
        "\n"
      ]
    },
    {
      "cell_type": "markdown",
      "metadata": {
        "id": "xrvtBCbI3vkG"
      },
      "source": [
        " take into account its distance from its neighbors"
      ]
    },
    {
      "cell_type": "code",
      "execution_count": 7,
      "metadata": {
        "colab": {
          "base_uri": "https://localhost:8080/"
        },
        "id": "j8_7oOhW3uxP",
        "outputId": "b9554ec5-9eeb-4f29-8909-9f400eb9bb1c"
      },
      "outputs": [
        {
          "name": "stdout",
          "output_type": "stream",
          "text": [
            "accuracy for testing 0.96\n"
          ]
        }
      ],
      "source": [
        "from sklearn.neighbors import KNeighborsClassifier\n",
        "\n",
        "\n",
        "neigh = KNeighborsClassifier(n_neighbors=5,weights='distance')\n",
        "neigh.fit(X_train,y_train)\n",
        "\n",
        "print('accuracy for testing',neigh.score(X_test,y_test))"
      ]
    },
    {
      "cell_type": "markdown",
      "metadata": {
        "id": "x9eMFD-szw3e"
      },
      "source": [
        "How to tune k by cross-validation "
      ]
    },
    {
      "cell_type": "code",
      "execution_count": null,
      "metadata": {
        "colab": {
          "base_uri": "https://localhost:8080/"
        },
        "id": "XhfS5Z_Zi8r0",
        "outputId": "0a3663e3-37a3-46d3-a22a-e42b6a1063a6"
      },
      "outputs": [
        {
          "name": "stdout",
          "output_type": "stream",
          "text": [
            "[0.9  1.   1.   0.9  0.95]\n",
            "The best k is 12\n",
            "The best score is 0.9700000000000001\n"
          ]
        }
      ],
      "source": [
        "from sklearn.model_selection import cross_val_score\n",
        "\n",
        "neigh = KNeighborsClassifier()\n",
        "scores = cross_val_score(neigh, X_train, y_train, cv=5)\n",
        "print(scores)\n",
        "\n",
        "\n",
        "\n",
        "from sklearn.neighbors import KNeighborsClassifier\n",
        "from sklearn.metrics import accuracy_score\n",
        "best_k = 1\n",
        "best_score = 0\n",
        "for k in range(2,50):\n",
        "   neigh = KNeighborsClassifier(n_neighbors=k)\n",
        "   score = np.mean(cross_val_score(neigh, X_train, y_train, cv=10))\n",
        "   if score > best_score:\n",
        "      best_score = score\n",
        "      best_k = k\n",
        "\n",
        "print('The best k is', best_k)\n",
        "print('The best score is', best_score)"
      ]
    },
    {
      "cell_type": "code",
      "execution_count": null,
      "metadata": {
        "id": "4Nqpj1xK17JS"
      },
      "outputs": [],
      "source": []
    },
    {
      "cell_type": "markdown",
      "metadata": {
        "id": "2XVbLiTs1GWM"
      },
      "source": [
        "Robustness under different n_neighbors"
      ]
    },
    {
      "cell_type": "code",
      "execution_count": null,
      "metadata": {
        "colab": {
          "base_uri": "https://localhost:8080/"
        },
        "id": "6Ly6DD5Yt5bI",
        "outputId": "d6b1e8ce-2709-49f9-c540-d9bbc0dc0936"
      },
      "outputs": [
        {
          "name": "stdout",
          "output_type": "stream",
          "text": [
            "accuracy for testing with small n_neighbors in normal dataset 0.94\n",
            "accuracy for testing with medium n_neighbors in normal dataset 0.96\n",
            "accuracy for testing with large n_neighbors in normal dataset 0.9\n",
            "accuracy for testing with small numbers of n_neighbors in noise dataset 0.92\n",
            "accuracy for testing with medium numbers of n_neighbors in noise dataset 0.96\n",
            "accuracy for testing with large numbers of n_neighbors in noise dataset 0.9\n"
          ]
        }
      ],
      "source": [
        "name_list = ['small','medium','large']\n",
        "k_size = [2,6,60]\n",
        "\n",
        "\n",
        "for ind,name in enumerate(name_list):\n",
        "\n",
        " neigh = KNeighborsClassifier(n_neighbors=k_size[ind])\n",
        " neigh.fit(X_train,y_train)\n",
        "\n",
        " print('accuracy for testing '+'with ' +name +' n_neighbors in normal dataset', \n",
        "       neigh.score(X_test,y_test))\n",
        "\n",
        "\n",
        "\n",
        "\n",
        "noise_exp_nums = 23\n",
        "\n",
        "noise_x = np.random.uniform(low=0.0, high=1.0, size=[noise_exp_nums,X_train.shape[1]])\n",
        "noise_x = np.concatenate([X_train,noise_x],axis = 0)\n",
        "noise_y = np.random.randint(low=0, high=2, size=[noise_exp_nums])\n",
        "noise_y = np.concatenate([y_train,noise_y],axis = 0)\n",
        "\n",
        "\n",
        "for ind,name in enumerate(name_list):\n",
        "\n",
        " neigh = KNeighborsClassifier(n_neighbors=k_size[ind])\n",
        " neigh.fit(noise_x,noise_y)\n",
        "\n",
        " print('accuracy for testing '+'with ' +name +' numbers of n_neighbors in noise dataset', \n",
        "       neigh.score(X_test,y_test))\n",
        "\n"
      ]
    },
    {
      "cell_type": "code",
      "execution_count": null,
      "metadata": {
        "id": "7eko_acZ3p2X"
      },
      "outputs": [],
      "source": []
    },
    {
      "cell_type": "markdown",
      "metadata": {
        "id": "zZEh2lJgXcnE"
      },
      "source": [
        "KNN Implemented by ourselves"
      ]
    },
    {
      "cell_type": "code",
      "execution_count": null,
      "metadata": {
        "colab": {
          "base_uri": "https://localhost:8080/"
        },
        "id": "DWSoBdyIldkp",
        "outputId": "f36a83c5-362d-4a36-ac4b-ae6eab18f181"
      },
      "outputs": [
        {
          "name": "stdout",
          "output_type": "stream",
          "text": [
            "Acc for ours in testing dataset: 0.96\n"
          ]
        }
      ],
      "source": [
        "from sklearn.metrics import accuracy_score\n",
        "\n",
        "class knn():\n",
        " def __init__(self,k):\n",
        "     self.k =k\n",
        "     self.neighbor_distances_and_indices = []\n",
        "\n",
        " def distance_f(self, x1,x2):\n",
        "     return np.sqrt(np.sum((x1-x2)**2,axis=-1))\n",
        "     \n",
        "\n",
        " def knn_build(self, x, y):\n",
        "    self.x = x\n",
        "    self.y = y  \n",
        "\n",
        " def predict(self, x_test):\n",
        "    output = []\n",
        "    for ind,query in enumerate(x_test):\n",
        "     #x_ = np.delete(x, ind, axis=0)\n",
        "     #1. calulate the distance\n",
        "     distance = self.distance_f(self.x, query)\n",
        "     #2. find k ids that have smallest distances to the query sample\n",
        "     id = np.argpartition(distance, kth=self.k)[:self.k]\n",
        "     \n",
        "     y_chosen = self.y[id]\n",
        "     #print(distance)\n",
        "     #3. count the most frequent ids as the predicted label.\n",
        "     output.append(np.bincount(y_chosen).argmax())\n",
        "    return output\n",
        "\n",
        "     \n",
        "\n",
        "knn_our = knn(7)\n",
        "knn_our.knn_build(X_train, y_train)\n",
        "our_predict = knn_our.predict(X_test)\n",
        "print('Acc for ours in testing dataset:',accuracy_score(y_test,our_predict))\n",
        "\n",
        "\n",
        "\n"
      ]
    }
  ],
  "metadata": {
    "colab": {
      "collapsed_sections": [
        "oiHKsNKifPWp"
      ],
      "name": "COMP_4331_Tutorial_6.ipynb",
      "provenance": []
    },
    "kernelspec": {
      "display_name": "Python 3",
      "name": "python3"
    },
    "language_info": {
      "codemirror_mode": {
        "name": "ipython",
        "version": 3
      },
      "file_extension": ".py",
      "mimetype": "text/x-python",
      "name": "python",
      "nbconvert_exporter": "python",
      "pygments_lexer": "ipython3",
      "version": "3.9.6"
    }
  },
  "nbformat": 4,
  "nbformat_minor": 0
}
