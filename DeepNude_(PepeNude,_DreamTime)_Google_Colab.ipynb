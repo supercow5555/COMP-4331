{
  "nbformat": 4,
  "nbformat_minor": 0,
  "metadata": {
    "colab": {
      "name": "Copy of DeepNude (PepeNude, DreamTime) Google Colab.ipynb",
      "provenance": [],
      "toc_visible": true,
      "include_colab_link": true
    },
    "kernelspec": {
      "name": "python3",
      "display_name": "Python 3"
    },
    "accelerator": "GPU"
  },
  "cells": [
    {
      "cell_type": "markdown",
      "metadata": {
        "id": "view-in-github",
        "colab_type": "text"
      },
      "source": [
        "<a href=\"https://colab.research.google.com/github/supercow5555/COMP-4331/blob/master/DeepNude_(PepeNude%2C_DreamTime)_Google_Colab.ipynb\" target=\"_parent\"><img src=\"https://colab.research.google.com/assets/colab-badge.svg\" alt=\"Open In Colab\"/></a>"
      ]
    },
    {
      "cell_type": "markdown",
      "metadata": {
        "id": "dJcI3M0oD5bJ"
      },
      "source": [
        "# INIT"
      ]
    },
    {
      "cell_type": "code",
      "metadata": {
        "id": "wtPiOxHQEMwo",
        "cellView": "form"
      },
      "source": [
        "#@title Clonong repo and install requirements\n",
        "!git clone https://github.com/private-dreamnet/dreamtime.git\n",
        "%cd '/content/dreamtime/src/cli/'\n",
        "f=open('run.py','r').read().replace('create_watermark(nude)','nude');open('run.py','w').write(f)\n",
        "!pip install git+https://github.com/jeroenmeulenaar/python3-mega.git\n",
        "!pip install mediafire\n",
        "!pip install -r /content/dreamtime/src/cli/requirements-ubuntu.txt\n",
        "\n",
        "\n"
      ],
      "execution_count": null,
      "outputs": []
    },
    {
      "cell_type": "markdown",
      "metadata": {
        "id": "zwnehE_ln7A4"
      },
      "source": [
        "## I got link here:\n",
        "https://gitgud.io/dreamnet/dreamtime#download-mirrors\n",
        "\n",
        "Also you can find torrent, and manualy upload to Mega\n",
        "\n",
        "\n",
        "\n",
        "---\n",
        "\n",
        "\n",
        "HowToDownload from MediaFire\n",
        "\n",
        "You need copy link from green download button\n",
        "and pase it in \"Direct_Link\".\n",
        "Example domain: http://download813.mediafire.com/...\n",
        "\n",
        "\n",
        "\n",
        "## This step will take a few minutes  ~25 minutes"
      ]
    },
    {
      "cell_type": "code",
      "metadata": {
        "id": "ko9abeEcihFZ",
        "cellView": "form"
      },
      "source": [
        "#@title Download checkpoints (pytorch models  *.lib x3)\n",
        "%cd \"/content/dreamtime/src/cli/\"\n",
        "check_path = '/content/dreamtime/src/cli/checkpoints.zip'\n",
        "\n",
        "\n",
        "MegaNZ_url = \"https://mega.nz/#!3ih2jIgB!EcfD4_K_blnjfNfVmqhV4drrsN_xh4gaMsZzSZIw17s\" #@param {type:\"string\"}\n",
        "Direct_Link = \" \" #@param {type:\"string\"}\n",
        "\n",
        "Download_from = \"MegaNZ\" #@param [\"MegaNZ\", \"DirectLink\"]\n",
        "\n",
        "from pathlib import Path\n",
        "if Path(check_path).exists():\n",
        "  q_delete = input('Already downloaded. Delete zip file? (y)/n')\n",
        "  if q_delete.lower() == 'y':\n",
        "    !rm $check_path\n",
        "\n",
        "if not Path(check_path).exists():\n",
        "  print('Downloading started')\n",
        "  if Download_from == 'MegaNZ':\n",
        "    from mega import Mega\n",
        "    m = Mega.from_ephemeral()\n",
        "    m.download_from_url(MegaNZ_url)\n",
        "\n",
        "\n",
        "\n",
        "  else:\n",
        "    import urllib\n",
        "    urllib.request.urlretrieve ( Direct_Link, \"checkpoints.zip\" )\n",
        "  print('Finished')\n",
        "#пиздец я заебался эту хуйню писать. Надеюсь заработает\n",
        "\n",
        "def unzip(zip_path, dest_path):\n",
        "  unzip_cmd = \" unzip -q \" + zip_path + \" -d \"+dest_path\n",
        "  !$unzip_cmd\n",
        "  print(\"Unziped!\")\n",
        "\n",
        "%cd '/content/dreamtime/src/cli'\n",
        "check_dir_path = '/content/dreamtime/src/cli/checkpoints'\n",
        "\n",
        "from pathlib import Path\n",
        "if Path(check_dir_path).exists():\n",
        "  !mkdir $check_dir_path\n",
        "\n",
        "unzip('checkpoints.zip', 'checkpoints')"
      ],
      "execution_count": null,
      "outputs": []
    },
    {
      "cell_type": "markdown",
      "metadata": {
        "id": "cau5CTZPUu-n"
      },
      "source": [
        "# Photo edit"
      ]
    },
    {
      "cell_type": "code",
      "metadata": {
        "id": "y0TvGuWqN6Kl",
        "cellView": "form"
      },
      "source": [
        "#@title Upload Photo\n",
        "\n",
        "%cd /content/dreamtime/src/cli/\n",
        "\n",
        "from pathlib import Path\n",
        "if not Path('photos').exists():\n",
        "  !mkdir photos\n",
        "\n",
        "if not Path('temp_photos').exists():\n",
        "  !mkdir temp_photos\n",
        "\n",
        "%cd /content/dreamtime/src/cli/temp_photos\n",
        "print('Choose 1 png file')\n",
        "target = 'test'\n",
        "from google.colab import files\n",
        "uploaded = files.upload()\n",
        "\n",
        "for name, bytes_ in uploaded.items():\n",
        "  if name.endswith('.png') or name.endswith('.jpg'):\n",
        "    target=name\n",
        "    break\n",
        "  else:\n",
        "    print('Only image')\n",
        "\n",
        "if target == 'test':\n",
        "  print('Timeout finished. Pls restart and be faster')\n",
        "else:\n",
        "  %matplotlib inline\n",
        "  from IPython.display import display\n",
        "  from PIL import Image, ImageDraw\n",
        "  from ipywidgets import widgets, interact\n",
        "  import matplotlib.pyplot as plt\n",
        "  import numpy as np\n",
        "\n",
        "  image = Image.open(target)\n",
        "  im_w, im_h = image.size\n",
        "  im_w+=int(im_w/2)\n",
        "  im_h+=int(im_h/2)\n",
        "  size = (im_w, im_h)\n",
        "\n",
        "  if size == (512, 512):\n",
        "    print('All right')\n",
        "    image.save('../photos/'+target[:-3]+'png')\n",
        "  else:\n",
        "    print('Pls resize image')\n",
        "    image.thumbnail(size, Image.ANTIALIAS)\n",
        "    background = Image.new('RGBA', size, (255, 255, 255, 0))\n",
        "    background.paste(\n",
        "        image, (int((size[0] - image.size[0]) / 2), int((size[1] - image.size[1]) / 2))\n",
        "    )\n",
        "    image = background\n",
        "\n",
        "    def f(BoxSize, x, y, save=False):\n",
        "      ed_image = image.copy()\n",
        "      draw = ImageDraw.Draw(ed_image)\n",
        "      draw.rectangle([(x, y),\n",
        "                      (x+BoxSize, y+BoxSize)],\n",
        "                     outline='red',\n",
        "                     width=4)\n",
        "      if save:\n",
        "        print('SAVED!')\n",
        "        crop_im = image.copy()\n",
        "        crop_im = crop_im.crop((x,y,x+BoxSize,y+BoxSize))\n",
        "        crop_im = crop_im.resize([512,512], Image.ANTIALIAS)\n",
        "        crop_im.save('../photos/'+target[:-3]+'png')\n",
        "      display_im = ed_image.copy()\n",
        "      display_im.thumbnail((700,700), Image.ANTIALIAS)\n",
        "      display(display_im)\n",
        "\n",
        "    def on_butt_clicked(event):\n",
        "      f(w_box.value,w_x.value,w_y.value,save=True)\n",
        "\n",
        "    w_box = widgets.IntSlider(min=100, max=int(image.size[1]/100*70), value=512)\n",
        "    w_x = widgets.IntSlider(min=0, max=int(image.size[0]/100*70), value=image.size[0]//5)\n",
        "    w_y = widgets.IntSlider(min=0, max=int(image.size[1]/100*70), value=image.size[1]//5)\n",
        "    butt = widgets.Button(description='Save')\n",
        "    butt.on_click(on_butt_clicked)\n",
        "\n",
        "    display(butt)\n",
        "    interact(f,  BoxSize=w_box, x=w_x, y=w_y)"
      ],
      "execution_count": null,
      "outputs": []
    },
    {
      "cell_type": "code",
      "metadata": {
        "id": "Sml5WGa9NeMv",
        "cellView": "form"
      },
      "source": [
        "#@title Upload gif\n",
        "\n",
        "%cd /content/dreamtime/src/cli/\n",
        "\n",
        "from pathlib import Path\n",
        "if not Path('gifs').exists():\n",
        "  !mkdir gifs\n",
        "\n",
        "%cd gifs\n",
        "from google.colab import files\n",
        "files.upload()\n",
        ""
      ],
      "execution_count": null,
      "outputs": []
    },
    {
      "cell_type": "markdown",
      "metadata": {
        "id": "SdrIv5gpjTfw"
      },
      "source": [
        "# SEND NUDES!"
      ]
    },
    {
      "cell_type": "code",
      "metadata": {
        "id": "bzRfBbINVfOW",
        "cellView": "form"
      },
      "source": [
        "#@title Image magic\n",
        "%cd \"/content/dreamtime/src/cli\"\n",
        "\n",
        "\n",
        "path='results'\n",
        "import os\n",
        "if not os.path.exists(path):\n",
        "    os.makedirs(path)\n",
        "\n",
        "from IPython.display import display\n",
        "from ipywidgets import widgets\n",
        "from os import listdir\n",
        "from os.path import isfile, join\n",
        "\n",
        "mypath = '/content/dreamtime/src/cli/photos'\n",
        "onlyfiles = [f for f in listdir(mypath) if isfile(join(mypath, f))]\n",
        "\n",
        "if len(onlyfiles)>0:\n",
        "  filename_ch = widgets.Dropdown(\n",
        "      options=onlyfiles,\n",
        "      description='Choose file:',\n",
        "  )\n",
        "  butt = widgets.Button(description='Start')\n",
        "  def on_butt_clicked(b):\n",
        "      print(filename_ch.value)\n",
        "      %cd '/content/dreamtime/src/cli/'\n",
        "      !python main.py -i \"photos/$filename_ch.value\" -o \"results/$filename_ch.value\" --gpu 0\n",
        "\n",
        "\n",
        "  butt.on_click(on_butt_clicked)\n",
        "  # display\n",
        "  display(widgets.VBox([filename_ch,butt]))\n",
        "else:\n",
        "  print('Upload photo at first')\n",
        ""
      ],
      "execution_count": null,
      "outputs": []
    },
    {
      "cell_type": "code",
      "metadata": {
        "id": "oNP4dIX0_6LH"
      },
      "source": [
        "#@title Gif magic\n",
        "%cd \"/content/dreamtime/src/cli\"\n",
        "\n",
        "\n",
        "path='gifs'\n",
        "import os\n",
        "if not os.path.exists(path):\n",
        "    os.makedirs(path)\n",
        "\n",
        "path='gif_results'\n",
        "if not os.path.exists(path):\n",
        "    os.makedirs(path)\n",
        "\n",
        "from IPython.display import display\n",
        "from ipywidgets import widgets\n",
        "from os import listdir\n",
        "from os.path import isfile, join\n",
        "\n",
        "mypath = '/content/dreamtime/src/cli/gifs'\n",
        "onlyfiles = [f for f in listdir(mypath) if isfile(join(mypath, f))]\n",
        "\n",
        "if len(onlyfiles)>0:\n",
        "  filename_ch = widgets.Dropdown(\n",
        "      options=onlyfiles,\n",
        "      description='Choose gif:',\n",
        "  )\n",
        "  butt = widgets.Button(description='Start')\n",
        "  def on_butt_clicked(b):\n",
        "      print(filename_ch.value)\n",
        "      %cd '/content/dreamtime/src/cli/'\n",
        "      !python main.py -i \"gifs/$filename_ch.value\" -o \"gif_results/$filename_ch.value\" --gpu 0 --gif\n",
        "\n",
        "\n",
        "  butt.on_click(on_butt_clicked)\n",
        "  # display\n",
        "  display(widgets.VBox([filename_ch,butt]))\n",
        "else:\n",
        "  print('Upload gif at first')\n",
        "\n"
      ],
      "execution_count": null,
      "outputs": []
    },
    {
      "cell_type": "markdown",
      "metadata": {
        "id": "STq65Y8NlBSX"
      },
      "source": [
        "#Tools"
      ]
    },
    {
      "cell_type": "code",
      "metadata": {
        "id": "sjrV5MvdpANy"
      },
      "source": [
        "!ls /content/dreamtime/src/cli/temp_photos"
      ],
      "execution_count": null,
      "outputs": []
    },
    {
      "cell_type": "code",
      "metadata": {
        "id": "OxqtO7Yrl4D1",
        "cellView": "form"
      },
      "source": [
        "#@title Crop\n",
        "%cd /content/dreamtime/src/cli/temp_photos\n",
        "target = ' ' #@param {type:\"string\"}\n",
        "%matplotlib inline\n",
        "from IPython.display import display\n",
        "from PIL import Image, ImageDraw\n",
        "from ipywidgets import widgets, interact\n",
        "import matplotlib.pyplot as plt\n",
        "import numpy as np\n",
        "\n",
        "image = Image.open(target)\n",
        "im_w, im_h = image.size\n",
        "im_w+=int(im_w/2)\n",
        "im_h+=int(im_h/2)\n",
        "size = (im_w, im_h)\n",
        "\n",
        "if size == (512, 512):\n",
        "  print('All right')\n",
        "  image.save('../photos/'+target[:-3]+'png')\n",
        "else:\n",
        "  print('Pls resize image')\n",
        "  image.thumbnail(size, Image.ANTIALIAS)\n",
        "  background = Image.new('RGBA', size, (255, 255, 255, 0))\n",
        "  background.paste(\n",
        "      image, (int((size[0] - image.size[0]) / 2), int((size[1] - image.size[1]) / 2))\n",
        "  )\n",
        "  image = background\n",
        "\n",
        "  def f(BoxSize, x, y, save=False):\n",
        "    ed_image = image.copy()\n",
        "    draw = ImageDraw.Draw(ed_image)\n",
        "    draw.rectangle([(x, y),\n",
        "                    (x+BoxSize, y+BoxSize)],\n",
        "                   outline='red',\n",
        "                   width=4)\n",
        "    if save:\n",
        "      print('SAVED!')\n",
        "      crop_im = image.copy()\n",
        "      crop_im = crop_im.crop((x,y,x+BoxSize,y+BoxSize))\n",
        "      crop_im = crop_im.resize([512,512], Image.ANTIALIAS)\n",
        "      crop_im.save('../photos/'+target[:-3]+'png')\n",
        "    display_im = ed_image.copy()\n",
        "    display_im.thumbnail((700,700), Image.ANTIALIAS)\n",
        "    display(display_im)\n",
        "\n",
        "  def on_butt_clicked(event):\n",
        "    f(w_box.value,w_x.value,w_y.value,save=True)\n",
        "\n",
        "  w_box = widgets.IntSlider(min=100, max=int(image.size[1]/100*70), value=512)\n",
        "  w_x = widgets.IntSlider(min=0, max=int(image.size[0]/100*70), value=image.size[0]//5)\n",
        "  w_y = widgets.IntSlider(min=0, max=int(image.size[1]/100*70), value=image.size[1]//5)\n",
        "  butt = widgets.Button(description='Save')\n",
        "  butt.on_click(on_butt_clicked)\n",
        "\n",
        "  display(butt)\n",
        "  interact(f,  BoxSize=w_box, x=w_x, y=w_y)"
      ],
      "execution_count": null,
      "outputs": []
    },
    {
      "cell_type": "code",
      "metadata": {
        "id": "t5DHCX-RqxCI",
        "cellView": "form",
        "outputId": "a3d51fc1-0b44-440a-a2de-2baf650d4e87",
        "colab": {
          "base_uri": "https://localhost:8080/",
          "height": 34
        }
      },
      "source": [
        "#@title Rotate image\n",
        "%cd /content/dreamtime/src/cli/temp_photos\n",
        "target = ' ' #@param {type:\"string\"}\n",
        "ro_deg = -90 #@param {type:\"integer\"}\n",
        "\n",
        "from PIL import Image\n",
        "im_rotate= Image.open(target)\n",
        "im_rotate=im_rotate.rotate(ro_deg,expand=True)\n",
        "im_rotate.save(target)"
      ],
      "execution_count": null,
      "outputs": [
        {
          "output_type": "stream",
          "text": [
            "/content/dreamtime/src/cli/temp_photos\n"
          ],
          "name": "stdout"
        }
      ]
    }
  ]
}